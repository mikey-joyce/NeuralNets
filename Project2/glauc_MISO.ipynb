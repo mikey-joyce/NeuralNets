{
 "cells": [
  {
   "cell_type": "code",
   "execution_count": 1,
   "metadata": {
    "collapsed": true
   },
   "outputs": [],
   "source": [
    "import NetworkArchitectures as nets\n",
    "import torch\n",
    "import torch.nn as nn\n",
    "import torch.optim as optim\n",
    "import os\n",
    "import numpy as np\n",
    "import pandas as pd\n",
    "import matplotlib.pyplot as plt\n",
    "import seaborn as sns\n",
    "from dataset_utils import Format_Dataset\n",
    "from tqdm import tqdm\n",
    "from sklearn.preprocessing import MinMaxScaler\n",
    "from sklearn.metrics import mean_squared_error\n",
    "from sklearn.impute import KNNImputer\n",
    "from sklearn.metrics import confusion_matrix\n",
    "from sklearn.metrics import accuracy_score, precision_score, recall_score, f1_score\n",
    "import itertools"
   ]
  },
  {
   "cell_type": "code",
   "execution_count": 2,
   "outputs": [
    {
     "data": {
      "text/plain": "    RNFL_average  mean_RNFL_thickness  cup_disk_horiz_ratio  \\\n0          25.31                 0.28                 0.464   \n1         110.12                 0.27                 0.707   \n2          92.80                 0.21                 0.681   \n3          76.84                 0.25                 0.694   \n4          53.00                 0.27                 0.821   \n..           ...                  ...                   ...   \n64         62.25                 0.16                 0.654   \n65         75.30                 0.10                 0.840   \n66         53.25                 0.21                 0.929   \n67         65.91                 0.16                 0.969   \n68         93.32                 0.20                 0.543   \n\n    cup_disk_vert_ratio  linear_cup_disc_ratio        Age  RNFL_average  \\\n0                 0.490                   0.50  68.172485         92.95   \n1                 0.598                   0.58  68.501027         90.98   \n2                 0.794                   0.64  58.231348         91.21   \n3                 0.637                   0.62  75.148528         73.12   \n4                 0.705                   0.65  71.887748         54.81   \n..                  ...                    ...        ...           ...   \n64                0.725                   0.32  68.281999         60.57   \n65                0.809                   0.75  34.160164         73.88   \n66                0.866                   0.55  78.880219         51.62   \n67                0.946                   0.73  67.693361         56.82   \n68                0.555                   0.42  73.763176         93.32   \n\n    mean_RNFL_thickness  cup_disk_horiz_ratio  cup_disk_vert_ratio  ...  \\\n0                  0.32                 0.565                0.422  ...   \n1                  0.30                 0.900                0.747  ...   \n2                  0.19                 0.885                0.823  ...   \n3                  0.22                 0.849                0.733  ...   \n4                  0.21                 0.859                0.854  ...   \n..                  ...                   ...                  ...  ...   \n64                 0.18                 0.601                0.734  ...   \n65                 0.05                 0.857                0.819  ...   \n66                 0.21                 0.970                0.818  ...   \n67                 0.19                 0.979                0.860  ...   \n68                 0.20                 0.543                0.555  ...   \n\n    cup_disk_horiz_ratio  cup_disk_vert_ratio  linear_cup_disc_ratio  \\\n0                 0.6052               0.4382                   0.55   \n1                 0.8390               0.6610                   0.61   \n2                 0.7960               0.6920                   0.63   \n3                 0.8600               0.7060                   0.70   \n4                 0.7840               0.8290                   0.70   \n..                   ...                  ...                    ...   \n64                0.6640               0.7640                   0.41   \n65                0.7860               0.7190                   0.82   \n66                0.8740               0.7960                   0.73   \n67                0.9360               0.8760                   0.74   \n68                0.4970               0.4180                   0.42   \n\n          Age  RNFL_average  mean_RNFL_thickness  cup_disk_horiz_ratio  \\\n0   72.016427         95.94                 0.32                 0.549   \n1   71.986311        101.49                 0.30                 0.824   \n2   61.741273         77.40                 0.13                 0.881   \n3   79.321013         94.38                 0.21                 0.585   \n4   75.512663         49.40                 0.39                 0.864   \n..        ...           ...                  ...                   ...   \n64  71.832991         60.26                 0.15                 0.652   \n65  38.182067         78.55                 0.04                 0.790   \n66  82.360027         52.03                 0.17                 0.734   \n67  71.863107         51.75                 0.18                 0.948   \n68  77.240246         94.13                 0.20                 0.433   \n\n    cup_disk_vert_ratio  linear_cup_disc_ratio        Age  \n0                0.5156                   0.55  72.468172  \n1                0.6670                   0.61  72.503765  \n2                0.8940                   0.78  62.642026  \n3                0.6190                   0.73  79.761807  \n4                0.7410                   0.45  75.915127  \n..                  ...                    ...        ...  \n64               0.7700                   0.43  72.490075  \n65               0.7510                   0.82  38.661191  \n66               0.7510                   0.58  82.762491  \n67               0.8900                   0.74  72.361396  \n68               0.4970                   0.44  77.661875  \n\n[69 rows x 54 columns]",
      "text/html": "<div>\n<style scoped>\n    .dataframe tbody tr th:only-of-type {\n        vertical-align: middle;\n    }\n\n    .dataframe tbody tr th {\n        vertical-align: top;\n    }\n\n    .dataframe thead th {\n        text-align: right;\n    }\n</style>\n<table border=\"1\" class=\"dataframe\">\n  <thead>\n    <tr style=\"text-align: right;\">\n      <th></th>\n      <th>RNFL_average</th>\n      <th>mean_RNFL_thickness</th>\n      <th>cup_disk_horiz_ratio</th>\n      <th>cup_disk_vert_ratio</th>\n      <th>linear_cup_disc_ratio</th>\n      <th>Age</th>\n      <th>RNFL_average</th>\n      <th>mean_RNFL_thickness</th>\n      <th>cup_disk_horiz_ratio</th>\n      <th>cup_disk_vert_ratio</th>\n      <th>...</th>\n      <th>cup_disk_horiz_ratio</th>\n      <th>cup_disk_vert_ratio</th>\n      <th>linear_cup_disc_ratio</th>\n      <th>Age</th>\n      <th>RNFL_average</th>\n      <th>mean_RNFL_thickness</th>\n      <th>cup_disk_horiz_ratio</th>\n      <th>cup_disk_vert_ratio</th>\n      <th>linear_cup_disc_ratio</th>\n      <th>Age</th>\n    </tr>\n  </thead>\n  <tbody>\n    <tr>\n      <th>0</th>\n      <td>25.31</td>\n      <td>0.28</td>\n      <td>0.464</td>\n      <td>0.490</td>\n      <td>0.50</td>\n      <td>68.172485</td>\n      <td>92.95</td>\n      <td>0.32</td>\n      <td>0.565</td>\n      <td>0.422</td>\n      <td>...</td>\n      <td>0.6052</td>\n      <td>0.4382</td>\n      <td>0.55</td>\n      <td>72.016427</td>\n      <td>95.94</td>\n      <td>0.32</td>\n      <td>0.549</td>\n      <td>0.5156</td>\n      <td>0.55</td>\n      <td>72.468172</td>\n    </tr>\n    <tr>\n      <th>1</th>\n      <td>110.12</td>\n      <td>0.27</td>\n      <td>0.707</td>\n      <td>0.598</td>\n      <td>0.58</td>\n      <td>68.501027</td>\n      <td>90.98</td>\n      <td>0.30</td>\n      <td>0.900</td>\n      <td>0.747</td>\n      <td>...</td>\n      <td>0.8390</td>\n      <td>0.6610</td>\n      <td>0.61</td>\n      <td>71.986311</td>\n      <td>101.49</td>\n      <td>0.30</td>\n      <td>0.824</td>\n      <td>0.6670</td>\n      <td>0.61</td>\n      <td>72.503765</td>\n    </tr>\n    <tr>\n      <th>2</th>\n      <td>92.80</td>\n      <td>0.21</td>\n      <td>0.681</td>\n      <td>0.794</td>\n      <td>0.64</td>\n      <td>58.231348</td>\n      <td>91.21</td>\n      <td>0.19</td>\n      <td>0.885</td>\n      <td>0.823</td>\n      <td>...</td>\n      <td>0.7960</td>\n      <td>0.6920</td>\n      <td>0.63</td>\n      <td>61.741273</td>\n      <td>77.40</td>\n      <td>0.13</td>\n      <td>0.881</td>\n      <td>0.8940</td>\n      <td>0.78</td>\n      <td>62.642026</td>\n    </tr>\n    <tr>\n      <th>3</th>\n      <td>76.84</td>\n      <td>0.25</td>\n      <td>0.694</td>\n      <td>0.637</td>\n      <td>0.62</td>\n      <td>75.148528</td>\n      <td>73.12</td>\n      <td>0.22</td>\n      <td>0.849</td>\n      <td>0.733</td>\n      <td>...</td>\n      <td>0.8600</td>\n      <td>0.7060</td>\n      <td>0.70</td>\n      <td>79.321013</td>\n      <td>94.38</td>\n      <td>0.21</td>\n      <td>0.585</td>\n      <td>0.6190</td>\n      <td>0.73</td>\n      <td>79.761807</td>\n    </tr>\n    <tr>\n      <th>4</th>\n      <td>53.00</td>\n      <td>0.27</td>\n      <td>0.821</td>\n      <td>0.705</td>\n      <td>0.65</td>\n      <td>71.887748</td>\n      <td>54.81</td>\n      <td>0.21</td>\n      <td>0.859</td>\n      <td>0.854</td>\n      <td>...</td>\n      <td>0.7840</td>\n      <td>0.8290</td>\n      <td>0.70</td>\n      <td>75.512663</td>\n      <td>49.40</td>\n      <td>0.39</td>\n      <td>0.864</td>\n      <td>0.7410</td>\n      <td>0.45</td>\n      <td>75.915127</td>\n    </tr>\n    <tr>\n      <th>...</th>\n      <td>...</td>\n      <td>...</td>\n      <td>...</td>\n      <td>...</td>\n      <td>...</td>\n      <td>...</td>\n      <td>...</td>\n      <td>...</td>\n      <td>...</td>\n      <td>...</td>\n      <td>...</td>\n      <td>...</td>\n      <td>...</td>\n      <td>...</td>\n      <td>...</td>\n      <td>...</td>\n      <td>...</td>\n      <td>...</td>\n      <td>...</td>\n      <td>...</td>\n      <td>...</td>\n    </tr>\n    <tr>\n      <th>64</th>\n      <td>62.25</td>\n      <td>0.16</td>\n      <td>0.654</td>\n      <td>0.725</td>\n      <td>0.32</td>\n      <td>68.281999</td>\n      <td>60.57</td>\n      <td>0.18</td>\n      <td>0.601</td>\n      <td>0.734</td>\n      <td>...</td>\n      <td>0.6640</td>\n      <td>0.7640</td>\n      <td>0.41</td>\n      <td>71.832991</td>\n      <td>60.26</td>\n      <td>0.15</td>\n      <td>0.652</td>\n      <td>0.7700</td>\n      <td>0.43</td>\n      <td>72.490075</td>\n    </tr>\n    <tr>\n      <th>65</th>\n      <td>75.30</td>\n      <td>0.10</td>\n      <td>0.840</td>\n      <td>0.809</td>\n      <td>0.75</td>\n      <td>34.160164</td>\n      <td>73.88</td>\n      <td>0.05</td>\n      <td>0.857</td>\n      <td>0.819</td>\n      <td>...</td>\n      <td>0.7860</td>\n      <td>0.7190</td>\n      <td>0.82</td>\n      <td>38.182067</td>\n      <td>78.55</td>\n      <td>0.04</td>\n      <td>0.790</td>\n      <td>0.7510</td>\n      <td>0.82</td>\n      <td>38.661191</td>\n    </tr>\n    <tr>\n      <th>66</th>\n      <td>53.25</td>\n      <td>0.21</td>\n      <td>0.929</td>\n      <td>0.866</td>\n      <td>0.55</td>\n      <td>78.880219</td>\n      <td>51.62</td>\n      <td>0.21</td>\n      <td>0.970</td>\n      <td>0.818</td>\n      <td>...</td>\n      <td>0.8740</td>\n      <td>0.7960</td>\n      <td>0.73</td>\n      <td>82.360027</td>\n      <td>52.03</td>\n      <td>0.17</td>\n      <td>0.734</td>\n      <td>0.7510</td>\n      <td>0.58</td>\n      <td>82.762491</td>\n    </tr>\n    <tr>\n      <th>67</th>\n      <td>65.91</td>\n      <td>0.16</td>\n      <td>0.969</td>\n      <td>0.946</td>\n      <td>0.73</td>\n      <td>67.693361</td>\n      <td>56.82</td>\n      <td>0.19</td>\n      <td>0.979</td>\n      <td>0.860</td>\n      <td>...</td>\n      <td>0.9360</td>\n      <td>0.8760</td>\n      <td>0.74</td>\n      <td>71.863107</td>\n      <td>51.75</td>\n      <td>0.18</td>\n      <td>0.948</td>\n      <td>0.8900</td>\n      <td>0.74</td>\n      <td>72.361396</td>\n    </tr>\n    <tr>\n      <th>68</th>\n      <td>93.32</td>\n      <td>0.20</td>\n      <td>0.543</td>\n      <td>0.555</td>\n      <td>0.42</td>\n      <td>73.763176</td>\n      <td>93.32</td>\n      <td>0.20</td>\n      <td>0.543</td>\n      <td>0.555</td>\n      <td>...</td>\n      <td>0.4970</td>\n      <td>0.4180</td>\n      <td>0.42</td>\n      <td>77.240246</td>\n      <td>94.13</td>\n      <td>0.20</td>\n      <td>0.433</td>\n      <td>0.4970</td>\n      <td>0.44</td>\n      <td>77.661875</td>\n    </tr>\n  </tbody>\n</table>\n<p>69 rows × 54 columns</p>\n</div>"
     },
     "execution_count": 2,
     "metadata": {},
     "output_type": "execute_result"
    }
   ],
   "source": [
    "igps_dir = 'data/IGPS/'\n",
    "\n",
    "# Let's start with IGPS for training and \"testing\" (really just validation)\n",
    "features = [\n",
    "    'BaselineMD', 'BaselineAGIS', 'MD', 'AGIS_score'\n",
    "]\n",
    "\n",
    "features = [\n",
    "    'RNFL_average', 'mean_RNFL_thickness', 'cup_disk_horiz_ratio', 'cup_disk_vert_ratio', 'linear_cup_disc_ratio', 'Age'\n",
    "]\n",
    "\n",
    "label_names = [\n",
    "    'next_ProgressionStructure'\n",
    "]\n",
    "\n",
    "'''features = [\n",
    "    'next_ProgressionStructure1', 'IOP', 'DBP', 'HR', 'SBP', 'MAP', 'Qmean', 'P1', 'P2', 'P4', 'P5', 'R4', 'R5', 'Age'\n",
    "]'''\n",
    "\n",
    "# load in IGPS\n",
    "igps = None\n",
    "igps_labels = None\n",
    "maxi, count = len(os.listdir(igps_dir)), 0\n",
    "\n",
    "for fn in sorted(os.listdir(igps_dir)):\n",
    "    if fn.endswith('.csv'):\n",
    "        path = os.path.join(igps_dir, fn)\n",
    "\n",
    "        if count == 0:\n",
    "            igps = pd.read_csv(path)[features]  # grab only the features needed\n",
    "            igps_labels = pd.read_csv(path)[label_names]\n",
    "            count += 1\n",
    "            continue\n",
    "\n",
    "        if count == maxi - 2:\n",
    "            df = pd.read_csv(path)[features]\n",
    "            dfl = pd.read_csv(path)[label_names]\n",
    "        else:\n",
    "            df = pd.read_csv(path)[features]\n",
    "            dfl = pd.read_csv(path)[label_names]\n",
    "\n",
    "        igps = pd.concat([igps, df], axis=1)\n",
    "        igps_labels = pd.concat([igps_labels, dfl], axis=1)\n",
    "        count += 1\n",
    "\n",
    "def impute_col_KNN(df, col_name):\n",
    "    col = df[[col_name]]\n",
    "    imputer = KNNImputer(n_neighbors=5)\n",
    "    col = imputer.fit_transform(col)\n",
    "    df[col_name] = col\n",
    "\n",
    "for f in features:\n",
    "    impute_col_KNN(igps, f)\n",
    "\n",
    "igps"
   ],
   "metadata": {
    "collapsed": false
   }
  },
  {
   "cell_type": "code",
   "execution_count": 3,
   "outputs": [
    {
     "name": "stdout",
     "output_type": "stream",
     "text": [
      "(54, 9, 6)\n",
      "(54, 1)\n",
      "(9, 9, 6)\n",
      "(9, 1)\n"
     ]
    }
   ],
   "source": [
    "# Let us start with MIMO\n",
    "n_sequence = 9\n",
    "n_features = len(features)\n",
    "\n",
    "# basically the data set is the first 8 visits, and the label set is the last 8 visits: i.e. labels are offset by 1 from the train and since we are doing MIMO there are labels for each time step\n",
    "igps = igps.to_numpy()\n",
    "igps_labels = igps_labels.to_numpy()\n",
    "\n",
    "# normalize data\n",
    "s = MinMaxScaler()\n",
    "igps = s.fit_transform(igps)\n",
    "\n",
    "X = igps\n",
    "y = igps_labels\n",
    "\n",
    "X = np.reshape(X, (X.shape[0], n_sequence, n_features))\n",
    "y = np.reshape(y, (y.shape[0], n_sequence, 1))\n",
    "\n",
    "train_X, train_y = X[:54], y[:54]\n",
    "valid_X, valid_y = X[54:63], y[54:63]\n",
    "\n",
    "train_y = train_y[:, -1, :]\n",
    "valid_y = valid_y[:, -1, :]\n",
    "\n",
    "print(train_X.shape)\n",
    "print(train_y.shape)\n",
    "print(valid_X.shape)\n",
    "print(valid_y.shape)\n",
    "\n",
    "dataset = {\n",
    "    'samples': train_X,\n",
    "    'labels': train_y\n",
    "}\n",
    "\n",
    "# Input layer\n",
    "train = Format_Dataset(dataset, choice='Train')\n",
    "train = torch.utils.data.DataLoader(shuffle=False, dataset=train, batch_size=n_sequence)"
   ],
   "metadata": {
    "collapsed": false
   }
  },
  {
   "cell_type": "code",
   "execution_count": 4,
   "outputs": [
    {
     "data": {
      "text/plain": "[Parameter containing:\n tensor([[ 1.8887e-01, -1.3883e-01,  1.0941e-01, -1.7137e-01,  1.1291e-01,\n          -1.4112e-01],\n         [-1.9034e-01, -9.6116e-02,  2.6244e-02, -1.6790e-01,  7.5463e-02,\n           5.9602e-02],\n         [ 8.0418e-02,  1.5518e-01,  1.9911e-02,  2.6224e-02,  1.1701e-01,\n           1.8737e-01],\n         [ 1.2774e-01,  2.0620e-02, -1.1234e-01,  1.1470e-01,  4.2546e-02,\n          -1.8081e-01],\n         [-1.7432e-01,  3.7862e-02, -1.8280e-01,  1.6696e-01, -2.9763e-02,\n          -9.7943e-02],\n         [-1.0224e-01,  7.8401e-02,  8.3283e-02, -5.2995e-03,  3.2081e-02,\n          -1.3890e-02],\n         [-2.0251e-01, -1.3600e-01,  1.8476e-01,  1.2742e-02,  1.3540e-01,\n           3.8284e-02],\n         [ 4.6486e-02,  1.6534e-01, -1.8358e-01, -1.1430e-01, -1.8445e-01,\n           7.5005e-02],\n         [-1.7646e-01,  7.1028e-02, -2.8089e-02, -5.9922e-02,  1.3057e-01,\n          -4.2569e-02],\n         [ 1.3561e-01,  1.9826e-01, -1.7349e-03, -1.5623e-01,  2.8643e-02,\n          -1.2551e-01],\n         [ 9.3553e-02,  4.0908e-02, -1.9758e-01,  2.3669e-02,  1.5587e-02,\n           1.6533e-01],\n         [-3.7626e-02,  4.0321e-02,  1.6675e-01,  1.1072e-01,  5.5215e-02,\n           1.2008e-03],\n         [ 1.4743e-04,  9.1481e-02, -1.0723e-02, -1.0003e-01, -4.5464e-03,\n          -1.9901e-01],\n         [-1.4375e-01,  1.3878e-01,  2.0310e-01,  9.1108e-02, -1.2459e-01,\n          -5.2556e-02],\n         [-1.6642e-01,  9.1253e-02,  2.3357e-02, -8.4978e-02, -1.2957e-01,\n           3.2548e-02],\n         [ 1.2907e-01,  1.3604e-01, -8.3630e-02, -6.4666e-02,  1.4569e-01,\n           1.3038e-01],\n         [-1.0961e-01,  1.4452e-01, -1.0926e-01,  2.0280e-01,  1.5753e-01,\n           1.0097e-01],\n         [ 1.0043e-01,  1.2054e-01,  4.4785e-02, -1.8817e-01, -1.8268e-01,\n           1.2020e-01],\n         [-1.1807e-01,  1.1819e-01, -1.0567e-01, -1.5250e-01,  9.6392e-02,\n           1.6238e-01],\n         [ 2.1506e-02,  2.0495e-02,  4.2071e-02, -1.3462e-01, -7.9125e-03,\n          -5.0396e-02],\n         [ 4.4055e-02, -5.0314e-02,  1.9697e-01, -1.5780e-01,  1.6266e-01,\n          -1.8553e-01],\n         [ 1.5344e-01,  1.8359e-01, -1.7903e-01,  8.7861e-02,  3.0083e-02,\n          -2.8871e-02],\n         [-1.2235e-02, -1.3863e-01, -1.9979e-01, -9.4607e-02, -7.5135e-02,\n           4.7557e-03],\n         [-1.0886e-01,  1.4000e-02,  1.1395e-01,  1.6372e-01,  1.0204e-01,\n           1.3401e-01]], requires_grad=True),\n Parameter containing:\n tensor([[ 0.0763,  0.1716,  0.0071, -0.0590, -0.1274,  0.0459,  0.1986, -0.1239,\n           0.2020, -0.1392,  0.0790, -0.1949, -0.0116, -0.0563,  0.1854,  0.0774,\n           0.0267,  0.0654, -0.1798,  0.0256, -0.0282, -0.0752,  0.0876, -0.0985],\n         [-0.0609,  0.1202,  0.1775,  0.0781,  0.0093,  0.0065, -0.1324,  0.1194,\n          -0.1460, -0.1699,  0.0880, -0.0421, -0.0682, -0.1981,  0.1037,  0.1380,\n           0.0810, -0.1794,  0.0600, -0.1757,  0.1466,  0.0250, -0.0916,  0.0399],\n         [ 0.0814, -0.1115,  0.1727, -0.0870, -0.1690,  0.0541, -0.2032,  0.1388,\n          -0.1261, -0.1061, -0.1313, -0.0767,  0.1578,  0.1286,  0.1592,  0.1664,\n           0.0953, -0.1109,  0.0209, -0.0846, -0.1131,  0.0186,  0.0514, -0.0277],\n         [-0.0858, -0.1154, -0.1872,  0.1103, -0.1112,  0.0311,  0.1416,  0.1346,\n          -0.1670,  0.0139, -0.0775, -0.1090, -0.0187,  0.0766,  0.1579,  0.0894,\n          -0.0257,  0.0209,  0.1881, -0.1745,  0.0015,  0.0172, -0.1737,  0.0968],\n         [ 0.0946, -0.0607,  0.0027,  0.1793,  0.2011,  0.1495, -0.0951,  0.0282,\n           0.1425, -0.1098, -0.0291,  0.1375,  0.1563,  0.0035,  0.1819,  0.0577,\n           0.0970, -0.0160,  0.0711, -0.0077,  0.0180, -0.1572,  0.2019, -0.0469],\n         [ 0.0997,  0.0326, -0.0111,  0.1247,  0.1051,  0.0814, -0.2032,  0.0759,\n           0.1284,  0.0736, -0.1819, -0.1539,  0.1659,  0.0440,  0.1828,  0.0974,\n           0.0290,  0.0621, -0.0413,  0.1088, -0.0594, -0.1633,  0.1268,  0.0668],\n         [ 0.1150, -0.0613,  0.0327, -0.1521, -0.0304,  0.1215, -0.1692, -0.1600,\n          -0.0926, -0.1405, -0.0073, -0.0131, -0.0506,  0.1850,  0.0103, -0.0491,\n           0.0239,  0.1513, -0.0088,  0.1259, -0.1835, -0.0032, -0.1784,  0.0678],\n         [-0.1739,  0.1394, -0.0261, -0.1921,  0.1733,  0.0404, -0.0689,  0.0139,\n           0.1652,  0.0337, -0.1386, -0.1230, -0.0855, -0.0677, -0.1826, -0.0508,\n          -0.0434,  0.1441,  0.1693,  0.2033, -0.1385,  0.0678, -0.0404,  0.1138],\n         [ 0.0487, -0.1603, -0.1853, -0.1972,  0.1576, -0.0438, -0.1503, -0.0204,\n           0.1745, -0.1955, -0.1319, -0.0961,  0.1320, -0.1211, -0.1600,  0.0093,\n           0.0996, -0.0116, -0.1459,  0.0192, -0.0767, -0.1199,  0.1801,  0.1493],\n         [-0.1235, -0.1200, -0.1468,  0.0954, -0.0133,  0.1559,  0.0009,  0.1534,\n          -0.0748,  0.0306, -0.0921, -0.0874,  0.0805,  0.1720, -0.1948, -0.0617,\n           0.0705,  0.1388, -0.1553,  0.1316,  0.0863, -0.0134, -0.1466, -0.1246],\n         [ 0.1943, -0.1038,  0.0987, -0.0394, -0.0139,  0.0521,  0.1520,  0.1772,\n          -0.1896, -0.0872, -0.1815,  0.1916, -0.1676,  0.0420,  0.0183, -0.1212,\n           0.1069,  0.1906, -0.1761,  0.0066,  0.0369,  0.1623, -0.0086,  0.1915],\n         [ 0.1254,  0.0759, -0.1479, -0.1791,  0.0901,  0.0280, -0.0868, -0.0516,\n          -0.0532,  0.1230, -0.1771, -0.0698,  0.0157,  0.0326, -0.0833,  0.1201,\n           0.1665, -0.0434,  0.0484, -0.1409, -0.1810, -0.0005,  0.1960, -0.0339],\n         [ 0.0572, -0.1497,  0.0950, -0.1763, -0.0911,  0.1525, -0.1756,  0.1965,\n          -0.1132,  0.1557,  0.2019, -0.1144,  0.0871, -0.0987,  0.1971,  0.0233,\n           0.0713,  0.1905,  0.1819,  0.1236,  0.0259, -0.1565,  0.1672,  0.1596],\n         [ 0.1872, -0.2039,  0.2026,  0.1461, -0.1427,  0.1591,  0.0920,  0.0447,\n           0.0578, -0.0580,  0.1192, -0.1827,  0.0094, -0.0177, -0.0332,  0.0909,\n          -0.1933, -0.0028,  0.0704, -0.1626, -0.0342, -0.1971,  0.1921,  0.0811],\n         [ 0.1078, -0.1306, -0.0785, -0.0805,  0.1943, -0.0106, -0.0658,  0.1430,\n          -0.0627,  0.1690,  0.1376,  0.1057, -0.0531,  0.0267, -0.0648, -0.1918,\n           0.0535, -0.0656,  0.0842, -0.1806, -0.0730,  0.0815, -0.1086, -0.1595],\n         [-0.0490,  0.0576, -0.0348,  0.1716, -0.1007, -0.1011,  0.0841,  0.1918,\n          -0.0671,  0.0820,  0.0196,  0.0241, -0.0692, -0.1971, -0.1101,  0.0859,\n           0.0491, -0.1726, -0.1887, -0.1980, -0.1627, -0.0712,  0.0540,  0.1446],\n         [ 0.0093,  0.1360,  0.1197,  0.1996, -0.0716, -0.1446,  0.0720,  0.0680,\n          -0.0836,  0.0101, -0.0358, -0.1417, -0.0772, -0.0201,  0.1366,  0.0258,\n           0.1560, -0.0032,  0.0180,  0.1362, -0.0852,  0.0945,  0.1889, -0.1010],\n         [-0.1884,  0.1387,  0.1340, -0.2040, -0.0672,  0.0559, -0.1200,  0.0354,\n          -0.1462, -0.1865,  0.1222,  0.1541,  0.1709, -0.1495,  0.0171, -0.0412,\n          -0.0011,  0.1012, -0.1453, -0.1051,  0.0968, -0.1110,  0.0427, -0.0210],\n         [-0.1471, -0.2038, -0.1966,  0.0266,  0.1236,  0.0231,  0.0850,  0.1398,\n           0.1726, -0.0984, -0.0492, -0.0592, -0.1268, -0.1361, -0.1275,  0.1939,\n          -0.0222,  0.1747,  0.1019,  0.1051,  0.0151,  0.1561,  0.1988,  0.0207],\n         [ 0.0600, -0.0393, -0.1243,  0.1091,  0.0173, -0.1154,  0.1481,  0.1549,\n           0.1265,  0.0554, -0.1497, -0.0690, -0.0627,  0.0818,  0.0564, -0.1007,\n          -0.0135, -0.0051, -0.0173, -0.1647,  0.1256, -0.1971,  0.1597,  0.1775],\n         [-0.1807, -0.0921, -0.1277,  0.1451,  0.0170, -0.1196,  0.1718, -0.0632,\n           0.1023, -0.1740,  0.1961, -0.1891, -0.1607, -0.1904,  0.0894, -0.1921,\n          -0.0253, -0.1489,  0.1036,  0.1827, -0.1734, -0.0096,  0.0175, -0.0591],\n         [-0.0135,  0.1343, -0.1592,  0.1400, -0.0342,  0.0802, -0.1912, -0.0252,\n           0.1653, -0.1954, -0.1813,  0.0257,  0.0483,  0.1201, -0.0741,  0.0834,\n           0.1250,  0.1009,  0.0701, -0.1131,  0.0342,  0.1846,  0.0460,  0.1869],\n         [-0.1839,  0.2034,  0.1155,  0.1208,  0.0667,  0.1410,  0.2036, -0.1618,\n           0.1292, -0.1304,  0.1570, -0.1828, -0.1641,  0.1222,  0.0609,  0.1330,\n           0.0797,  0.0377,  0.1340,  0.1218, -0.0724,  0.1297, -0.1902,  0.0732],\n         [ 0.0158,  0.0454, -0.2041, -0.1545,  0.0099,  0.1440,  0.0166, -0.1665,\n           0.0923, -0.1848,  0.0569,  0.1151, -0.0552,  0.0091,  0.0131,  0.1777,\n           0.0035, -0.0309, -0.0891,  0.0552,  0.1098, -0.1835,  0.1081,  0.0008]],\n        requires_grad=True),\n Parameter containing:\n tensor([ 0.1246, -0.0420,  0.1274,  0.0720, -0.0684,  0.0586, -0.1830, -0.1986,\n         -0.1581, -0.1543,  0.0289, -0.0454,  0.1539,  0.0551, -0.1046,  0.0477,\n          0.1215,  0.0886, -0.2010, -0.1574, -0.1979, -0.0721,  0.0948,  0.0756],\n        requires_grad=True),\n Parameter containing:\n tensor([ 0.1608, -0.1112, -0.0206, -0.0825, -0.0075,  0.1777, -0.0573, -0.1831,\n          0.0246, -0.0179, -0.0954,  0.1797, -0.1939,  0.1609,  0.2039, -0.1410,\n         -0.0495,  0.1027, -0.1105,  0.0304, -0.0158, -0.1481, -0.0130, -0.1095],\n        requires_grad=True),\n Parameter containing:\n tensor([[ 0.1299,  0.0066, -0.1195, -0.1930,  0.1965, -0.0886, -0.0310, -0.1815,\n          -0.0700, -0.0688,  0.1822,  0.0695,  0.0224,  0.0690,  0.1844,  0.0545,\n           0.1980,  0.0103, -0.0974,  0.1925,  0.0916, -0.1485, -0.1850, -0.1450]],\n        requires_grad=True),\n Parameter containing:\n tensor([0.0067], requires_grad=True)]"
     },
     "execution_count": 4,
     "metadata": {},
     "output_type": "execute_result"
    }
   ],
   "source": [
    "params = {\n",
    "    'n_in': n_features,\n",
    "    'n_width': 24,\n",
    "    'n_layers': 1,\n",
    "    'n_out': 1,\n",
    "    'mimo': False\n",
    "}\n",
    "\n",
    "model = nets.RNN(**params)\n",
    "loss_fn = nn.BCELoss()\n",
    "adam = optim.Adam(model.parameters(), lr=0.001)\n",
    "\n",
    "list(model.parameters())"
   ],
   "metadata": {
    "collapsed": false
   }
  },
  {
   "cell_type": "code",
   "execution_count": 5,
   "outputs": [
    {
     "name": "stderr",
     "output_type": "stream",
     "text": [
      "Training... : 100%|██████████| 500/500 [00:04<00:00, 123.59it/s]\n"
     ]
    },
    {
     "data": {
      "text/plain": "<Figure size 640x480 with 1 Axes>",
      "image/png": "[encoded data removed]"
     },
     "metadata": {},
     "output_type": "display_data"
    }
   ],
   "source": [
    "epochs = 500\n",
    "\n",
    "loss_vals, cross_vals = [], []\n",
    "for epoch in tqdm(range(epochs), 'Training... '):\n",
    "    temp_loss = []\n",
    "    for samples, labels in train:\n",
    "        samples = samples.float()\n",
    "        output = model(samples)\n",
    "\n",
    "        #print(labels.float())\n",
    "        #print(output)\n",
    "\n",
    "        loss = loss_fn(output, labels.float())\n",
    "\n",
    "        adam.zero_grad()\n",
    "        loss.backward()\n",
    "        adam.step()\n",
    "\n",
    "        temp_loss.append(loss.item())\n",
    "\n",
    "    val = sum(temp_loss[-len(train):]) / len(train)\n",
    "    loss_vals.append(val)\n",
    "\n",
    "plt.plot(loss_vals, label='Training Loss')\n",
    "plt.xlabel('Epoch')\n",
    "plt.ylabel('Loss')\n",
    "plt.title('Model Training Loss Over Time; IGPS')\n",
    "plt.legend()\n",
    "# plt.savefig(results_dir + 'loss.png', dpi=900)\n",
    "plt.show()"
   ],
   "metadata": {
    "collapsed": false
   }
  },
  {
   "cell_type": "code",
   "execution_count": 6,
   "outputs": [
    {
     "name": "stdout",
     "output_type": "stream",
     "text": [
      "(9, 9, 6)\n",
      "[1, 1, 1, 0, 1, 1, 0, 0, 1]\n"
     ]
    }
   ],
   "source": [
    "model.eval()\n",
    "\n",
    "X = valid_X\n",
    "X = X.astype('float32')\n",
    "with torch.no_grad():\n",
    "    print(X.shape)\n",
    "    out = model(torch.tensor(X)).detach().numpy()\n",
    "\n",
    "preds = (torch.from_numpy(out) > 0.5).float()\n",
    "\n",
    "truth = valid_y.tolist()\n",
    "preds = preds.tolist()\n",
    "\n",
    "truth = list(itertools.chain.from_iterable(truth))\n",
    "preds = list(itertools.chain.from_iterable(preds))\n",
    "\n",
    "print(truth)"
   ],
   "metadata": {
    "collapsed": false
   }
  },
  {
   "cell_type": "code",
   "execution_count": 7,
   "outputs": [
    {
     "name": "stdout",
     "output_type": "stream",
     "text": [
      "Accuracy Score: 0.4444444444444444\n",
      "Precision Score: 0.5714285714285714\n",
      "Recall Score: 0.6666666666666666\n",
      "F1 Score:  0.6153846153846153\n"
     ]
    },
    {
     "data": {
      "text/plain": "<Figure size 640x480 with 1 Axes>",
      "image/png": "[encoded data removed]"
     },
     "metadata": {},
     "output_type": "display_data"
    }
   ],
   "source": [
    "cm = confusion_matrix(truth, preds)\n",
    "\n",
    "accuracy = accuracy_score(truth, preds)\n",
    "print(\"Accuracy Score:\", accuracy)\n",
    "\n",
    "precision = precision_score(truth, preds)\n",
    "print(\"Precision Score:\", precision)\n",
    "\n",
    "recall = recall_score(truth, preds)\n",
    "print(\"Recall Score:\", recall)\n",
    "\n",
    "f1 = f1_score(truth, preds)\n",
    "print(\"F1 Score: \", f1)\n",
    "\n",
    "sns.heatmap(cm, annot=True, cmap='Blues', fmt='g', cbar=False)\n",
    "plt.xlabel('Predicted labels')\n",
    "plt.ylabel('True labels')\n",
    "plt.title('Confusion Matrix')\n",
    "plt.savefig('results/RNN_MISO/base_struc_cm.png', dpi=900)\n",
    "plt.show()"
   ],
   "metadata": {
    "collapsed": false
   }
  },
  {
   "cell_type": "code",
   "execution_count": 8,
   "outputs": [
    {
     "name": "stdout",
     "output_type": "stream",
     "text": [
      "1\n",
      "1\n"
     ]
    },
    {
     "name": "stderr",
     "output_type": "stream",
     "text": [
      "Training... : 100%|██████████| 500/500 [00:03<00:00, 147.57it/s]\n"
     ]
    },
    {
     "name": "stdout",
     "output_type": "stream",
     "text": [
      "[1.0, 1.0, 1.0, 1.0, 1.0, 1.0, 1.0, 1.0, 1.0]\n",
      "F1 + Acc:  1.4666666666666668\n",
      "1\n",
      "3\n"
     ]
    },
    {
     "name": "stderr",
     "output_type": "stream",
     "text": [
      "Training... : 100%|██████████| 500/500 [00:03<00:00, 140.52it/s]\n"
     ]
    },
    {
     "name": "stdout",
     "output_type": "stream",
     "text": [
      "[1.0, 1.0, 1.0, 1.0, 1.0, 1.0, 1.0, 1.0, 1.0]\n",
      "F1 + Acc:  1.4666666666666668\n",
      "1\n",
      "5\n"
     ]
    },
    {
     "name": "stderr",
     "output_type": "stream",
     "text": [
      "Training... : 100%|██████████| 500/500 [00:03<00:00, 137.77it/s]\n"
     ]
    },
    {
     "name": "stdout",
     "output_type": "stream",
     "text": [
      "[1.0, 1.0, 1.0, 1.0, 1.0, 1.0, 1.0, 1.0, 1.0]\n",
      "F1 + Acc:  1.4666666666666668\n",
      "1\n",
      "7\n"
     ]
    },
    {
     "name": "stderr",
     "output_type": "stream",
     "text": [
      "Training... : 100%|██████████| 500/500 [00:03<00:00, 130.09it/s]\n"
     ]
    },
    {
     "name": "stdout",
     "output_type": "stream",
     "text": [
      "[0.0, 1.0, 1.0, 1.0, 1.0, 1.0, 1.0, 1.0, 1.0]\n",
      "F1 + Acc:  1.2698412698412698\n",
      "1\n",
      "9\n"
     ]
    },
    {
     "name": "stderr",
     "output_type": "stream",
     "text": [
      "Training... : 100%|██████████| 500/500 [00:04<00:00, 123.55it/s]\n"
     ]
    },
    {
     "name": "stdout",
     "output_type": "stream",
     "text": [
      "[0.0, 1.0, 1.0, 1.0, 1.0, 0.0, 1.0, 1.0, 1.0]\n",
      "F1 + Acc:  1.0598290598290596\n",
      "1\n",
      "11\n"
     ]
    },
    {
     "name": "stderr",
     "output_type": "stream",
     "text": [
      "Training... : 100%|██████████| 500/500 [00:04<00:00, 119.95it/s]\n"
     ]
    },
    {
     "name": "stdout",
     "output_type": "stream",
     "text": [
      "[0.0, 1.0, 1.0, 1.0, 1.0, 0.0, 1.0, 1.0, 0.0]\n",
      "F1 + Acc:  0.8333333333333333\n",
      "1\n",
      "13\n"
     ]
    },
    {
     "name": "stderr",
     "output_type": "stream",
     "text": [
      "Training... : 100%|██████████| 500/500 [00:04<00:00, 111.27it/s]\n"
     ]
    },
    {
     "name": "stdout",
     "output_type": "stream",
     "text": [
      "[0.0, 1.0, 1.0, 1.0, 1.0, 0.0, 1.0, 1.0, 0.0]\n",
      "F1 + Acc:  0.8333333333333333\n",
      "1\n",
      "15\n"
     ]
    },
    {
     "name": "stderr",
     "output_type": "stream",
     "text": [
      "Training... : 100%|██████████| 500/500 [00:04<00:00, 112.70it/s]\n"
     ]
    },
    {
     "name": "stdout",
     "output_type": "stream",
     "text": [
      "[0.0, 1.0, 1.0, 1.0, 1.0, 0.0, 1.0, 1.0, 0.0]\n",
      "F1 + Acc:  0.8333333333333333\n",
      "1\n",
      "17\n"
     ]
    },
    {
     "name": "stderr",
     "output_type": "stream",
     "text": [
      "Training... : 100%|██████████| 500/500 [00:04<00:00, 110.65it/s]\n"
     ]
    },
    {
     "name": "stdout",
     "output_type": "stream",
     "text": [
      "[0.0, 1.0, 1.0, 1.0, 1.0, 0.0, 1.0, 1.0, 0.0]\n",
      "F1 + Acc:  0.8333333333333333\n",
      "1\n",
      "19\n"
     ]
    },
    {
     "name": "stderr",
     "output_type": "stream",
     "text": [
      "Training... : 100%|██████████| 500/500 [00:03<00:00, 126.22it/s]\n"
     ]
    },
    {
     "name": "stdout",
     "output_type": "stream",
     "text": [
      "[0.0, 1.0, 1.0, 1.0, 1.0, 1.0, 1.0, 1.0, 1.0]\n",
      "F1 + Acc:  1.2698412698412698\n",
      "1\n",
      "21\n"
     ]
    },
    {
     "name": "stderr",
     "output_type": "stream",
     "text": [
      "Training... : 100%|██████████| 500/500 [00:03<00:00, 133.14it/s]\n"
     ]
    },
    {
     "name": "stdout",
     "output_type": "stream",
     "text": [
      "[0.0, 1.0, 1.0, 1.0, 1.0, 0.0, 1.0, 0.0, 0.0]\n",
      "F1 + Acc:  0.9898989898989898\n",
      "1\n",
      "23\n"
     ]
    },
    {
     "name": "stderr",
     "output_type": "stream",
     "text": [
      "Training... : 100%|██████████| 500/500 [00:03<00:00, 133.24it/s]\n"
     ]
    },
    {
     "name": "stdout",
     "output_type": "stream",
     "text": [
      "[0.0, 1.0, 1.0, 1.0, 1.0, 1.0, 1.0, 1.0, 1.0]\n",
      "F1 + Acc:  1.2698412698412698\n",
      "1\n",
      "25\n"
     ]
    },
    {
     "name": "stderr",
     "output_type": "stream",
     "text": [
      "Training... : 100%|██████████| 500/500 [00:03<00:00, 134.43it/s]\n"
     ]
    },
    {
     "name": "stdout",
     "output_type": "stream",
     "text": [
      "[0.0, 1.0, 1.0, 1.0, 1.0, 0.0, 1.0, 1.0, 0.0]\n",
      "F1 + Acc:  0.8333333333333333\n",
      "1\n",
      "27\n"
     ]
    },
    {
     "name": "stderr",
     "output_type": "stream",
     "text": [
      "Training... : 100%|██████████| 500/500 [00:03<00:00, 135.88it/s]\n"
     ]
    },
    {
     "name": "stdout",
     "output_type": "stream",
     "text": [
      "[0.0, 1.0, 1.0, 1.0, 1.0, 0.0, 1.0, 1.0, 1.0]\n",
      "F1 + Acc:  1.0598290598290596\n",
      "1\n",
      "29\n"
     ]
    },
    {
     "name": "stderr",
     "output_type": "stream",
     "text": [
      "Training... : 100%|██████████| 500/500 [00:03<00:00, 138.32it/s]\n"
     ]
    },
    {
     "name": "stdout",
     "output_type": "stream",
     "text": [
      "[0.0, 1.0, 1.0, 1.0, 1.0, 0.0, 1.0, 1.0, 1.0]\n",
      "F1 + Acc:  1.0598290598290596\n",
      "1\n",
      "31\n"
     ]
    },
    {
     "name": "stderr",
     "output_type": "stream",
     "text": [
      "Training... : 100%|██████████| 500/500 [00:04<00:00, 116.76it/s]\n"
     ]
    },
    {
     "name": "stdout",
     "output_type": "stream",
     "text": [
      "[0.0, 1.0, 1.0, 1.0, 1.0, 1.0, 1.0, 1.0, 0.0]\n",
      "F1 + Acc:  1.0598290598290596\n",
      "1\n",
      "33\n"
     ]
    },
    {
     "name": "stderr",
     "output_type": "stream",
     "text": [
      "Training... : 100%|██████████| 500/500 [00:04<00:00, 108.22it/s]\n"
     ]
    },
    {
     "name": "stdout",
     "output_type": "stream",
     "text": [
      "[0.0, 1.0, 1.0, 1.0, 1.0, 0.0, 1.0, 0.0, 1.0]\n",
      "F1 + Acc:  1.2222222222222223\n",
      "1\n",
      "35\n"
     ]
    },
    {
     "name": "stderr",
     "output_type": "stream",
     "text": [
      "Training... : 100%|██████████| 500/500 [00:04<00:00, 109.82it/s]\n"
     ]
    },
    {
     "name": "stdout",
     "output_type": "stream",
     "text": [
      "[0.0, 1.0, 1.0, 1.0, 1.0, 0.0, 1.0, 1.0, 1.0]\n",
      "F1 + Acc:  1.0598290598290596\n",
      "1\n",
      "37\n"
     ]
    },
    {
     "name": "stderr",
     "output_type": "stream",
     "text": [
      "Training... : 100%|██████████| 500/500 [00:04<00:00, 120.07it/s]\n"
     ]
    },
    {
     "name": "stdout",
     "output_type": "stream",
     "text": [
      "[0.0, 1.0, 1.0, 1.0, 1.0, 0.0, 0.0, 1.0, 1.0]\n",
      "F1 + Acc:  1.2222222222222223\n",
      "1\n",
      "39\n"
     ]
    },
    {
     "name": "stderr",
     "output_type": "stream",
     "text": [
      "Training... : 100%|██████████| 500/500 [00:04<00:00, 117.51it/s]\n"
     ]
    },
    {
     "name": "stdout",
     "output_type": "stream",
     "text": [
      "[0.0, 1.0, 1.0, 1.0, 1.0, 0.0, 1.0, 1.0, 1.0]\n",
      "F1 + Acc:  1.0598290598290596\n",
      "1\n",
      "41\n"
     ]
    },
    {
     "name": "stderr",
     "output_type": "stream",
     "text": [
      "Training... : 100%|██████████| 500/500 [00:04<00:00, 124.28it/s]\n"
     ]
    },
    {
     "name": "stdout",
     "output_type": "stream",
     "text": [
      "[0.0, 1.0, 1.0, 1.0, 1.0, 0.0, 0.0, 1.0, 1.0]\n",
      "F1 + Acc:  1.2222222222222223\n",
      "1\n",
      "43\n"
     ]
    },
    {
     "name": "stderr",
     "output_type": "stream",
     "text": [
      "Training... : 100%|██████████| 500/500 [00:03<00:00, 131.20it/s]\n"
     ]
    },
    {
     "name": "stdout",
     "output_type": "stream",
     "text": [
      "[0.0, 1.0, 1.0, 1.0, 1.0, 1.0, 1.0, 1.0, 1.0]\n",
      "F1 + Acc:  1.2698412698412698\n",
      "1\n",
      "45\n"
     ]
    },
    {
     "name": "stderr",
     "output_type": "stream",
     "text": [
      "Training... : 100%|██████████| 500/500 [00:03<00:00, 132.79it/s]\n"
     ]
    },
    {
     "name": "stdout",
     "output_type": "stream",
     "text": [
      "[0.0, 1.0, 1.0, 1.0, 1.0, 0.0, 1.0, 1.0, 1.0]\n",
      "F1 + Acc:  1.0598290598290596\n",
      "1\n",
      "47\n"
     ]
    },
    {
     "name": "stderr",
     "output_type": "stream",
     "text": [
      "Training... : 100%|██████████| 500/500 [00:03<00:00, 134.59it/s]\n"
     ]
    },
    {
     "name": "stdout",
     "output_type": "stream",
     "text": [
      "[0.0, 1.0, 1.0, 1.0, 1.0, 0.0, 1.0, 1.0, 1.0]\n",
      "F1 + Acc:  1.0598290598290596\n",
      "1\n",
      "49\n"
     ]
    },
    {
     "name": "stderr",
     "output_type": "stream",
     "text": [
      "Training... : 100%|██████████| 500/500 [00:03<00:00, 137.85it/s]\n"
     ]
    },
    {
     "name": "stdout",
     "output_type": "stream",
     "text": [
      "[0.0, 1.0, 1.0, 1.0, 1.0, 0.0, 1.0, 1.0, 1.0]\n",
      "F1 + Acc:  1.0598290598290596\n",
      "1\n",
      "51\n"
     ]
    },
    {
     "name": "stderr",
     "output_type": "stream",
     "text": [
      "Training... : 100%|██████████| 500/500 [00:03<00:00, 134.21it/s]\n"
     ]
    },
    {
     "name": "stdout",
     "output_type": "stream",
     "text": [
      "[0.0, 1.0, 1.0, 1.0, 1.0, 0.0, 1.0, 1.0, 1.0]\n",
      "F1 + Acc:  1.0598290598290596\n",
      "1\n",
      "53\n"
     ]
    },
    {
     "name": "stderr",
     "output_type": "stream",
     "text": [
      "Training... : 100%|██████████| 500/500 [00:03<00:00, 135.53it/s]\n"
     ]
    },
    {
     "name": "stdout",
     "output_type": "stream",
     "text": [
      "[0.0, 1.0, 1.0, 1.0, 1.0, 0.0, 1.0, 1.0, 1.0]\n",
      "F1 + Acc:  1.0598290598290596\n",
      "1\n",
      "55\n"
     ]
    },
    {
     "name": "stderr",
     "output_type": "stream",
     "text": [
      "Training... : 100%|██████████| 500/500 [00:03<00:00, 137.08it/s]\n"
     ]
    },
    {
     "name": "stdout",
     "output_type": "stream",
     "text": [
      "[0.0, 1.0, 1.0, 1.0, 1.0, 0.0, 1.0, 1.0, 1.0]\n",
      "F1 + Acc:  1.0598290598290596\n",
      "1\n",
      "57\n"
     ]
    },
    {
     "name": "stderr",
     "output_type": "stream",
     "text": [
      "Training... : 100%|██████████| 500/500 [00:03<00:00, 136.14it/s]\n"
     ]
    },
    {
     "name": "stdout",
     "output_type": "stream",
     "text": [
      "[0.0, 1.0, 1.0, 1.0, 1.0, 0.0, 1.0, 1.0, 1.0]\n",
      "F1 + Acc:  1.0598290598290596\n",
      "1\n",
      "59\n"
     ]
    },
    {
     "name": "stderr",
     "output_type": "stream",
     "text": [
      "Training... : 100%|██████████| 500/500 [00:03<00:00, 133.23it/s]\n"
     ]
    },
    {
     "name": "stdout",
     "output_type": "stream",
     "text": [
      "[0.0, 1.0, 1.0, 1.0, 1.0, 0.0, 1.0, 1.0, 1.0]\n",
      "F1 + Acc:  1.0598290598290596\n",
      "1\n",
      "61\n"
     ]
    },
    {
     "name": "stderr",
     "output_type": "stream",
     "text": [
      "Training... : 100%|██████████| 500/500 [00:03<00:00, 132.94it/s]\n"
     ]
    },
    {
     "name": "stdout",
     "output_type": "stream",
     "text": [
      "[0.0, 1.0, 1.0, 1.0, 1.0, 0.0, 1.0, 1.0, 1.0]\n",
      "F1 + Acc:  1.0598290598290596\n",
      "1\n",
      "63\n"
     ]
    },
    {
     "name": "stderr",
     "output_type": "stream",
     "text": [
      "Training... : 100%|██████████| 500/500 [00:03<00:00, 129.37it/s]\n"
     ]
    },
    {
     "name": "stdout",
     "output_type": "stream",
     "text": [
      "[0.0, 1.0, 1.0, 1.0, 1.0, 0.0, 1.0, 1.0, 1.0]\n",
      "F1 + Acc:  1.0598290598290596\n",
      "1\n",
      "65\n"
     ]
    },
    {
     "name": "stderr",
     "output_type": "stream",
     "text": [
      "Training... : 100%|██████████| 500/500 [00:03<00:00, 127.60it/s]\n"
     ]
    },
    {
     "name": "stdout",
     "output_type": "stream",
     "text": [
      "[0.0, 1.0, 1.0, 1.0, 1.0, 0.0, 1.0, 1.0, 1.0]\n",
      "F1 + Acc:  1.0598290598290596\n",
      "1\n",
      "67\n"
     ]
    },
    {
     "name": "stderr",
     "output_type": "stream",
     "text": [
      "Training... : 100%|██████████| 500/500 [00:03<00:00, 126.57it/s]\n"
     ]
    },
    {
     "name": "stdout",
     "output_type": "stream",
     "text": [
      "[0.0, 1.0, 1.0, 1.0, 1.0, 0.0, 1.0, 1.0, 1.0]\n",
      "F1 + Acc:  1.0598290598290596\n",
      "1\n",
      "69\n"
     ]
    },
    {
     "name": "stderr",
     "output_type": "stream",
     "text": [
      "Training... : 100%|██████████| 500/500 [00:03<00:00, 125.87it/s]\n"
     ]
    },
    {
     "name": "stdout",
     "output_type": "stream",
     "text": [
      "[0.0, 1.0, 1.0, 1.0, 1.0, 0.0, 1.0, 1.0, 1.0]\n",
      "F1 + Acc:  1.0598290598290596\n",
      "1\n",
      "71\n"
     ]
    },
    {
     "name": "stderr",
     "output_type": "stream",
     "text": [
      "Training... : 100%|██████████| 500/500 [00:03<00:00, 125.81it/s]\n"
     ]
    },
    {
     "name": "stdout",
     "output_type": "stream",
     "text": [
      "[0.0, 1.0, 1.0, 1.0, 1.0, 0.0, 1.0, 1.0, 1.0]\n",
      "F1 + Acc:  1.0598290598290596\n",
      "1\n",
      "73\n"
     ]
    },
    {
     "name": "stderr",
     "output_type": "stream",
     "text": [
      "Training... : 100%|██████████| 500/500 [00:04<00:00, 121.31it/s]\n"
     ]
    },
    {
     "name": "stdout",
     "output_type": "stream",
     "text": [
      "[0.0, 1.0, 1.0, 1.0, 1.0, 0.0, 1.0, 1.0, 1.0]\n",
      "F1 + Acc:  1.0598290598290596\n",
      "1\n",
      "75\n"
     ]
    },
    {
     "name": "stderr",
     "output_type": "stream",
     "text": [
      "Training... : 100%|██████████| 500/500 [00:04<00:00, 120.12it/s]\n"
     ]
    },
    {
     "name": "stdout",
     "output_type": "stream",
     "text": [
      "[0.0, 1.0, 1.0, 1.0, 1.0, 0.0, 1.0, 1.0, 1.0]\n",
      "F1 + Acc:  1.0598290598290596\n",
      "1\n",
      "77\n"
     ]
    },
    {
     "name": "stderr",
     "output_type": "stream",
     "text": [
      "Training... : 100%|██████████| 500/500 [00:04<00:00, 119.58it/s]\n"
     ]
    },
    {
     "name": "stdout",
     "output_type": "stream",
     "text": [
      "[0.0, 1.0, 1.0, 1.0, 1.0, 0.0, 0.0, 1.0, 1.0]\n",
      "F1 + Acc:  1.2222222222222223\n",
      "1\n",
      "79\n"
     ]
    },
    {
     "name": "stderr",
     "output_type": "stream",
     "text": [
      "Training... : 100%|██████████| 500/500 [00:04<00:00, 119.68it/s]\n"
     ]
    },
    {
     "name": "stdout",
     "output_type": "stream",
     "text": [
      "[0.0, 1.0, 1.0, 1.0, 1.0, 0.0, 1.0, 1.0, 1.0]\n",
      "F1 + Acc:  1.0598290598290596\n",
      "1\n",
      "81\n"
     ]
    },
    {
     "name": "stderr",
     "output_type": "stream",
     "text": [
      "Training... : 100%|██████████| 500/500 [00:04<00:00, 121.24it/s]\n"
     ]
    },
    {
     "name": "stdout",
     "output_type": "stream",
     "text": [
      "[0.0, 1.0, 1.0, 1.0, 1.0, 0.0, 1.0, 1.0, 1.0]\n",
      "F1 + Acc:  1.0598290598290596\n",
      "1\n",
      "83\n"
     ]
    },
    {
     "name": "stderr",
     "output_type": "stream",
     "text": [
      "Training... : 100%|██████████| 500/500 [00:04<00:00, 120.25it/s]\n"
     ]
    },
    {
     "name": "stdout",
     "output_type": "stream",
     "text": [
      "[0.0, 1.0, 1.0, 1.0, 1.0, 0.0, 1.0, 1.0, 1.0]\n",
      "F1 + Acc:  1.0598290598290596\n",
      "1\n",
      "85\n"
     ]
    },
    {
     "name": "stderr",
     "output_type": "stream",
     "text": [
      "Training... : 100%|██████████| 500/500 [00:04<00:00, 120.54it/s]\n"
     ]
    },
    {
     "name": "stdout",
     "output_type": "stream",
     "text": [
      "[0.0, 1.0, 1.0, 1.0, 1.0, 0.0, 1.0, 1.0, 1.0]\n",
      "F1 + Acc:  1.0598290598290596\n",
      "1\n",
      "87\n"
     ]
    },
    {
     "name": "stderr",
     "output_type": "stream",
     "text": [
      "Training... : 100%|██████████| 500/500 [00:04<00:00, 118.03it/s]\n"
     ]
    },
    {
     "name": "stdout",
     "output_type": "stream",
     "text": [
      "[0.0, 1.0, 1.0, 1.0, 1.0, 0.0, 1.0, 1.0, 1.0]\n",
      "F1 + Acc:  1.0598290598290596\n",
      "1\n",
      "89\n"
     ]
    },
    {
     "name": "stderr",
     "output_type": "stream",
     "text": [
      "Training... : 100%|██████████| 500/500 [00:04<00:00, 114.37it/s]\n"
     ]
    },
    {
     "name": "stdout",
     "output_type": "stream",
     "text": [
      "[0.0, 1.0, 1.0, 1.0, 1.0, 0.0, 1.0, 1.0, 1.0]\n",
      "F1 + Acc:  1.0598290598290596\n",
      "1\n",
      "91\n"
     ]
    },
    {
     "name": "stderr",
     "output_type": "stream",
     "text": [
      "Training... : 100%|██████████| 500/500 [00:04<00:00, 111.21it/s]\n"
     ]
    },
    {
     "name": "stdout",
     "output_type": "stream",
     "text": [
      "[0.0, 1.0, 1.0, 1.0, 1.0, 0.0, 1.0, 1.0, 1.0]\n",
      "F1 + Acc:  1.0598290598290596\n",
      "1\n",
      "93\n"
     ]
    },
    {
     "name": "stderr",
     "output_type": "stream",
     "text": [
      "Training... : 100%|██████████| 500/500 [00:04<00:00, 110.36it/s]\n"
     ]
    },
    {
     "name": "stdout",
     "output_type": "stream",
     "text": [
      "[0.0, 1.0, 1.0, 1.0, 1.0, 0.0, 1.0, 1.0, 1.0]\n",
      "F1 + Acc:  1.0598290598290596\n",
      "1\n",
      "95\n"
     ]
    },
    {
     "name": "stderr",
     "output_type": "stream",
     "text": [
      "Training... : 100%|██████████| 500/500 [00:04<00:00, 109.35it/s]\n"
     ]
    },
    {
     "name": "stdout",
     "output_type": "stream",
     "text": [
      "[0.0, 1.0, 1.0, 1.0, 1.0, 0.0, 1.0, 1.0, 1.0]\n",
      "F1 + Acc:  1.0598290598290596\n",
      "1\n",
      "97\n"
     ]
    },
    {
     "name": "stderr",
     "output_type": "stream",
     "text": [
      "Training... : 100%|██████████| 500/500 [00:04<00:00, 110.73it/s]\n"
     ]
    },
    {
     "name": "stdout",
     "output_type": "stream",
     "text": [
      "[0.0, 1.0, 1.0, 1.0, 1.0, 0.0, 0.0, 1.0, 1.0]\n",
      "F1 + Acc:  1.2222222222222223\n",
      "1\n",
      "99\n"
     ]
    },
    {
     "name": "stderr",
     "output_type": "stream",
     "text": [
      "Training... : 100%|██████████| 500/500 [00:04<00:00, 110.88it/s]\n"
     ]
    },
    {
     "name": "stdout",
     "output_type": "stream",
     "text": [
      "[0.0, 1.0, 1.0, 1.0, 1.0, 0.0, 1.0, 1.0, 1.0]\n",
      "F1 + Acc:  1.0598290598290596\n",
      "2\n",
      "1\n"
     ]
    },
    {
     "name": "stderr",
     "output_type": "stream",
     "text": [
      "Training... : 100%|██████████| 500/500 [00:05<00:00, 85.97it/s]\n"
     ]
    },
    {
     "name": "stdout",
     "output_type": "stream",
     "text": [
      "[1.0, 1.0, 1.0, 1.0, 1.0, 1.0, 1.0, 1.0, 1.0]\n",
      "F1 + Acc:  1.4666666666666668\n",
      "2\n",
      "3\n"
     ]
    },
    {
     "name": "stderr",
     "output_type": "stream",
     "text": [
      "Training... : 100%|██████████| 500/500 [00:06<00:00, 78.72it/s]\n"
     ]
    },
    {
     "name": "stdout",
     "output_type": "stream",
     "text": [
      "[1.0, 1.0, 1.0, 1.0, 1.0, 1.0, 1.0, 1.0, 1.0]\n",
      "F1 + Acc:  1.4666666666666668\n",
      "2\n",
      "5\n"
     ]
    },
    {
     "name": "stderr",
     "output_type": "stream",
     "text": [
      "Training... : 100%|██████████| 500/500 [00:06<00:00, 80.97it/s]\n"
     ]
    },
    {
     "name": "stdout",
     "output_type": "stream",
     "text": [
      "[0.0, 1.0, 1.0, 1.0, 0.0, 1.0, 1.0, 1.0, 1.0]\n",
      "F1 + Acc:  1.0598290598290596\n",
      "2\n",
      "7\n"
     ]
    },
    {
     "name": "stderr",
     "output_type": "stream",
     "text": [
      "Training... : 100%|██████████| 500/500 [00:05<00:00, 83.71it/s]\n"
     ]
    },
    {
     "name": "stdout",
     "output_type": "stream",
     "text": [
      "[1.0, 1.0, 1.0, 1.0, 0.0, 1.0, 1.0, 1.0, 1.0]\n",
      "F1 + Acc:  1.2698412698412698\n",
      "2\n",
      "9\n"
     ]
    },
    {
     "name": "stderr",
     "output_type": "stream",
     "text": [
      "Training... : 100%|██████████| 500/500 [00:06<00:00, 81.03it/s]\n"
     ]
    },
    {
     "name": "stdout",
     "output_type": "stream",
     "text": [
      "[0.0, 1.0, 1.0, 1.0, 1.0, 1.0, 1.0, 0.0, 0.0]\n",
      "F1 + Acc:  1.2222222222222223\n",
      "2\n",
      "11\n"
     ]
    },
    {
     "name": "stderr",
     "output_type": "stream",
     "text": [
      "Training... : 100%|██████████| 500/500 [00:05<00:00, 84.70it/s]\n"
     ]
    },
    {
     "name": "stdout",
     "output_type": "stream",
     "text": [
      "[0.0, 1.0, 1.0, 1.0, 1.0, 0.0, 1.0, 1.0, 0.0]\n",
      "F1 + Acc:  0.8333333333333333\n",
      "2\n",
      "13\n"
     ]
    },
    {
     "name": "stderr",
     "output_type": "stream",
     "text": [
      "Training... : 100%|██████████| 500/500 [00:05<00:00, 84.66it/s]\n"
     ]
    },
    {
     "name": "stdout",
     "output_type": "stream",
     "text": [
      "[0.0, 1.0, 1.0, 1.0, 1.0, 0.0, 1.0, 1.0, 0.0]\n",
      "F1 + Acc:  0.8333333333333333\n",
      "2\n",
      "15\n"
     ]
    },
    {
     "name": "stderr",
     "output_type": "stream",
     "text": [
      "Training... : 100%|██████████| 500/500 [00:06<00:00, 83.11it/s]\n"
     ]
    },
    {
     "name": "stdout",
     "output_type": "stream",
     "text": [
      "[0.0, 1.0, 1.0, 1.0, 1.0, 1.0, 1.0, 1.0, 1.0]\n",
      "F1 + Acc:  1.2698412698412698\n",
      "2\n",
      "17\n"
     ]
    },
    {
     "name": "stderr",
     "output_type": "stream",
     "text": [
      "Training... : 100%|██████████| 500/500 [00:06<00:00, 82.25it/s]\n"
     ]
    },
    {
     "name": "stdout",
     "output_type": "stream",
     "text": [
      "[0.0, 1.0, 1.0, 1.0, 1.0, 0.0, 0.0, 1.0, 1.0]\n",
      "F1 + Acc:  1.2222222222222223\n",
      "2\n",
      "19\n"
     ]
    },
    {
     "name": "stderr",
     "output_type": "stream",
     "text": [
      "Training... : 100%|██████████| 500/500 [00:05<00:00, 83.86it/s]\n"
     ]
    },
    {
     "name": "stdout",
     "output_type": "stream",
     "text": [
      "[0.0, 1.0, 1.0, 1.0, 1.0, 0.0, 1.0, 1.0, 1.0]\n",
      "F1 + Acc:  1.0598290598290596\n",
      "2\n",
      "21\n"
     ]
    },
    {
     "name": "stderr",
     "output_type": "stream",
     "text": [
      "Training... : 100%|██████████| 500/500 [00:05<00:00, 84.69it/s]\n"
     ]
    },
    {
     "name": "stdout",
     "output_type": "stream",
     "text": [
      "[0.0, 1.0, 1.0, 1.0, 1.0, 1.0, 1.0, 1.0, 1.0]\n",
      "F1 + Acc:  1.2698412698412698\n",
      "2\n",
      "23\n"
     ]
    },
    {
     "name": "stderr",
     "output_type": "stream",
     "text": [
      "Training... : 100%|██████████| 500/500 [00:05<00:00, 87.81it/s]\n"
     ]
    },
    {
     "name": "stdout",
     "output_type": "stream",
     "text": [
      "[0.0, 1.0, 1.0, 1.0, 1.0, 0.0, 1.0, 1.0, 0.0]\n",
      "F1 + Acc:  0.8333333333333333\n",
      "2\n",
      "25\n"
     ]
    },
    {
     "name": "stderr",
     "output_type": "stream",
     "text": [
      "Training... : 100%|██████████| 500/500 [00:05<00:00, 90.71it/s]\n"
     ]
    },
    {
     "name": "stdout",
     "output_type": "stream",
     "text": [
      "[0.0, 1.0, 1.0, 1.0, 1.0, 1.0, 1.0, 1.0, 1.0]\n",
      "F1 + Acc:  1.2698412698412698\n",
      "2\n",
      "27\n"
     ]
    },
    {
     "name": "stderr",
     "output_type": "stream",
     "text": [
      "Training... : 100%|██████████| 500/500 [00:05<00:00, 93.00it/s]\n"
     ]
    },
    {
     "name": "stdout",
     "output_type": "stream",
     "text": [
      "[0.0, 1.0, 1.0, 1.0, 1.0, 0.0, 0.0, 1.0, 1.0]\n",
      "F1 + Acc:  1.2222222222222223\n",
      "2\n",
      "29\n"
     ]
    },
    {
     "name": "stderr",
     "output_type": "stream",
     "text": [
      "Training... : 100%|██████████| 500/500 [00:05<00:00, 93.68it/s]\n"
     ]
    },
    {
     "name": "stdout",
     "output_type": "stream",
     "text": [
      "[0.0, 1.0, 1.0, 1.0, 1.0, 0.0, 0.0, 1.0, 1.0]\n",
      "F1 + Acc:  1.2222222222222223\n",
      "2\n",
      "31\n"
     ]
    },
    {
     "name": "stderr",
     "output_type": "stream",
     "text": [
      "Training... : 100%|██████████| 500/500 [00:05<00:00, 92.93it/s]\n"
     ]
    },
    {
     "name": "stdout",
     "output_type": "stream",
     "text": [
      "[0.0, 1.0, 1.0, 1.0, 1.0, 0.0, 1.0, 1.0, 0.0]\n",
      "F1 + Acc:  0.8333333333333333\n",
      "2\n",
      "33\n"
     ]
    },
    {
     "name": "stderr",
     "output_type": "stream",
     "text": [
      "Training... : 100%|██████████| 500/500 [00:05<00:00, 91.85it/s]\n"
     ]
    },
    {
     "name": "stdout",
     "output_type": "stream",
     "text": [
      "[0.0, 1.0, 1.0, 1.0, 1.0, 1.0, 0.0, 1.0, 1.0]\n",
      "F1 + Acc:  1.4358974358974357\n",
      "2\n",
      "35\n"
     ]
    },
    {
     "name": "stderr",
     "output_type": "stream",
     "text": [
      "Training... : 100%|██████████| 500/500 [00:05<00:00, 88.89it/s]\n"
     ]
    },
    {
     "name": "stdout",
     "output_type": "stream",
     "text": [
      "[0.0, 1.0, 1.0, 1.0, 1.0, 1.0, 1.0, 1.0, 0.0]\n",
      "F1 + Acc:  1.0598290598290596\n",
      "2\n",
      "37\n"
     ]
    },
    {
     "name": "stderr",
     "output_type": "stream",
     "text": [
      "Training... : 100%|██████████| 500/500 [00:05<00:00, 84.99it/s]\n"
     ]
    },
    {
     "name": "stdout",
     "output_type": "stream",
     "text": [
      "[0.0, 1.0, 1.0, 1.0, 1.0, 0.0, 1.0, 1.0, 1.0]\n",
      "F1 + Acc:  1.0598290598290596\n",
      "2\n",
      "39\n"
     ]
    },
    {
     "name": "stderr",
     "output_type": "stream",
     "text": [
      "Training... : 100%|██████████| 500/500 [00:05<00:00, 83.92it/s]\n"
     ]
    },
    {
     "name": "stdout",
     "output_type": "stream",
     "text": [
      "[0.0, 1.0, 1.0, 1.0, 1.0, 0.0, 1.0, 1.0, 0.0]\n",
      "F1 + Acc:  0.8333333333333333\n",
      "2\n",
      "41\n"
     ]
    },
    {
     "name": "stderr",
     "output_type": "stream",
     "text": [
      "Training... : 100%|██████████| 500/500 [00:05<00:00, 85.87it/s]\n"
     ]
    },
    {
     "name": "stdout",
     "output_type": "stream",
     "text": [
      "[0.0, 1.0, 1.0, 1.0, 1.0, 1.0, 0.0, 1.0, 1.0]\n",
      "F1 + Acc:  1.4358974358974357\n",
      "2\n",
      "43\n"
     ]
    },
    {
     "name": "stderr",
     "output_type": "stream",
     "text": [
      "Training... : 100%|██████████| 500/500 [00:05<00:00, 86.23it/s]\n"
     ]
    },
    {
     "name": "stdout",
     "output_type": "stream",
     "text": [
      "[0.0, 1.0, 1.0, 1.0, 1.0, 0.0, 1.0, 1.0, 1.0]\n",
      "F1 + Acc:  1.0598290598290596\n",
      "2\n",
      "45\n"
     ]
    },
    {
     "name": "stderr",
     "output_type": "stream",
     "text": [
      "Training... : 100%|██████████| 500/500 [00:05<00:00, 85.22it/s]\n"
     ]
    },
    {
     "name": "stdout",
     "output_type": "stream",
     "text": [
      "[0.0, 1.0, 1.0, 1.0, 1.0, 1.0, 1.0, 1.0, 1.0]\n",
      "F1 + Acc:  1.2698412698412698\n",
      "2\n",
      "47\n"
     ]
    },
    {
     "name": "stderr",
     "output_type": "stream",
     "text": [
      "Training... : 100%|██████████| 500/500 [00:05<00:00, 84.26it/s]\n"
     ]
    },
    {
     "name": "stdout",
     "output_type": "stream",
     "text": [
      "[0.0, 1.0, 1.0, 1.0, 1.0, 0.0, 1.0, 1.0, 0.0]\n",
      "F1 + Acc:  0.8333333333333333\n",
      "2\n",
      "49\n"
     ]
    },
    {
     "name": "stderr",
     "output_type": "stream",
     "text": [
      "Training... : 100%|██████████| 500/500 [00:06<00:00, 82.99it/s]\n"
     ]
    },
    {
     "name": "stdout",
     "output_type": "stream",
     "text": [
      "[0.0, 1.0, 1.0, 1.0, 1.0, 0.0, 1.0, 1.0, 1.0]\n",
      "F1 + Acc:  1.0598290598290596\n",
      "2\n",
      "51\n"
     ]
    },
    {
     "name": "stderr",
     "output_type": "stream",
     "text": [
      "Training... : 100%|██████████| 500/500 [00:06<00:00, 82.47it/s]\n"
     ]
    },
    {
     "name": "stdout",
     "output_type": "stream",
     "text": [
      "[0.0, 1.0, 1.0, 1.0, 1.0, 1.0, 1.0, 1.0, 1.0]\n",
      "F1 + Acc:  1.2698412698412698\n",
      "2\n",
      "53\n"
     ]
    },
    {
     "name": "stderr",
     "output_type": "stream",
     "text": [
      "Training... : 100%|██████████| 500/500 [00:06<00:00, 81.99it/s]\n"
     ]
    },
    {
     "name": "stdout",
     "output_type": "stream",
     "text": [
      "[0.0, 1.0, 1.0, 1.0, 1.0, 0.0, 1.0, 1.0, 1.0]\n",
      "F1 + Acc:  1.0598290598290596\n",
      "2\n",
      "55\n"
     ]
    },
    {
     "name": "stderr",
     "output_type": "stream",
     "text": [
      "Training... : 100%|██████████| 500/500 [00:06<00:00, 82.79it/s]\n"
     ]
    },
    {
     "name": "stdout",
     "output_type": "stream",
     "text": [
      "[0.0, 1.0, 1.0, 1.0, 1.0, 1.0, 0.0, 1.0, 1.0]\n",
      "F1 + Acc:  1.4358974358974357\n",
      "2\n",
      "57\n"
     ]
    },
    {
     "name": "stderr",
     "output_type": "stream",
     "text": [
      "Training... : 100%|██████████| 500/500 [00:06<00:00, 80.65it/s]\n"
     ]
    },
    {
     "name": "stdout",
     "output_type": "stream",
     "text": [
      "[0.0, 1.0, 1.0, 1.0, 1.0, 0.0, 1.0, 1.0, 1.0]\n",
      "F1 + Acc:  1.0598290598290596\n",
      "2\n",
      "59\n"
     ]
    },
    {
     "name": "stderr",
     "output_type": "stream",
     "text": [
      "Training... : 100%|██████████| 500/500 [00:06<00:00, 80.81it/s]\n"
     ]
    },
    {
     "name": "stdout",
     "output_type": "stream",
     "text": [
      "[0.0, 1.0, 1.0, 0.0, 1.0, 1.0, 0.0, 1.0, 1.0]\n",
      "F1 + Acc:  1.6111111111111112\n",
      "2\n",
      "61\n"
     ]
    },
    {
     "name": "stderr",
     "output_type": "stream",
     "text": [
      "Training... : 100%|██████████| 500/500 [00:06<00:00, 80.61it/s]\n"
     ]
    },
    {
     "name": "stdout",
     "output_type": "stream",
     "text": [
      "[0.0, 1.0, 1.0, 0.0, 1.0, 0.0, 1.0, 1.0, 1.0]\n",
      "F1 + Acc:  1.2222222222222223\n",
      "2\n",
      "63\n"
     ]
    },
    {
     "name": "stderr",
     "output_type": "stream",
     "text": [
      "Training... : 100%|██████████| 500/500 [00:06<00:00, 78.83it/s]\n"
     ]
    },
    {
     "name": "stdout",
     "output_type": "stream",
     "text": [
      "[0.0, 1.0, 1.0, 1.0, 1.0, 0.0, 1.0, 1.0, 1.0]\n",
      "F1 + Acc:  1.0598290598290596\n",
      "2\n",
      "65\n"
     ]
    },
    {
     "name": "stderr",
     "output_type": "stream",
     "text": [
      "Training... : 100%|██████████| 500/500 [00:06<00:00, 78.47it/s]\n"
     ]
    },
    {
     "name": "stdout",
     "output_type": "stream",
     "text": [
      "[0.0, 1.0, 1.0, 1.0, 1.0, 0.0, 0.0, 1.0, 1.0]\n",
      "F1 + Acc:  1.2222222222222223\n",
      "2\n",
      "67\n"
     ]
    },
    {
     "name": "stderr",
     "output_type": "stream",
     "text": [
      "Training... : 100%|██████████| 500/500 [00:06<00:00, 78.38it/s]\n"
     ]
    },
    {
     "name": "stdout",
     "output_type": "stream",
     "text": [
      "[0.0, 1.0, 1.0, 1.0, 1.0, 1.0, 0.0, 1.0, 1.0]\n",
      "F1 + Acc:  1.4358974358974357\n",
      "2\n",
      "69\n"
     ]
    },
    {
     "name": "stderr",
     "output_type": "stream",
     "text": [
      "Training... : 100%|██████████| 500/500 [00:06<00:00, 79.97it/s]\n"
     ]
    },
    {
     "name": "stdout",
     "output_type": "stream",
     "text": [
      "[0.0, 1.0, 1.0, 1.0, 1.0, 0.0, 1.0, 1.0, 1.0]\n",
      "F1 + Acc:  1.0598290598290596\n",
      "2\n",
      "71\n"
     ]
    },
    {
     "name": "stderr",
     "output_type": "stream",
     "text": [
      "Training... : 100%|██████████| 500/500 [00:06<00:00, 76.11it/s]\n"
     ]
    },
    {
     "name": "stdout",
     "output_type": "stream",
     "text": [
      "[0.0, 1.0, 1.0, 1.0, 1.0, 0.0, 0.0, 1.0, 1.0]\n",
      "F1 + Acc:  1.2222222222222223\n",
      "2\n",
      "73\n"
     ]
    },
    {
     "name": "stderr",
     "output_type": "stream",
     "text": [
      "Training... : 100%|██████████| 500/500 [00:07<00:00, 70.86it/s]\n"
     ]
    },
    {
     "name": "stdout",
     "output_type": "stream",
     "text": [
      "[0.0, 1.0, 1.0, 1.0, 1.0, 1.0, 0.0, 1.0, 1.0]\n",
      "F1 + Acc:  1.4358974358974357\n",
      "2\n",
      "75\n"
     ]
    },
    {
     "name": "stderr",
     "output_type": "stream",
     "text": [
      "Training... : 100%|██████████| 500/500 [00:08<00:00, 60.36it/s]\n"
     ]
    },
    {
     "name": "stdout",
     "output_type": "stream",
     "text": [
      "[0.0, 1.0, 1.0, 1.0, 1.0, 0.0, 1.0, 1.0, 1.0]\n",
      "F1 + Acc:  1.0598290598290596\n",
      "2\n",
      "77\n"
     ]
    },
    {
     "name": "stderr",
     "output_type": "stream",
     "text": [
      "Training... : 100%|██████████| 500/500 [00:08<00:00, 60.91it/s]\n"
     ]
    },
    {
     "name": "stdout",
     "output_type": "stream",
     "text": [
      "[0.0, 1.0, 1.0, 1.0, 1.0, 0.0, 1.0, 1.0, 1.0]\n",
      "F1 + Acc:  1.0598290598290596\n",
      "2\n",
      "79\n"
     ]
    },
    {
     "name": "stderr",
     "output_type": "stream",
     "text": [
      "Training... : 100%|██████████| 500/500 [00:07<00:00, 68.35it/s]\n"
     ]
    },
    {
     "name": "stdout",
     "output_type": "stream",
     "text": [
      "[0.0, 1.0, 1.0, 1.0, 1.0, 0.0, 1.0, 1.0, 1.0]\n",
      "F1 + Acc:  1.0598290598290596\n",
      "2\n",
      "81\n"
     ]
    },
    {
     "name": "stderr",
     "output_type": "stream",
     "text": [
      "Training... : 100%|██████████| 500/500 [00:06<00:00, 71.81it/s]\n"
     ]
    },
    {
     "name": "stdout",
     "output_type": "stream",
     "text": [
      "[0.0, 1.0, 1.0, 1.0, 1.0, 0.0, 1.0, 1.0, 0.0]\n",
      "F1 + Acc:  0.8333333333333333\n",
      "2\n",
      "83\n"
     ]
    },
    {
     "name": "stderr",
     "output_type": "stream",
     "text": [
      "Training... : 100%|██████████| 500/500 [00:06<00:00, 72.40it/s]\n"
     ]
    },
    {
     "name": "stdout",
     "output_type": "stream",
     "text": [
      "[0.0, 1.0, 1.0, 1.0, 1.0, 1.0, 1.0, 1.0, 1.0]\n",
      "F1 + Acc:  1.2698412698412698\n",
      "2\n",
      "85\n"
     ]
    },
    {
     "name": "stderr",
     "output_type": "stream",
     "text": [
      "Training... : 100%|██████████| 500/500 [00:07<00:00, 69.46it/s]\n"
     ]
    },
    {
     "name": "stdout",
     "output_type": "stream",
     "text": [
      "[0.0, 1.0, 1.0, 1.0, 1.0, 1.0, 0.0, 1.0, 1.0]\n",
      "F1 + Acc:  1.4358974358974357\n",
      "2\n",
      "87\n"
     ]
    },
    {
     "name": "stderr",
     "output_type": "stream",
     "text": [
      "Training... : 100%|██████████| 500/500 [00:07<00:00, 67.12it/s]\n"
     ]
    },
    {
     "name": "stdout",
     "output_type": "stream",
     "text": [
      "[0.0, 1.0, 1.0, 1.0, 1.0, 1.0, 1.0, 1.0, 1.0]\n",
      "F1 + Acc:  1.2698412698412698\n",
      "2\n",
      "89\n"
     ]
    },
    {
     "name": "stderr",
     "output_type": "stream",
     "text": [
      "Training... : 100%|██████████| 500/500 [00:07<00:00, 66.78it/s]\n"
     ]
    },
    {
     "name": "stdout",
     "output_type": "stream",
     "text": [
      "[0.0, 1.0, 1.0, 1.0, 1.0, 0.0, 0.0, 1.0, 1.0]\n",
      "F1 + Acc:  1.2222222222222223\n",
      "2\n",
      "91\n"
     ]
    },
    {
     "name": "stderr",
     "output_type": "stream",
     "text": [
      "Training... : 100%|██████████| 500/500 [00:07<00:00, 63.33it/s]\n"
     ]
    },
    {
     "name": "stdout",
     "output_type": "stream",
     "text": [
      "[0.0, 1.0, 1.0, 1.0, 1.0, 0.0, 0.0, 1.0, 1.0]\n",
      "F1 + Acc:  1.2222222222222223\n",
      "2\n",
      "93\n"
     ]
    },
    {
     "name": "stderr",
     "output_type": "stream",
     "text": [
      "Training... : 100%|██████████| 500/500 [00:07<00:00, 66.63it/s]\n"
     ]
    },
    {
     "name": "stdout",
     "output_type": "stream",
     "text": [
      "[0.0, 1.0, 1.0, 1.0, 1.0, 0.0, 1.0, 1.0, 1.0]\n",
      "F1 + Acc:  1.0598290598290596\n",
      "2\n",
      "95\n"
     ]
    },
    {
     "name": "stderr",
     "output_type": "stream",
     "text": [
      "Training... : 100%|██████████| 500/500 [00:07<00:00, 66.89it/s]\n"
     ]
    },
    {
     "name": "stdout",
     "output_type": "stream",
     "text": [
      "[0.0, 1.0, 1.0, 1.0, 1.0, 0.0, 1.0, 1.0, 1.0]\n",
      "F1 + Acc:  1.0598290598290596\n",
      "2\n",
      "97\n"
     ]
    },
    {
     "name": "stderr",
     "output_type": "stream",
     "text": [
      "Training... : 100%|██████████| 500/500 [00:07<00:00, 67.04it/s]\n"
     ]
    },
    {
     "name": "stdout",
     "output_type": "stream",
     "text": [
      "[0.0, 1.0, 1.0, 0.0, 1.0, 0.0, 0.0, 1.0, 0.0]\n",
      "F1 + Acc:  1.1555555555555554\n",
      "2\n",
      "99\n"
     ]
    },
    {
     "name": "stderr",
     "output_type": "stream",
     "text": [
      "Training... : 100%|██████████| 500/500 [00:07<00:00, 65.29it/s]\n"
     ]
    },
    {
     "name": "stdout",
     "output_type": "stream",
     "text": [
      "[0.0, 1.0, 1.0, 1.0, 1.0, 0.0, 0.0, 1.0, 1.0]\n",
      "F1 + Acc:  1.2222222222222223\n",
      "3\n",
      "1\n"
     ]
    },
    {
     "name": "stderr",
     "output_type": "stream",
     "text": [
      "Training... : 100%|██████████| 500/500 [00:06<00:00, 74.32it/s]\n"
     ]
    },
    {
     "name": "stdout",
     "output_type": "stream",
     "text": [
      "[1.0, 1.0, 1.0, 1.0, 1.0, 1.0, 1.0, 1.0, 1.0]\n",
      "F1 + Acc:  1.4666666666666668\n",
      "3\n",
      "3\n"
     ]
    },
    {
     "name": "stderr",
     "output_type": "stream",
     "text": [
      "Training... : 100%|██████████| 500/500 [00:07<00:00, 70.91it/s]\n"
     ]
    },
    {
     "name": "stdout",
     "output_type": "stream",
     "text": [
      "[0.0, 1.0, 1.0, 1.0, 1.0, 1.0, 1.0, 1.0, 1.0]\n",
      "F1 + Acc:  1.2698412698412698\n",
      "3\n",
      "5\n"
     ]
    },
    {
     "name": "stderr",
     "output_type": "stream",
     "text": [
      "Training... : 100%|██████████| 500/500 [00:07<00:00, 68.78it/s]\n"
     ]
    },
    {
     "name": "stdout",
     "output_type": "stream",
     "text": [
      "[0.0, 1.0, 1.0, 1.0, 1.0, 0.0, 1.0, 1.0, 0.0]\n",
      "F1 + Acc:  0.8333333333333333\n",
      "3\n",
      "7\n"
     ]
    },
    {
     "name": "stderr",
     "output_type": "stream",
     "text": [
      "Training... : 100%|██████████| 500/500 [00:07<00:00, 67.89it/s]\n"
     ]
    },
    {
     "name": "stdout",
     "output_type": "stream",
     "text": [
      "[0.0, 1.0, 1.0, 1.0, 1.0, 0.0, 1.0, 1.0, 0.0]\n",
      "F1 + Acc:  0.8333333333333333\n",
      "3\n",
      "9\n"
     ]
    },
    {
     "name": "stderr",
     "output_type": "stream",
     "text": [
      "Training... : 100%|██████████| 500/500 [00:07<00:00, 68.25it/s]\n"
     ]
    },
    {
     "name": "stdout",
     "output_type": "stream",
     "text": [
      "[0.0, 1.0, 1.0, 1.0, 1.0, 1.0, 1.0, 1.0, 0.0]\n",
      "F1 + Acc:  1.0598290598290596\n",
      "3\n",
      "11\n"
     ]
    },
    {
     "name": "stderr",
     "output_type": "stream",
     "text": [
      "Training... : 100%|██████████| 500/500 [00:07<00:00, 67.69it/s]\n"
     ]
    },
    {
     "name": "stdout",
     "output_type": "stream",
     "text": [
      "[0.0, 1.0, 1.0, 1.0, 1.0, 1.0, 1.0, 1.0, 0.0]\n",
      "F1 + Acc:  1.0598290598290596\n",
      "3\n",
      "13\n"
     ]
    },
    {
     "name": "stderr",
     "output_type": "stream",
     "text": [
      "Training... : 100%|██████████| 500/500 [00:07<00:00, 67.40it/s]\n"
     ]
    },
    {
     "name": "stdout",
     "output_type": "stream",
     "text": [
      "[0.0, 1.0, 1.0, 1.0, 1.0, 1.0, 0.0, 0.0, 1.0]\n",
      "F1 + Acc:  1.6111111111111112\n",
      "3\n",
      "15\n"
     ]
    },
    {
     "name": "stderr",
     "output_type": "stream",
     "text": [
      "Training... : 100%|██████████| 500/500 [00:07<00:00, 66.40it/s]\n"
     ]
    },
    {
     "name": "stdout",
     "output_type": "stream",
     "text": [
      "[0.0, 1.0, 1.0, 1.0, 1.0, 0.0, 1.0, 1.0, 1.0]\n",
      "F1 + Acc:  1.0598290598290596\n",
      "3\n",
      "17\n"
     ]
    },
    {
     "name": "stderr",
     "output_type": "stream",
     "text": [
      "Training... : 100%|██████████| 500/500 [00:07<00:00, 66.26it/s]\n"
     ]
    },
    {
     "name": "stdout",
     "output_type": "stream",
     "text": [
      "[0.0, 1.0, 1.0, 1.0, 1.0, 0.0, 1.0, 1.0, 1.0]\n",
      "F1 + Acc:  1.0598290598290596\n",
      "3\n",
      "19\n"
     ]
    },
    {
     "name": "stderr",
     "output_type": "stream",
     "text": [
      "Training... : 100%|██████████| 500/500 [00:07<00:00, 67.45it/s]\n"
     ]
    },
    {
     "name": "stdout",
     "output_type": "stream",
     "text": [
      "[0.0, 1.0, 1.0, 1.0, 1.0, 1.0, 1.0, 1.0, 1.0]\n",
      "F1 + Acc:  1.2698412698412698\n",
      "3\n",
      "21\n"
     ]
    },
    {
     "name": "stderr",
     "output_type": "stream",
     "text": [
      "Training... : 100%|██████████| 500/500 [00:07<00:00, 67.80it/s]\n"
     ]
    },
    {
     "name": "stdout",
     "output_type": "stream",
     "text": [
      "[0.0, 1.0, 1.0, 0.0, 1.0, 1.0, 1.0, 1.0, 1.0]\n",
      "F1 + Acc:  1.4358974358974357\n",
      "3\n",
      "23\n"
     ]
    },
    {
     "name": "stderr",
     "output_type": "stream",
     "text": [
      "Training... : 100%|██████████| 500/500 [00:07<00:00, 67.04it/s]\n"
     ]
    },
    {
     "name": "stdout",
     "output_type": "stream",
     "text": [
      "[0.0, 1.0, 1.0, 0.0, 1.0, 0.0, 1.0, 1.0, 0.0]\n",
      "F1 + Acc:  0.9898989898989898\n",
      "3\n",
      "25\n"
     ]
    },
    {
     "name": "stderr",
     "output_type": "stream",
     "text": [
      "Training... : 100%|██████████| 500/500 [00:07<00:00, 65.51it/s]\n"
     ]
    },
    {
     "name": "stdout",
     "output_type": "stream",
     "text": [
      "[0.0, 1.0, 1.0, 1.0, 1.0, 1.0, 1.0, 1.0, 1.0]\n",
      "F1 + Acc:  1.2698412698412698\n",
      "3\n",
      "27\n"
     ]
    },
    {
     "name": "stderr",
     "output_type": "stream",
     "text": [
      "Training... : 100%|██████████| 500/500 [00:07<00:00, 63.98it/s]\n"
     ]
    },
    {
     "name": "stdout",
     "output_type": "stream",
     "text": [
      "[0.0, 1.0, 1.0, 1.0, 1.0, 0.0, 1.0, 1.0, 0.0]\n",
      "F1 + Acc:  0.8333333333333333\n",
      "3\n",
      "29\n"
     ]
    },
    {
     "name": "stderr",
     "output_type": "stream",
     "text": [
      "Training... : 100%|██████████| 500/500 [00:07<00:00, 65.02it/s]\n"
     ]
    },
    {
     "name": "stdout",
     "output_type": "stream",
     "text": [
      "[0.0, 1.0, 1.0, 1.0, 1.0, 1.0, 1.0, 1.0, 0.0]\n",
      "F1 + Acc:  1.0598290598290596\n",
      "3\n",
      "31\n"
     ]
    },
    {
     "name": "stderr",
     "output_type": "stream",
     "text": [
      "Training... : 100%|██████████| 500/500 [00:07<00:00, 66.01it/s]\n"
     ]
    },
    {
     "name": "stdout",
     "output_type": "stream",
     "text": [
      "[0.0, 1.0, 1.0, 1.0, 1.0, 0.0, 1.0, 1.0, 1.0]\n",
      "F1 + Acc:  1.0598290598290596\n",
      "3\n",
      "33\n"
     ]
    },
    {
     "name": "stderr",
     "output_type": "stream",
     "text": [
      "Training... : 100%|██████████| 500/500 [00:07<00:00, 65.83it/s]\n"
     ]
    },
    {
     "name": "stdout",
     "output_type": "stream",
     "text": [
      "[0.0, 1.0, 1.0, 1.0, 1.0, 1.0, 1.0, 1.0, 1.0]\n",
      "F1 + Acc:  1.2698412698412698\n",
      "3\n",
      "35\n"
     ]
    },
    {
     "name": "stderr",
     "output_type": "stream",
     "text": [
      "Training... : 100%|██████████| 500/500 [00:07<00:00, 63.91it/s]\n"
     ]
    },
    {
     "name": "stdout",
     "output_type": "stream",
     "text": [
      "[0.0, 1.0, 1.0, 1.0, 1.0, 1.0, 1.0, 1.0, 1.0]\n",
      "F1 + Acc:  1.2698412698412698\n",
      "3\n",
      "37\n"
     ]
    },
    {
     "name": "stderr",
     "output_type": "stream",
     "text": [
      "Training... : 100%|██████████| 500/500 [00:08<00:00, 62.24it/s]\n"
     ]
    },
    {
     "name": "stdout",
     "output_type": "stream",
     "text": [
      "[0.0, 1.0, 1.0, 1.0, 1.0, 1.0, 1.0, 1.0, 1.0]\n",
      "F1 + Acc:  1.2698412698412698\n",
      "3\n",
      "39\n"
     ]
    },
    {
     "name": "stderr",
     "output_type": "stream",
     "text": [
      "Training... : 100%|██████████| 500/500 [00:08<00:00, 61.17it/s]\n"
     ]
    },
    {
     "name": "stdout",
     "output_type": "stream",
     "text": [
      "[0.0, 1.0, 1.0, 1.0, 1.0, 1.0, 0.0, 1.0, 1.0]\n",
      "F1 + Acc:  1.4358974358974357\n",
      "3\n",
      "41\n"
     ]
    },
    {
     "name": "stderr",
     "output_type": "stream",
     "text": [
      "Training... : 100%|██████████| 500/500 [00:08<00:00, 61.65it/s]\n"
     ]
    },
    {
     "name": "stdout",
     "output_type": "stream",
     "text": [
      "[0.0, 1.0, 1.0, 1.0, 1.0, 1.0, 1.0, 1.0, 0.0]\n",
      "F1 + Acc:  1.0598290598290596\n",
      "3\n",
      "43\n"
     ]
    },
    {
     "name": "stderr",
     "output_type": "stream",
     "text": [
      "Training... : 100%|██████████| 500/500 [00:08<00:00, 62.33it/s]\n"
     ]
    },
    {
     "name": "stdout",
     "output_type": "stream",
     "text": [
      "[0.0, 1.0, 1.0, 0.0, 1.0, 0.0, 0.0, 1.0, 1.0]\n",
      "F1 + Acc:  1.3939393939393938\n",
      "3\n",
      "45\n"
     ]
    },
    {
     "name": "stderr",
     "output_type": "stream",
     "text": [
      "Training... : 100%|██████████| 500/500 [00:08<00:00, 62.17it/s]\n"
     ]
    },
    {
     "name": "stdout",
     "output_type": "stream",
     "text": [
      "[0.0, 1.0, 1.0, 1.0, 1.0, 1.0, 0.0, 1.0, 1.0]\n",
      "F1 + Acc:  1.4358974358974357\n",
      "3\n",
      "47\n"
     ]
    },
    {
     "name": "stderr",
     "output_type": "stream",
     "text": [
      "Training... : 100%|██████████| 500/500 [00:08<00:00, 62.16it/s]\n"
     ]
    },
    {
     "name": "stdout",
     "output_type": "stream",
     "text": [
      "[0.0, 1.0, 1.0, 1.0, 1.0, 0.0, 1.0, 1.0, 1.0]\n",
      "F1 + Acc:  1.0598290598290596\n",
      "3\n",
      "49\n"
     ]
    },
    {
     "name": "stderr",
     "output_type": "stream",
     "text": [
      "Training... : 100%|██████████| 500/500 [00:08<00:00, 58.28it/s]\n"
     ]
    },
    {
     "name": "stdout",
     "output_type": "stream",
     "text": [
      "[0.0, 1.0, 1.0, 1.0, 1.0, 1.0, 1.0, 1.0, 1.0]\n",
      "F1 + Acc:  1.2698412698412698\n",
      "3\n",
      "51\n"
     ]
    },
    {
     "name": "stderr",
     "output_type": "stream",
     "text": [
      "Training... : 100%|██████████| 500/500 [00:09<00:00, 53.06it/s]\n"
     ]
    },
    {
     "name": "stdout",
     "output_type": "stream",
     "text": [
      "[0.0, 1.0, 1.0, 1.0, 1.0, 0.0, 1.0, 1.0, 1.0]\n",
      "F1 + Acc:  1.0598290598290596\n",
      "3\n",
      "53\n"
     ]
    },
    {
     "name": "stderr",
     "output_type": "stream",
     "text": [
      "Training... : 100%|██████████| 500/500 [00:09<00:00, 54.30it/s]\n"
     ]
    },
    {
     "name": "stdout",
     "output_type": "stream",
     "text": [
      "[0.0, 1.0, 1.0, 1.0, 1.0, 1.0, 1.0, 1.0, 0.0]\n",
      "F1 + Acc:  1.0598290598290596\n",
      "3\n",
      "55\n"
     ]
    },
    {
     "name": "stderr",
     "output_type": "stream",
     "text": [
      "Training... : 100%|██████████| 500/500 [00:08<00:00, 59.37it/s]\n"
     ]
    },
    {
     "name": "stdout",
     "output_type": "stream",
     "text": [
      "[0.0, 1.0, 1.0, 1.0, 1.0, 1.0, 1.0, 1.0, 1.0]\n",
      "F1 + Acc:  1.2698412698412698\n",
      "3\n",
      "57\n"
     ]
    },
    {
     "name": "stderr",
     "output_type": "stream",
     "text": [
      "Training... : 100%|██████████| 500/500 [00:08<00:00, 58.67it/s]\n"
     ]
    },
    {
     "name": "stdout",
     "output_type": "stream",
     "text": [
      "[0.0, 1.0, 1.0, 1.0, 1.0, 1.0, 1.0, 1.0, 1.0]\n",
      "F1 + Acc:  1.2698412698412698\n",
      "3\n",
      "59\n"
     ]
    },
    {
     "name": "stderr",
     "output_type": "stream",
     "text": [
      "Training... : 100%|██████████| 500/500 [00:08<00:00, 56.61it/s]\n"
     ]
    },
    {
     "name": "stdout",
     "output_type": "stream",
     "text": [
      "[0.0, 1.0, 1.0, 1.0, 1.0, 1.0, 1.0, 1.0, 1.0]\n",
      "F1 + Acc:  1.2698412698412698\n",
      "3\n",
      "61\n"
     ]
    },
    {
     "name": "stderr",
     "output_type": "stream",
     "text": [
      "Training... : 100%|██████████| 500/500 [00:08<00:00, 57.36it/s]\n"
     ]
    },
    {
     "name": "stdout",
     "output_type": "stream",
     "text": [
      "[0.0, 1.0, 1.0, 1.0, 1.0, 0.0, 0.0, 1.0, 1.0]\n",
      "F1 + Acc:  1.2222222222222223\n",
      "3\n",
      "63\n"
     ]
    },
    {
     "name": "stderr",
     "output_type": "stream",
     "text": [
      "Training... : 100%|██████████| 500/500 [00:08<00:00, 57.53it/s]\n"
     ]
    },
    {
     "name": "stdout",
     "output_type": "stream",
     "text": [
      "[0.0, 1.0, 1.0, 1.0, 1.0, 0.0, 0.0, 1.0, 0.0]\n",
      "F1 + Acc:  0.9898989898989898\n",
      "3\n",
      "65\n"
     ]
    },
    {
     "name": "stderr",
     "output_type": "stream",
     "text": [
      "Training... : 100%|██████████| 500/500 [00:08<00:00, 56.80it/s]\n"
     ]
    },
    {
     "name": "stdout",
     "output_type": "stream",
     "text": [
      "[0.0, 1.0, 1.0, 1.0, 1.0, 1.0, 0.0, 1.0, 1.0]\n",
      "F1 + Acc:  1.4358974358974357\n",
      "3\n",
      "67\n"
     ]
    },
    {
     "name": "stderr",
     "output_type": "stream",
     "text": [
      "Training... : 100%|██████████| 500/500 [00:08<00:00, 55.94it/s]\n"
     ]
    },
    {
     "name": "stdout",
     "output_type": "stream",
     "text": [
      "[0.0, 1.0, 1.0, 1.0, 1.0, 0.0, 1.0, 1.0, 1.0]\n",
      "F1 + Acc:  1.0598290598290596\n",
      "3\n",
      "69\n"
     ]
    },
    {
     "name": "stderr",
     "output_type": "stream",
     "text": [
      "Training... : 100%|██████████| 500/500 [00:09<00:00, 53.93it/s]\n"
     ]
    },
    {
     "name": "stdout",
     "output_type": "stream",
     "text": [
      "[0.0, 1.0, 1.0, 1.0, 1.0, 1.0, 0.0, 1.0, 1.0]\n",
      "F1 + Acc:  1.4358974358974357\n",
      "3\n",
      "71\n"
     ]
    },
    {
     "name": "stderr",
     "output_type": "stream",
     "text": [
      "Training... : 100%|██████████| 500/500 [00:09<00:00, 52.29it/s]\n"
     ]
    },
    {
     "name": "stdout",
     "output_type": "stream",
     "text": [
      "[0.0, 1.0, 1.0, 1.0, 1.0, 1.0, 1.0, 1.0, 1.0]\n",
      "F1 + Acc:  1.2698412698412698\n",
      "3\n",
      "73\n"
     ]
    },
    {
     "name": "stderr",
     "output_type": "stream",
     "text": [
      "Training... : 100%|██████████| 500/500 [00:09<00:00, 52.21it/s]\n"
     ]
    },
    {
     "name": "stdout",
     "output_type": "stream",
     "text": [
      "[0.0, 1.0, 1.0, 1.0, 1.0, 0.0, 1.0, 1.0, 1.0]\n",
      "F1 + Acc:  1.0598290598290596\n",
      "3\n",
      "75\n"
     ]
    },
    {
     "name": "stderr",
     "output_type": "stream",
     "text": [
      "Training... : 100%|██████████| 500/500 [00:09<00:00, 51.62it/s]\n"
     ]
    },
    {
     "name": "stdout",
     "output_type": "stream",
     "text": [
      "[0.0, 1.0, 1.0, 1.0, 1.0, 0.0, 1.0, 1.0, 1.0]\n",
      "F1 + Acc:  1.0598290598290596\n",
      "3\n",
      "77\n"
     ]
    },
    {
     "name": "stderr",
     "output_type": "stream",
     "text": [
      "Training... : 100%|██████████| 500/500 [00:09<00:00, 51.58it/s]\n"
     ]
    },
    {
     "name": "stdout",
     "output_type": "stream",
     "text": [
      "[0.0, 1.0, 1.0, 1.0, 1.0, 0.0, 0.0, 1.0, 1.0]\n",
      "F1 + Acc:  1.2222222222222223\n",
      "3\n",
      "79\n"
     ]
    },
    {
     "name": "stderr",
     "output_type": "stream",
     "text": [
      "Training... : 100%|██████████| 500/500 [00:09<00:00, 51.08it/s]\n"
     ]
    },
    {
     "name": "stdout",
     "output_type": "stream",
     "text": [
      "[0.0, 1.0, 1.0, 1.0, 1.0, 0.0, 1.0, 1.0, 1.0]\n",
      "F1 + Acc:  1.0598290598290596\n",
      "3\n",
      "81\n"
     ]
    },
    {
     "name": "stderr",
     "output_type": "stream",
     "text": [
      "Training... : 100%|██████████| 500/500 [00:10<00:00, 49.26it/s]\n"
     ]
    },
    {
     "name": "stdout",
     "output_type": "stream",
     "text": [
      "[0.0, 1.0, 1.0, 1.0, 1.0, 0.0, 1.0, 1.0, 1.0]\n",
      "F1 + Acc:  1.0598290598290596\n",
      "3\n",
      "83\n"
     ]
    },
    {
     "name": "stderr",
     "output_type": "stream",
     "text": [
      "Training... : 100%|██████████| 500/500 [00:11<00:00, 45.21it/s]\n"
     ]
    },
    {
     "name": "stdout",
     "output_type": "stream",
     "text": [
      "[0.0, 1.0, 1.0, 1.0, 1.0, 0.0, 1.0, 1.0, 1.0]\n",
      "F1 + Acc:  1.0598290598290596\n",
      "3\n",
      "85\n"
     ]
    },
    {
     "name": "stderr",
     "output_type": "stream",
     "text": [
      "Training... : 100%|██████████| 500/500 [00:10<00:00, 49.81it/s]\n"
     ]
    },
    {
     "name": "stdout",
     "output_type": "stream",
     "text": [
      "[0.0, 1.0, 1.0, 1.0, 1.0, 1.0, 1.0, 1.0, 1.0]\n",
      "F1 + Acc:  1.2698412698412698\n",
      "3\n",
      "87\n"
     ]
    },
    {
     "name": "stderr",
     "output_type": "stream",
     "text": [
      "Training... : 100%|██████████| 500/500 [00:09<00:00, 50.03it/s]\n"
     ]
    },
    {
     "name": "stdout",
     "output_type": "stream",
     "text": [
      "[0.0, 1.0, 1.0, 1.0, 1.0, 1.0, 1.0, 1.0, 1.0]\n",
      "F1 + Acc:  1.2698412698412698\n",
      "3\n",
      "89\n"
     ]
    },
    {
     "name": "stderr",
     "output_type": "stream",
     "text": [
      "Training... : 100%|██████████| 500/500 [00:09<00:00, 50.42it/s]\n"
     ]
    },
    {
     "name": "stdout",
     "output_type": "stream",
     "text": [
      "[0.0, 1.0, 1.0, 0.0, 1.0, 1.0, 1.0, 1.0, 1.0]\n",
      "F1 + Acc:  1.4358974358974357\n",
      "3\n",
      "91\n"
     ]
    },
    {
     "name": "stderr",
     "output_type": "stream",
     "text": [
      "Training... : 100%|██████████| 500/500 [00:10<00:00, 47.96it/s]\n"
     ]
    },
    {
     "name": "stdout",
     "output_type": "stream",
     "text": [
      "[0.0, 1.0, 1.0, 1.0, 1.0, 1.0, 0.0, 1.0, 1.0]\n",
      "F1 + Acc:  1.4358974358974357\n",
      "3\n",
      "93\n"
     ]
    },
    {
     "name": "stderr",
     "output_type": "stream",
     "text": [
      "Training... : 100%|██████████| 500/500 [00:10<00:00, 47.42it/s]\n"
     ]
    },
    {
     "name": "stdout",
     "output_type": "stream",
     "text": [
      "[0.0, 1.0, 1.0, 1.0, 1.0, 1.0, 1.0, 1.0, 1.0]\n",
      "F1 + Acc:  1.2698412698412698\n",
      "3\n",
      "95\n"
     ]
    },
    {
     "name": "stderr",
     "output_type": "stream",
     "text": [
      "Training... : 100%|██████████| 500/500 [00:10<00:00, 45.90it/s]\n"
     ]
    },
    {
     "name": "stdout",
     "output_type": "stream",
     "text": [
      "[0.0, 1.0, 1.0, 1.0, 1.0, 1.0, 1.0, 1.0, 1.0]\n",
      "F1 + Acc:  1.2698412698412698\n",
      "3\n",
      "97\n"
     ]
    },
    {
     "name": "stderr",
     "output_type": "stream",
     "text": [
      "Training... : 100%|██████████| 500/500 [00:10<00:00, 46.35it/s]\n"
     ]
    },
    {
     "name": "stdout",
     "output_type": "stream",
     "text": [
      "[0.0, 1.0, 1.0, 1.0, 1.0, 1.0, 1.0, 1.0, 1.0]\n",
      "F1 + Acc:  1.2698412698412698\n",
      "3\n",
      "99\n"
     ]
    },
    {
     "name": "stderr",
     "output_type": "stream",
     "text": [
      "Training... : 100%|██████████| 500/500 [00:10<00:00, 45.97it/s]\n"
     ]
    },
    {
     "name": "stdout",
     "output_type": "stream",
     "text": [
      "[0.0, 1.0, 1.0, 1.0, 1.0, 1.0, 0.0, 1.0, 1.0]\n",
      "F1 + Acc:  1.4358974358974357\n",
      "4\n",
      "1\n"
     ]
    },
    {
     "name": "stderr",
     "output_type": "stream",
     "text": [
      "Training... : 100%|██████████| 500/500 [00:09<00:00, 55.10it/s]\n"
     ]
    },
    {
     "name": "stdout",
     "output_type": "stream",
     "text": [
      "[1.0, 1.0, 1.0, 1.0, 1.0, 1.0, 1.0, 1.0, 1.0]\n",
      "F1 + Acc:  1.4666666666666668\n",
      "4\n",
      "3\n"
     ]
    },
    {
     "name": "stderr",
     "output_type": "stream",
     "text": [
      "Training... : 100%|██████████| 500/500 [00:09<00:00, 54.31it/s]\n"
     ]
    },
    {
     "name": "stdout",
     "output_type": "stream",
     "text": [
      "[0.0, 1.0, 1.0, 1.0, 1.0, 1.0, 1.0, 1.0, 1.0]\n",
      "F1 + Acc:  1.2698412698412698\n",
      "4\n",
      "5\n"
     ]
    },
    {
     "name": "stderr",
     "output_type": "stream",
     "text": [
      "Training... : 100%|██████████| 500/500 [00:09<00:00, 54.52it/s]\n"
     ]
    },
    {
     "name": "stdout",
     "output_type": "stream",
     "text": [
      "[1.0, 1.0, 1.0, 1.0, 0.0, 1.0, 1.0, 1.0, 1.0]\n",
      "F1 + Acc:  1.2698412698412698\n",
      "4\n",
      "7\n"
     ]
    },
    {
     "name": "stderr",
     "output_type": "stream",
     "text": [
      "Training... : 100%|██████████| 500/500 [00:09<00:00, 54.71it/s]\n"
     ]
    },
    {
     "name": "stdout",
     "output_type": "stream",
     "text": [
      "[0.0, 1.0, 1.0, 1.0, 1.0, 1.0, 1.0, 1.0, 0.0]\n",
      "F1 + Acc:  1.0598290598290596\n",
      "4\n",
      "9\n"
     ]
    },
    {
     "name": "stderr",
     "output_type": "stream",
     "text": [
      "Training... : 100%|██████████| 500/500 [00:09<00:00, 54.61it/s]\n"
     ]
    },
    {
     "name": "stdout",
     "output_type": "stream",
     "text": [
      "[0.0, 1.0, 1.0, 1.0, 1.0, 0.0, 1.0, 0.0, 0.0]\n",
      "F1 + Acc:  0.9898989898989898\n",
      "4\n",
      "11\n"
     ]
    },
    {
     "name": "stderr",
     "output_type": "stream",
     "text": [
      "Training... : 100%|██████████| 500/500 [00:09<00:00, 52.55it/s]\n"
     ]
    },
    {
     "name": "stdout",
     "output_type": "stream",
     "text": [
      "[0.0, 1.0, 1.0, 1.0, 1.0, 1.0, 1.0, 1.0, 1.0]\n",
      "F1 + Acc:  1.2698412698412698\n",
      "4\n",
      "13\n"
     ]
    },
    {
     "name": "stderr",
     "output_type": "stream",
     "text": [
      "Training... : 100%|██████████| 500/500 [00:09<00:00, 52.64it/s]\n"
     ]
    },
    {
     "name": "stdout",
     "output_type": "stream",
     "text": [
      "[0.0, 1.0, 1.0, 1.0, 0.0, 1.0, 1.0, 1.0, 1.0]\n",
      "F1 + Acc:  1.0598290598290596\n",
      "4\n",
      "15\n"
     ]
    },
    {
     "name": "stderr",
     "output_type": "stream",
     "text": [
      "Training... : 100%|██████████| 500/500 [00:09<00:00, 50.72it/s]\n"
     ]
    },
    {
     "name": "stdout",
     "output_type": "stream",
     "text": [
      "[0.0, 1.0, 1.0, 1.0, 1.0, 0.0, 1.0, 1.0, 1.0]\n",
      "F1 + Acc:  1.0598290598290596\n",
      "4\n",
      "17\n"
     ]
    },
    {
     "name": "stderr",
     "output_type": "stream",
     "text": [
      "Training... : 100%|██████████| 500/500 [00:10<00:00, 46.68it/s]\n"
     ]
    },
    {
     "name": "stdout",
     "output_type": "stream",
     "text": [
      "[0.0, 1.0, 1.0, 1.0, 1.0, 0.0, 1.0, 1.0, 1.0]\n",
      "F1 + Acc:  1.0598290598290596\n",
      "4\n",
      "19\n"
     ]
    },
    {
     "name": "stderr",
     "output_type": "stream",
     "text": [
      "Training... : 100%|██████████| 500/500 [00:09<00:00, 50.08it/s]\n"
     ]
    },
    {
     "name": "stdout",
     "output_type": "stream",
     "text": [
      "[0.0, 1.0, 1.0, 1.0, 1.0, 0.0, 1.0, 1.0, 0.0]\n",
      "F1 + Acc:  0.8333333333333333\n",
      "4\n",
      "21\n"
     ]
    },
    {
     "name": "stderr",
     "output_type": "stream",
     "text": [
      "Training... : 100%|██████████| 500/500 [00:09<00:00, 53.29it/s]\n"
     ]
    },
    {
     "name": "stdout",
     "output_type": "stream",
     "text": [
      "[0.0, 1.0, 1.0, 1.0, 1.0, 1.0, 1.0, 1.0, 1.0]\n",
      "F1 + Acc:  1.2698412698412698\n",
      "4\n",
      "23\n"
     ]
    },
    {
     "name": "stderr",
     "output_type": "stream",
     "text": [
      "Training... : 100%|██████████| 500/500 [00:09<00:00, 53.58it/s]\n"
     ]
    },
    {
     "name": "stdout",
     "output_type": "stream",
     "text": [
      "[0.0, 1.0, 1.0, 1.0, 1.0, 1.0, 1.0, 0.0, 1.0]\n",
      "F1 + Acc:  1.4358974358974357\n",
      "4\n",
      "25\n"
     ]
    },
    {
     "name": "stderr",
     "output_type": "stream",
     "text": [
      "Training... : 100%|██████████| 500/500 [00:09<00:00, 53.90it/s]\n"
     ]
    },
    {
     "name": "stdout",
     "output_type": "stream",
     "text": [
      "[0.0, 1.0, 1.0, 1.0, 1.0, 0.0, 1.0, 1.0, 1.0]\n",
      "F1 + Acc:  1.0598290598290596\n",
      "4\n",
      "27\n"
     ]
    },
    {
     "name": "stderr",
     "output_type": "stream",
     "text": [
      "Training... : 100%|██████████| 500/500 [00:09<00:00, 53.51it/s]\n"
     ]
    },
    {
     "name": "stdout",
     "output_type": "stream",
     "text": [
      "[0.0, 1.0, 1.0, 1.0, 1.0, 1.0, 1.0, 1.0, 0.0]\n",
      "F1 + Acc:  1.0598290598290596\n",
      "4\n",
      "29\n"
     ]
    },
    {
     "name": "stderr",
     "output_type": "stream",
     "text": [
      "Training... : 100%|██████████| 500/500 [00:09<00:00, 52.75it/s]\n"
     ]
    },
    {
     "name": "stdout",
     "output_type": "stream",
     "text": [
      "[0.0, 1.0, 1.0, 1.0, 1.0, 1.0, 1.0, 1.0, 1.0]\n",
      "F1 + Acc:  1.2698412698412698\n",
      "4\n",
      "31\n"
     ]
    },
    {
     "name": "stderr",
     "output_type": "stream",
     "text": [
      "Training... : 100%|██████████| 500/500 [00:09<00:00, 51.33it/s]\n"
     ]
    },
    {
     "name": "stdout",
     "output_type": "stream",
     "text": [
      "[0.0, 1.0, 1.0, 1.0, 1.0, 1.0, 1.0, 1.0, 1.0]\n",
      "F1 + Acc:  1.2698412698412698\n",
      "4\n",
      "33\n"
     ]
    },
    {
     "name": "stderr",
     "output_type": "stream",
     "text": [
      "Training... : 100%|██████████| 500/500 [00:09<00:00, 50.18it/s]\n"
     ]
    },
    {
     "name": "stdout",
     "output_type": "stream",
     "text": [
      "[0.0, 1.0, 1.0, 1.0, 1.0, 1.0, 1.0, 1.0, 1.0]\n",
      "F1 + Acc:  1.2698412698412698\n",
      "4\n",
      "35\n"
     ]
    },
    {
     "name": "stderr",
     "output_type": "stream",
     "text": [
      "Training... : 100%|██████████| 500/500 [00:09<00:00, 50.88it/s]\n"
     ]
    },
    {
     "name": "stdout",
     "output_type": "stream",
     "text": [
      "[0.0, 1.0, 1.0, 1.0, 1.0, 0.0, 1.0, 1.0, 1.0]\n",
      "F1 + Acc:  1.0598290598290596\n",
      "4\n",
      "37\n"
     ]
    },
    {
     "name": "stderr",
     "output_type": "stream",
     "text": [
      "Training... : 100%|██████████| 500/500 [00:09<00:00, 50.53it/s]\n"
     ]
    },
    {
     "name": "stdout",
     "output_type": "stream",
     "text": [
      "[0.0, 1.0, 1.0, 1.0, 1.0, 1.0, 1.0, 0.0, 1.0]\n",
      "F1 + Acc:  1.4358974358974357\n",
      "4\n",
      "39\n"
     ]
    },
    {
     "name": "stderr",
     "output_type": "stream",
     "text": [
      "Training... : 100%|██████████| 500/500 [00:09<00:00, 50.16it/s]\n"
     ]
    },
    {
     "name": "stdout",
     "output_type": "stream",
     "text": [
      "[0.0, 1.0, 1.0, 1.0, 1.0, 1.0, 1.0, 0.0, 1.0]\n",
      "F1 + Acc:  1.4358974358974357\n",
      "4\n",
      "41\n"
     ]
    },
    {
     "name": "stderr",
     "output_type": "stream",
     "text": [
      "Training... : 100%|██████████| 500/500 [00:10<00:00, 49.10it/s]\n"
     ]
    },
    {
     "name": "stdout",
     "output_type": "stream",
     "text": [
      "[0.0, 1.0, 1.0, 1.0, 1.0, 1.0, 1.0, 1.0, 1.0]\n",
      "F1 + Acc:  1.2698412698412698\n",
      "4\n",
      "43\n"
     ]
    },
    {
     "name": "stderr",
     "output_type": "stream",
     "text": [
      "Training... : 100%|██████████| 500/500 [00:10<00:00, 47.84it/s]\n"
     ]
    },
    {
     "name": "stdout",
     "output_type": "stream",
     "text": [
      "[0.0, 1.0, 1.0, 1.0, 1.0, 1.0, 1.0, 1.0, 1.0]\n",
      "F1 + Acc:  1.2698412698412698\n",
      "4\n",
      "45\n"
     ]
    },
    {
     "name": "stderr",
     "output_type": "stream",
     "text": [
      "Training... : 100%|██████████| 500/500 [00:10<00:00, 48.50it/s]\n"
     ]
    },
    {
     "name": "stdout",
     "output_type": "stream",
     "text": [
      "[0.0, 1.0, 1.0, 1.0, 1.0, 1.0, 1.0, 1.0, 1.0]\n",
      "F1 + Acc:  1.2698412698412698\n",
      "4\n",
      "47\n"
     ]
    },
    {
     "name": "stderr",
     "output_type": "stream",
     "text": [
      "Training... : 100%|██████████| 500/500 [00:10<00:00, 49.81it/s]\n"
     ]
    },
    {
     "name": "stdout",
     "output_type": "stream",
     "text": [
      "[0.0, 1.0, 1.0, 1.0, 1.0, 1.0, 0.0, 1.0, 1.0]\n",
      "F1 + Acc:  1.4358974358974357\n",
      "4\n",
      "49\n"
     ]
    },
    {
     "name": "stderr",
     "output_type": "stream",
     "text": [
      "Training... : 100%|██████████| 500/500 [00:10<00:00, 48.73it/s]\n"
     ]
    },
    {
     "name": "stdout",
     "output_type": "stream",
     "text": [
      "[0.0, 1.0, 1.0, 1.0, 1.0, 0.0, 1.0, 1.0, 1.0]\n",
      "F1 + Acc:  1.0598290598290596\n",
      "4\n",
      "51\n"
     ]
    },
    {
     "name": "stderr",
     "output_type": "stream",
     "text": [
      "Training... : 100%|██████████| 500/500 [00:10<00:00, 47.26it/s]\n"
     ]
    },
    {
     "name": "stdout",
     "output_type": "stream",
     "text": [
      "[0.0, 1.0, 1.0, 1.0, 1.0, 1.0, 1.0, 1.0, 1.0]\n",
      "F1 + Acc:  1.2698412698412698\n",
      "4\n",
      "53\n"
     ]
    },
    {
     "name": "stderr",
     "output_type": "stream",
     "text": [
      "Training... : 100%|██████████| 500/500 [00:10<00:00, 45.78it/s]\n"
     ]
    },
    {
     "name": "stdout",
     "output_type": "stream",
     "text": [
      "[0.0, 1.0, 1.0, 1.0, 1.0, 1.0, 1.0, 1.0, 1.0]\n",
      "F1 + Acc:  1.2698412698412698\n",
      "4\n",
      "55\n"
     ]
    },
    {
     "name": "stderr",
     "output_type": "stream",
     "text": [
      "Training... : 100%|██████████| 500/500 [00:11<00:00, 44.87it/s]\n"
     ]
    },
    {
     "name": "stdout",
     "output_type": "stream",
     "text": [
      "[0.0, 1.0, 1.0, 1.0, 1.0, 1.0, 0.0, 1.0, 1.0]\n",
      "F1 + Acc:  1.4358974358974357\n",
      "4\n",
      "57\n"
     ]
    },
    {
     "name": "stderr",
     "output_type": "stream",
     "text": [
      "Training... : 100%|██████████| 500/500 [00:12<00:00, 41.41it/s]\n"
     ]
    },
    {
     "name": "stdout",
     "output_type": "stream",
     "text": [
      "[0.0, 1.0, 1.0, 1.0, 1.0, 1.0, 1.0, 1.0, 1.0]\n",
      "F1 + Acc:  1.2698412698412698\n",
      "4\n",
      "59\n"
     ]
    },
    {
     "name": "stderr",
     "output_type": "stream",
     "text": [
      "Training... : 100%|██████████| 500/500 [00:13<00:00, 38.12it/s]\n"
     ]
    },
    {
     "name": "stdout",
     "output_type": "stream",
     "text": [
      "[0.0, 1.0, 1.0, 1.0, 1.0, 1.0, 1.0, 1.0, 1.0]\n",
      "F1 + Acc:  1.2698412698412698\n",
      "4\n",
      "61\n"
     ]
    },
    {
     "name": "stderr",
     "output_type": "stream",
     "text": [
      "Training... : 100%|██████████| 500/500 [00:11<00:00, 42.41it/s]\n"
     ]
    },
    {
     "name": "stdout",
     "output_type": "stream",
     "text": [
      "[0.0, 1.0, 1.0, 1.0, 1.0, 1.0, 1.0, 1.0, 1.0]\n",
      "F1 + Acc:  1.2698412698412698\n",
      "4\n",
      "63\n"
     ]
    },
    {
     "name": "stderr",
     "output_type": "stream",
     "text": [
      "Training... : 100%|██████████| 500/500 [00:10<00:00, 45.49it/s]\n"
     ]
    },
    {
     "name": "stdout",
     "output_type": "stream",
     "text": [
      "[0.0, 1.0, 1.0, 1.0, 1.0, 1.0, 1.0, 1.0, 1.0]\n",
      "F1 + Acc:  1.2698412698412698\n",
      "4\n",
      "65\n"
     ]
    },
    {
     "name": "stderr",
     "output_type": "stream",
     "text": [
      "Training... : 100%|██████████| 500/500 [00:11<00:00, 44.99it/s]\n"
     ]
    },
    {
     "name": "stdout",
     "output_type": "stream",
     "text": [
      "[0.0, 1.0, 1.0, 0.0, 1.0, 1.0, 1.0, 1.0, 0.0]\n",
      "F1 + Acc:  1.2222222222222223\n",
      "4\n",
      "67\n"
     ]
    },
    {
     "name": "stderr",
     "output_type": "stream",
     "text": [
      "Training... : 100%|██████████| 500/500 [00:11<00:00, 44.09it/s]\n"
     ]
    },
    {
     "name": "stdout",
     "output_type": "stream",
     "text": [
      "[0.0, 1.0, 1.0, 1.0, 0.0, 1.0, 1.0, 1.0, 1.0]\n",
      "F1 + Acc:  1.0598290598290596\n",
      "4\n",
      "69\n"
     ]
    },
    {
     "name": "stderr",
     "output_type": "stream",
     "text": [
      "Training... : 100%|██████████| 500/500 [00:11<00:00, 42.88it/s]\n"
     ]
    },
    {
     "name": "stdout",
     "output_type": "stream",
     "text": [
      "[0.0, 1.0, 1.0, 1.0, 1.0, 1.0, 1.0, 1.0, 0.0]\n",
      "F1 + Acc:  1.0598290598290596\n",
      "4\n",
      "71\n"
     ]
    },
    {
     "name": "stderr",
     "output_type": "stream",
     "text": [
      "Training... : 100%|██████████| 500/500 [00:12<00:00, 40.35it/s]\n"
     ]
    },
    {
     "name": "stdout",
     "output_type": "stream",
     "text": [
      "[0.0, 1.0, 1.0, 1.0, 1.0, 1.0, 1.0, 1.0, 1.0]\n",
      "F1 + Acc:  1.2698412698412698\n",
      "4\n",
      "73\n"
     ]
    },
    {
     "name": "stderr",
     "output_type": "stream",
     "text": [
      "Training... : 100%|██████████| 500/500 [00:12<00:00, 39.27it/s]\n"
     ]
    },
    {
     "name": "stdout",
     "output_type": "stream",
     "text": [
      "[0.0, 1.0, 1.0, 1.0, 1.0, 1.0, 0.0, 1.0, 1.0]\n",
      "F1 + Acc:  1.4358974358974357\n",
      "4\n",
      "75\n"
     ]
    },
    {
     "name": "stderr",
     "output_type": "stream",
     "text": [
      "Training... : 100%|██████████| 500/500 [00:12<00:00, 39.88it/s]\n"
     ]
    },
    {
     "name": "stdout",
     "output_type": "stream",
     "text": [
      "[0.0, 1.0, 1.0, 1.0, 1.0, 1.0, 1.0, 1.0, 1.0]\n",
      "F1 + Acc:  1.2698412698412698\n",
      "4\n",
      "77\n"
     ]
    },
    {
     "name": "stderr",
     "output_type": "stream",
     "text": [
      "Training... : 100%|██████████| 500/500 [00:12<00:00, 39.32it/s]\n"
     ]
    },
    {
     "name": "stdout",
     "output_type": "stream",
     "text": [
      "[0.0, 1.0, 1.0, 1.0, 1.0, 1.0, 1.0, 1.0, 0.0]\n",
      "F1 + Acc:  1.0598290598290596\n",
      "4\n",
      "79\n"
     ]
    },
    {
     "name": "stderr",
     "output_type": "stream",
     "text": [
      "Training... : 100%|██████████| 500/500 [00:12<00:00, 40.02it/s]\n"
     ]
    },
    {
     "name": "stdout",
     "output_type": "stream",
     "text": [
      "[0.0, 1.0, 1.0, 1.0, 1.0, 1.0, 1.0, 1.0, 0.0]\n",
      "F1 + Acc:  1.0598290598290596\n",
      "4\n",
      "81\n"
     ]
    },
    {
     "name": "stderr",
     "output_type": "stream",
     "text": [
      "Training... : 100%|██████████| 500/500 [00:12<00:00, 39.17it/s]\n"
     ]
    },
    {
     "name": "stdout",
     "output_type": "stream",
     "text": [
      "[0.0, 1.0, 1.0, 1.0, 1.0, 1.0, 1.0, 1.0, 1.0]\n",
      "F1 + Acc:  1.2698412698412698\n",
      "4\n",
      "83\n"
     ]
    },
    {
     "name": "stderr",
     "output_type": "stream",
     "text": [
      "Training... : 100%|██████████| 500/500 [00:12<00:00, 38.76it/s]\n"
     ]
    },
    {
     "name": "stdout",
     "output_type": "stream",
     "text": [
      "[0.0, 1.0, 1.0, 1.0, 1.0, 1.0, 1.0, 1.0, 1.0]\n",
      "F1 + Acc:  1.2698412698412698\n",
      "4\n",
      "85\n"
     ]
    },
    {
     "name": "stderr",
     "output_type": "stream",
     "text": [
      "Training... : 100%|██████████| 500/500 [00:13<00:00, 37.18it/s]\n"
     ]
    },
    {
     "name": "stdout",
     "output_type": "stream",
     "text": [
      "[0.0, 1.0, 1.0, 1.0, 1.0, 1.0, 1.0, 1.0, 1.0]\n",
      "F1 + Acc:  1.2698412698412698\n",
      "4\n",
      "87\n"
     ]
    },
    {
     "name": "stderr",
     "output_type": "stream",
     "text": [
      "Training... : 100%|██████████| 500/500 [00:13<00:00, 35.92it/s]\n"
     ]
    },
    {
     "name": "stdout",
     "output_type": "stream",
     "text": [
      "[0.0, 1.0, 1.0, 1.0, 1.0, 1.0, 1.0, 1.0, 1.0]\n",
      "F1 + Acc:  1.2698412698412698\n",
      "4\n",
      "89\n"
     ]
    },
    {
     "name": "stderr",
     "output_type": "stream",
     "text": [
      "Training... : 100%|██████████| 500/500 [00:13<00:00, 37.81it/s]\n"
     ]
    },
    {
     "name": "stdout",
     "output_type": "stream",
     "text": [
      "[0.0, 1.0, 1.0, 1.0, 1.0, 1.0, 1.0, 1.0, 1.0]\n",
      "F1 + Acc:  1.2698412698412698\n",
      "4\n",
      "91\n"
     ]
    },
    {
     "name": "stderr",
     "output_type": "stream",
     "text": [
      "Training... : 100%|██████████| 500/500 [00:14<00:00, 35.31it/s]\n"
     ]
    },
    {
     "name": "stdout",
     "output_type": "stream",
     "text": [
      "[0.0, 1.0, 1.0, 1.0, 1.0, 0.0, 1.0, 0.0, 0.0]\n",
      "F1 + Acc:  0.9898989898989898\n",
      "4\n",
      "93\n"
     ]
    },
    {
     "name": "stderr",
     "output_type": "stream",
     "text": [
      "Training... : 100%|██████████| 500/500 [00:15<00:00, 32.14it/s]\n"
     ]
    },
    {
     "name": "stdout",
     "output_type": "stream",
     "text": [
      "[0.0, 1.0, 1.0, 1.0, 1.0, 1.0, 1.0, 1.0, 1.0]\n",
      "F1 + Acc:  1.2698412698412698\n",
      "4\n",
      "95\n"
     ]
    },
    {
     "name": "stderr",
     "output_type": "stream",
     "text": [
      "Training... : 100%|██████████| 500/500 [00:14<00:00, 34.35it/s]\n"
     ]
    },
    {
     "name": "stdout",
     "output_type": "stream",
     "text": [
      "[0.0, 1.0, 1.0, 1.0, 1.0, 1.0, 1.0, 1.0, 0.0]\n",
      "F1 + Acc:  1.0598290598290596\n",
      "4\n",
      "97\n"
     ]
    },
    {
     "name": "stderr",
     "output_type": "stream",
     "text": [
      "Training... : 100%|██████████| 500/500 [00:14<00:00, 34.69it/s]\n"
     ]
    },
    {
     "name": "stdout",
     "output_type": "stream",
     "text": [
      "[0.0, 1.0, 1.0, 1.0, 1.0, 1.0, 1.0, 1.0, 1.0]\n",
      "F1 + Acc:  1.2698412698412698\n",
      "4\n",
      "99\n"
     ]
    },
    {
     "name": "stderr",
     "output_type": "stream",
     "text": [
      "Training... : 100%|██████████| 500/500 [00:14<00:00, 34.26it/s]"
     ]
    },
    {
     "name": "stdout",
     "output_type": "stream",
     "text": [
      "[0.0, 1.0, 1.0, 1.0, 1.0, 1.0, 1.0, 1.0, 0.0]\n",
      "F1 + Acc:  1.0598290598290596\n"
     ]
    },
    {
     "name": "stderr",
     "output_type": "stream",
     "text": [
      "\n"
     ]
    }
   ],
   "source": [
    "# grid search ;)\n",
    "best_acc, best_prec, best_rec, best_f1, sum = 0, 0, 0, 0, 0\n",
    "best_cm, best_model, best_params = None, None, None\n",
    "for l in range(1, 5):\n",
    "    for w in range(1, 101, 2):\n",
    "        print(l)\n",
    "        print(w)\n",
    "\n",
    "        params = {\n",
    "            'n_in': n_features,\n",
    "            'n_width': w,\n",
    "            'n_layers': l,\n",
    "            'n_out': 1,\n",
    "            'mimo': False\n",
    "        }\n",
    "\n",
    "        model = nets.RNN(**params)\n",
    "        loss_fn = nn.BCELoss()\n",
    "        adam = optim.Adam(model.parameters(), lr=0.001)\n",
    "\n",
    "        epochs = 500\n",
    "        loss_vals, cross_vals = [], []\n",
    "        for epoch in tqdm(range(epochs), 'Training... '):\n",
    "            temp_loss = []\n",
    "            for samples, labels in train:\n",
    "                samples = samples.float()\n",
    "                output = model(samples)\n",
    "\n",
    "                loss = loss_fn(output, labels.float())\n",
    "\n",
    "                adam.zero_grad()\n",
    "                loss.backward()\n",
    "                adam.step()\n",
    "\n",
    "                temp_loss.append(loss.item())\n",
    "\n",
    "        model.eval()\n",
    "\n",
    "        X = valid_X\n",
    "        X = X.astype('float32')\n",
    "        with torch.no_grad():\n",
    "            out = model(torch.tensor(X)).detach().numpy()\n",
    "\n",
    "        preds = (torch.from_numpy(out) > 0.5).float()\n",
    "\n",
    "        truth = valid_y.tolist()\n",
    "        preds = preds.tolist()\n",
    "\n",
    "        truth = list(itertools.chain.from_iterable(truth))\n",
    "        preds = list(itertools.chain.from_iterable(preds))\n",
    "\n",
    "        print(preds)\n",
    "\n",
    "        cm = confusion_matrix(truth, preds)\n",
    "        accuracy = accuracy_score(truth, preds)\n",
    "        precision = precision_score(truth, preds)\n",
    "        recall = recall_score(truth, preds)\n",
    "        f1 = f1_score(truth, preds)\n",
    "\n",
    "        curr = f1 + accuracy\n",
    "        print(\"F1 + Acc: \", curr)\n",
    "\n",
    "        if curr > sum:\n",
    "            best_cm = cm\n",
    "            best_acc = accuracy\n",
    "            best_prec = precision\n",
    "            best_rec = recall\n",
    "            best_f1 = f1\n",
    "            best_model = model\n",
    "            best_params = params\n",
    "            sum = curr"
   ],
   "metadata": {
    "collapsed": false
   }
  },
  {
   "cell_type": "code",
   "execution_count": 9,
   "outputs": [
    {
     "name": "stdout",
     "output_type": "stream",
     "text": [
      "Accuracy Score: 0.7777777777777778\n",
      "Precision Score: 0.8333333333333334\n",
      "Recall Score: 0.8333333333333334\n",
      "F1 Score:  0.8333333333333334\n",
      "Best Parameters:\n",
      "{'n_in': 6, 'n_width': 59, 'n_layers': 2, 'n_out': 1, 'mimo': False}\n"
     ]
    },
    {
     "data": {
      "text/plain": "<Figure size 640x480 with 1 Axes>",
      "image/png": "[encoded data removed]"
     },
     "metadata": {},
     "output_type": "display_data"
    }
   ],
   "source": [
    "print(\"Accuracy Score:\", best_acc)\n",
    "print(\"Precision Score:\", best_prec)\n",
    "print(\"Recall Score:\", best_rec)\n",
    "print(\"F1 Score: \", best_f1)\n",
    "\n",
    "print(\"Best Parameters:\")\n",
    "print(best_params)\n",
    "\n",
    "sns.heatmap(best_cm, annot=True, cmap='Blues', fmt='g', cbar=False)\n",
    "plt.xlabel('Predicted labels')\n",
    "plt.ylabel('True labels')\n",
    "plt.title('Confusion Matrix')\n",
    "plt.savefig('results/RNN_MISO/grid_struc_cm.png', dpi=900)\n",
    "plt.show()"
   ],
   "metadata": {
    "collapsed": false
   }
  },
  {
   "cell_type": "code",
   "execution_count": 9,
   "outputs": [],
   "source": [],
   "metadata": {
    "collapsed": false
   }
  }
 ],
 "metadata": {
  "kernelspec": {
   "display_name": "Python 3",
   "language": "python",
   "name": "python3"
  },
  "language_info": {
   "codemirror_mode": {
    "name": "ipython",
    "version": 2
   },
   "file_extension": ".py",
   "mimetype": "text/x-python",
   "name": "python",
   "nbconvert_exporter": "python",
   "pygments_lexer": "ipython2",
   "version": "2.7.6"
  }
 },
 "nbformat": 4,
 "nbformat_minor": 0
}
