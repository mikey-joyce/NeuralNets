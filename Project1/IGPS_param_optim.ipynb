{
 "cells": [
  {
   "cell_type": "code",
   "execution_count": 1,
   "metadata": {
    "collapsed": true
   },
   "outputs": [],
   "source": [
    "import NetworkArchitectures as nets\n",
    "import torch\n",
    "import torch.nn as nn\n",
    "import torch.optim as optim\n",
    "import pandas as pd\n",
    "import os\n",
    "import numpy as np\n",
    "import matplotlib.pyplot as plt\n",
    "import seaborn as sns\n",
    "from sklearn.preprocessing import LabelEncoder\n",
    "from sklearn.preprocessing import MinMaxScaler\n",
    "from sklearn.impute import KNNImputer\n",
    "from sklearn.metrics import confusion_matrix\n",
    "from sklearn.metrics import accuracy_score, precision_score, recall_score, f1_score\n",
    "from dataset_utils import Format_Dataset\n",
    "from tqdm import tqdm"
   ]
  },
  {
   "cell_type": "code",
   "execution_count": 2,
   "outputs": [
    {
     "data": {
      "text/plain": "     IOP         P1         P5           R4        Age  acuity  \\\n0   20.0  47.489951  19.316454  5689.152456  68.172485    0.14   \n1   18.0  41.983253  18.571021  5763.809295  68.501027    0.12   \n2   12.0  43.567630  19.048322  4121.464174  58.231348   -0.04   \n3   13.0  50.544863  20.265924  3952.890670  75.148528    0.08   \n4   20.0  53.856285  20.514162  5312.669706  71.887748    0.10   \n..   ...        ...        ...          ...        ...     ...   \n64  17.0  39.823806  18.243175  5652.671323  72.490075   -0.06   \n65  14.0  41.748648  18.673210  4689.228002  38.661191    0.02   \n66   4.0  46.703749  19.787909  2674.666564  82.762491    0.32   \n67  21.0  41.925701  17.987417  5940.162774  72.361396    0.38   \n68  16.0  47.218775  19.575238  4830.059502  77.661875    0.30   \n\n    cup_disk_vert_ratio  cup_disk_horiz_ratio  mean_RNFL_thickness  \\\n0                 0.490                 0.464                 0.28   \n1                 0.598                 0.707                 0.27   \n2                 0.794                 0.681                 0.21   \n3                 0.637                 0.694                 0.25   \n4                 0.705                 0.821                 0.27   \n..                  ...                   ...                  ...   \n64                0.770                 0.652                 0.15   \n65                0.751                 0.790                 0.04   \n66                0.751                 0.734                 0.17   \n67                0.890                 0.948                 0.18   \n68                0.497                 0.433                 0.20   \n\n    next_ProgressionStructure1  \n0                          0.0  \n1                          1.0  \n2                          1.0  \n3                          1.0  \n4                          1.0  \n..                         ...  \n64                         1.0  \n65                         1.0  \n66                         1.0  \n67                         1.0  \n68                         1.0  \n\n[621 rows x 10 columns]",
      "text/html": "<div>\n<style scoped>\n    .dataframe tbody tr th:only-of-type {\n        vertical-align: middle;\n    }\n\n    .dataframe tbody tr th {\n        vertical-align: top;\n    }\n\n    .dataframe thead th {\n        text-align: right;\n    }\n</style>\n<table border=\"1\" class=\"dataframe\">\n  <thead>\n    <tr style=\"text-align: right;\">\n      <th></th>\n      <th>IOP</th>\n      <th>P1</th>\n      <th>P5</th>\n      <th>R4</th>\n      <th>Age</th>\n      <th>acuity</th>\n      <th>cup_disk_vert_ratio</th>\n      <th>cup_disk_horiz_ratio</th>\n      <th>mean_RNFL_thickness</th>\n      <th>next_ProgressionStructure1</th>\n    </tr>\n  </thead>\n  <tbody>\n    <tr>\n      <th>0</th>\n      <td>20.0</td>\n      <td>47.489951</td>\n      <td>19.316454</td>\n      <td>5689.152456</td>\n      <td>68.172485</td>\n      <td>0.14</td>\n      <td>0.490</td>\n      <td>0.464</td>\n      <td>0.28</td>\n      <td>0.0</td>\n    </tr>\n    <tr>\n      <th>1</th>\n      <td>18.0</td>\n      <td>41.983253</td>\n      <td>18.571021</td>\n      <td>5763.809295</td>\n      <td>68.501027</td>\n      <td>0.12</td>\n      <td>0.598</td>\n      <td>0.707</td>\n      <td>0.27</td>\n      <td>1.0</td>\n    </tr>\n    <tr>\n      <th>2</th>\n      <td>12.0</td>\n      <td>43.567630</td>\n      <td>19.048322</td>\n      <td>4121.464174</td>\n      <td>58.231348</td>\n      <td>-0.04</td>\n      <td>0.794</td>\n      <td>0.681</td>\n      <td>0.21</td>\n      <td>1.0</td>\n    </tr>\n    <tr>\n      <th>3</th>\n      <td>13.0</td>\n      <td>50.544863</td>\n      <td>20.265924</td>\n      <td>3952.890670</td>\n      <td>75.148528</td>\n      <td>0.08</td>\n      <td>0.637</td>\n      <td>0.694</td>\n      <td>0.25</td>\n      <td>1.0</td>\n    </tr>\n    <tr>\n      <th>4</th>\n      <td>20.0</td>\n      <td>53.856285</td>\n      <td>20.514162</td>\n      <td>5312.669706</td>\n      <td>71.887748</td>\n      <td>0.10</td>\n      <td>0.705</td>\n      <td>0.821</td>\n      <td>0.27</td>\n      <td>1.0</td>\n    </tr>\n    <tr>\n      <th>...</th>\n      <td>...</td>\n      <td>...</td>\n      <td>...</td>\n      <td>...</td>\n      <td>...</td>\n      <td>...</td>\n      <td>...</td>\n      <td>...</td>\n      <td>...</td>\n      <td>...</td>\n    </tr>\n    <tr>\n      <th>64</th>\n      <td>17.0</td>\n      <td>39.823806</td>\n      <td>18.243175</td>\n      <td>5652.671323</td>\n      <td>72.490075</td>\n      <td>-0.06</td>\n      <td>0.770</td>\n      <td>0.652</td>\n      <td>0.15</td>\n      <td>1.0</td>\n    </tr>\n    <tr>\n      <th>65</th>\n      <td>14.0</td>\n      <td>41.748648</td>\n      <td>18.673210</td>\n      <td>4689.228002</td>\n      <td>38.661191</td>\n      <td>0.02</td>\n      <td>0.751</td>\n      <td>0.790</td>\n      <td>0.04</td>\n      <td>1.0</td>\n    </tr>\n    <tr>\n      <th>66</th>\n      <td>4.0</td>\n      <td>46.703749</td>\n      <td>19.787909</td>\n      <td>2674.666564</td>\n      <td>82.762491</td>\n      <td>0.32</td>\n      <td>0.751</td>\n      <td>0.734</td>\n      <td>0.17</td>\n      <td>1.0</td>\n    </tr>\n    <tr>\n      <th>67</th>\n      <td>21.0</td>\n      <td>41.925701</td>\n      <td>17.987417</td>\n      <td>5940.162774</td>\n      <td>72.361396</td>\n      <td>0.38</td>\n      <td>0.890</td>\n      <td>0.948</td>\n      <td>0.18</td>\n      <td>1.0</td>\n    </tr>\n    <tr>\n      <th>68</th>\n      <td>16.0</td>\n      <td>47.218775</td>\n      <td>19.575238</td>\n      <td>4830.059502</td>\n      <td>77.661875</td>\n      <td>0.30</td>\n      <td>0.497</td>\n      <td>0.433</td>\n      <td>0.20</td>\n      <td>1.0</td>\n    </tr>\n  </tbody>\n</table>\n<p>621 rows × 10 columns</p>\n</div>"
     },
     "execution_count": 2,
     "metadata": {},
     "output_type": "execute_result"
    }
   ],
   "source": [
    "# Load in the Indianapolis Glaucoma Progression Study\n",
    "data_dir = 'data/IGPS/'\n",
    "results_dir = 'results/IGPS/'\n",
    "\n",
    "features = [\n",
    "    'IOP', 'MAP', 'SBP', 'DBP', 'HR', 'Qmean', 'P1', 'P2', 'P4', 'P5', 'R4', 'R5', 'trusoptBase', 'timololBase', 'Gen_Vision', 'macular_volume', 'mean_RNFL_thickness', 'Age', 'soft_green', 'soft_red', 'soft_blue', 'ProgressionStructure1', 'next_ProgressionStructure1'\n",
    "]\n",
    "\n",
    "features = [\n",
    "    'IOP', 'MAP', 'SBP', 'DBP', 'HR', 'Qmean', 'P1', 'P2', 'P4', 'P5', 'R4', 'R5', 'next_ProgressionStructure1'\n",
    "]\n",
    "\n",
    "features = [\n",
    "    'IOP', 'P1', 'P5', 'R4', 'cup_disk_horiz_ratio', 'mean_RNFL_thickness', 'next_ProgressionStructure1'\n",
    "]\n",
    "\n",
    "features = [\n",
    "    'IOP', 'P1', 'P5', 'R4', 'Age', 'acuity', 'cup_disk_vert_ratio', 'cup_disk_horiz_ratio', 'mean_RNFL_thickness', 'next_ProgressionStructure1'\n",
    "]\n",
    "\n",
    "\n",
    "first, igps = True, None\n",
    "for fn in sorted(os.listdir(data_dir)):\n",
    "    if fn.endswith('.csv'):\n",
    "        path = os.path.join(data_dir, fn)\n",
    "\n",
    "        if first:\n",
    "            igps = pd.read_csv(path)[features]  # grab only the features needed\n",
    "            first = False\n",
    "            continue\n",
    "\n",
    "        df = pd.read_csv(path)[features]\n",
    "        igps = pd.concat([igps, df])\n",
    "\n",
    "# Possibly some missing data; lets fix it\n",
    "def impute_col_KNN(df, col_name):\n",
    "    col = df[[col_name]]\n",
    "    imputer = KNNImputer(n_neighbors=5)\n",
    "    col = imputer.fit_transform(col)\n",
    "    df[col_name] = col\n",
    "\n",
    "for f in features:\n",
    "    impute_col_KNN(igps, f)\n",
    "\n",
    "first_visit = pd.read_csv(data_dir + 'year0_0.csv')[features]\n",
    "\n",
    "for f in features:\n",
    "    impute_col_KNN(first_visit, f)\n",
    "\n",
    "first_visit = first_visit.drop(columns='next_ProgressionStructure1')\n",
    "\n",
    "igps"
   ],
   "metadata": {
    "collapsed": false
   }
  },
  {
   "cell_type": "code",
   "execution_count": 3,
   "outputs": [
    {
     "name": "stdout",
     "output_type": "stream",
     "text": [
      "(496, 9)\n"
     ]
    }
   ],
   "source": [
    "# Preprocess this mess\n",
    "split = int(0.8 * len(igps))\n",
    "train = igps.iloc[:split]\n",
    "test = igps.iloc[split:]\n",
    "\n",
    "feat_count = len(features) - 1\n",
    "\n",
    "train_X, train_y = train[features[:feat_count]], train[features[feat_count:]]\n",
    "test_X, test_y = test[features[:feat_count]], test[features[feat_count:]]\n",
    "\n",
    "train_X, train_y = train_X.to_numpy(), train_y.to_numpy()\n",
    "test_X, test_y = test_X.to_numpy(), test_y.to_numpy()\n",
    "\n",
    "first_visit = first_visit.to_numpy()    # the purpose of this line is to obtain the same verified clusters as we only use data from\n",
    "                                        # the first visit to verify the clusters\n",
    "print(train_X.shape)\n",
    "\n",
    "# normalize the data\n",
    "s = MinMaxScaler()\n",
    "train_X = s.fit_transform(train_X)\n",
    "test_X = s.transform(test_X)\n",
    "\n",
    "first_visit = s.transform(first_visit)\n",
    "\n",
    "dataset = {\n",
    "    'samples': train_X,\n",
    "    'labels': train_y\n",
    "}\n",
    "\n",
    "# Input layer basically\n",
    "train = Format_Dataset(dataset, choice='Train')\n",
    "train = torch.utils.data.DataLoader(shuffle=False, dataset=train, batch_size=10)"
   ],
   "metadata": {
    "collapsed": false
   }
  },
  {
   "cell_type": "code",
   "execution_count": 4,
   "outputs": [
    {
     "data": {
      "text/plain": "\"params = {\\n    'k': 5,\\n    'data': first_visit,\\n    'sigma': 0.75,\\n    'mode': 2\\n}\\n\\nrbf = nets.RBF(**params)\\nloss_fn = nn.BCELoss()\\nsgd = optim.Adam(rbf.parameters(), lr=0.01)\\n\\nlist(rbf.parameters())\""
     },
     "execution_count": 4,
     "metadata": {},
     "output_type": "execute_result"
    }
   ],
   "source": [
    "'''params = {\n",
    "    'k': 5,\n",
    "    'data': first_visit,\n",
    "    'sigma': 0.75,\n",
    "    'mode': 2\n",
    "}\n",
    "\n",
    "rbf = nets.RBF(**params)\n",
    "loss_fn = nn.BCELoss()\n",
    "sgd = optim.Adam(rbf.parameters(), lr=0.01)\n",
    "\n",
    "list(rbf.parameters())'''"
   ],
   "metadata": {
    "collapsed": false
   }
  },
  {
   "cell_type": "code",
   "execution_count": 5,
   "outputs": [
    {
     "name": "stderr",
     "output_type": "stream",
     "text": [
      "Training... :   0%|          | 0/2000 [00:00<?, ?it/s]/Users/mikeyjoyce/Documents/Grad School/NeuralNets/Project1/NetworkArchitectures.py:37: UserWarning: To copy construct from a tensor, it is recommended to use sourceTensor.clone().detach() or sourceTensor.clone().detach().requires_grad_(True), rather than torch.tensor(sourceTensor).\n",
      "  return torch.exp(-torch.pow(torch.tensor(x, dtype=torch.float64).unsqueeze(1) - self.centers, 2).sum(dim=2) / (2 * self.covar**2))\n",
      "Training... : 100%|██████████| 2000/2000 [01:48<00:00, 18.49it/s]\n",
      "Training... :   0%|          | 0/2000 [00:00<?, ?it/s]/Users/mikeyjoyce/Documents/Grad School/NeuralNets/Project1/NetworkArchitectures.py:37: UserWarning: To copy construct from a tensor, it is recommended to use sourceTensor.clone().detach() or sourceTensor.clone().detach().requires_grad_(True), rather than torch.tensor(sourceTensor).\n",
      "  return torch.exp(-torch.pow(torch.tensor(x, dtype=torch.float64).unsqueeze(1) - self.centers, 2).sum(dim=2) / (2 * self.covar**2))\n",
      "Training... : 100%|██████████| 2000/2000 [01:44<00:00, 19.14it/s]\n",
      "Training... :   0%|          | 0/2000 [00:00<?, ?it/s]/Users/mikeyjoyce/Documents/Grad School/NeuralNets/Project1/NetworkArchitectures.py:37: UserWarning: To copy construct from a tensor, it is recommended to use sourceTensor.clone().detach() or sourceTensor.clone().detach().requires_grad_(True), rather than torch.tensor(sourceTensor).\n",
      "  return torch.exp(-torch.pow(torch.tensor(x, dtype=torch.float64).unsqueeze(1) - self.centers, 2).sum(dim=2) / (2 * self.covar**2))\n",
      "Training... : 100%|██████████| 2000/2000 [01:47<00:00, 18.56it/s]\n",
      "Training... :   0%|          | 0/2000 [00:00<?, ?it/s]/Users/mikeyjoyce/Documents/Grad School/NeuralNets/Project1/NetworkArchitectures.py:37: UserWarning: To copy construct from a tensor, it is recommended to use sourceTensor.clone().detach() or sourceTensor.clone().detach().requires_grad_(True), rather than torch.tensor(sourceTensor).\n",
      "  return torch.exp(-torch.pow(torch.tensor(x, dtype=torch.float64).unsqueeze(1) - self.centers, 2).sum(dim=2) / (2 * self.covar**2))\n",
      "Training... : 100%|██████████| 2000/2000 [01:54<00:00, 17.53it/s]\n",
      "Training... :   0%|          | 0/2000 [00:00<?, ?it/s]/Users/mikeyjoyce/Documents/Grad School/NeuralNets/Project1/NetworkArchitectures.py:37: UserWarning: To copy construct from a tensor, it is recommended to use sourceTensor.clone().detach() or sourceTensor.clone().detach().requires_grad_(True), rather than torch.tensor(sourceTensor).\n",
      "  return torch.exp(-torch.pow(torch.tensor(x, dtype=torch.float64).unsqueeze(1) - self.centers, 2).sum(dim=2) / (2 * self.covar**2))\n",
      "Training... : 100%|██████████| 2000/2000 [01:50<00:00, 18.11it/s]\n",
      "Training... :   0%|          | 0/2000 [00:00<?, ?it/s]/Users/mikeyjoyce/Documents/Grad School/NeuralNets/Project1/NetworkArchitectures.py:37: UserWarning: To copy construct from a tensor, it is recommended to use sourceTensor.clone().detach() or sourceTensor.clone().detach().requires_grad_(True), rather than torch.tensor(sourceTensor).\n",
      "  return torch.exp(-torch.pow(torch.tensor(x, dtype=torch.float64).unsqueeze(1) - self.centers, 2).sum(dim=2) / (2 * self.covar**2))\n",
      "Training... : 100%|██████████| 2000/2000 [01:50<00:00, 18.09it/s]\n",
      "Training... :   0%|          | 0/2000 [00:00<?, ?it/s]/Users/mikeyjoyce/Documents/Grad School/NeuralNets/Project1/NetworkArchitectures.py:37: UserWarning: To copy construct from a tensor, it is recommended to use sourceTensor.clone().detach() or sourceTensor.clone().detach().requires_grad_(True), rather than torch.tensor(sourceTensor).\n",
      "  return torch.exp(-torch.pow(torch.tensor(x, dtype=torch.float64).unsqueeze(1) - self.centers, 2).sum(dim=2) / (2 * self.covar**2))\n",
      "Training... : 100%|██████████| 2000/2000 [01:56<00:00, 17.23it/s]\n",
      "Training... :   0%|          | 0/2000 [00:00<?, ?it/s]/Users/mikeyjoyce/Documents/Grad School/NeuralNets/Project1/NetworkArchitectures.py:37: UserWarning: To copy construct from a tensor, it is recommended to use sourceTensor.clone().detach() or sourceTensor.clone().detach().requires_grad_(True), rather than torch.tensor(sourceTensor).\n",
      "  return torch.exp(-torch.pow(torch.tensor(x, dtype=torch.float64).unsqueeze(1) - self.centers, 2).sum(dim=2) / (2 * self.covar**2))\n",
      "Training... : 100%|██████████| 2000/2000 [01:51<00:00, 17.86it/s]\n",
      "Training... :   0%|          | 0/2000 [00:00<?, ?it/s]/Users/mikeyjoyce/Documents/Grad School/NeuralNets/Project1/NetworkArchitectures.py:37: UserWarning: To copy construct from a tensor, it is recommended to use sourceTensor.clone().detach() or sourceTensor.clone().detach().requires_grad_(True), rather than torch.tensor(sourceTensor).\n",
      "  return torch.exp(-torch.pow(torch.tensor(x, dtype=torch.float64).unsqueeze(1) - self.centers, 2).sum(dim=2) / (2 * self.covar**2))\n",
      "Training... : 100%|██████████| 2000/2000 [01:51<00:00, 18.02it/s]\n",
      "Training... :   0%|          | 0/2000 [00:00<?, ?it/s]/Users/mikeyjoyce/Documents/Grad School/NeuralNets/Project1/NetworkArchitectures.py:37: UserWarning: To copy construct from a tensor, it is recommended to use sourceTensor.clone().detach() or sourceTensor.clone().detach().requires_grad_(True), rather than torch.tensor(sourceTensor).\n",
      "  return torch.exp(-torch.pow(torch.tensor(x, dtype=torch.float64).unsqueeze(1) - self.centers, 2).sum(dim=2) / (2 * self.covar**2))\n",
      "Training... : 100%|██████████| 2000/2000 [01:51<00:00, 17.98it/s]\n",
      "Training... :   0%|          | 0/2000 [00:00<?, ?it/s]/Users/mikeyjoyce/Documents/Grad School/NeuralNets/Project1/NetworkArchitectures.py:37: UserWarning: To copy construct from a tensor, it is recommended to use sourceTensor.clone().detach() or sourceTensor.clone().detach().requires_grad_(True), rather than torch.tensor(sourceTensor).\n",
      "  return torch.exp(-torch.pow(torch.tensor(x, dtype=torch.float64).unsqueeze(1) - self.centers, 2).sum(dim=2) / (2 * self.covar**2))\n",
      "Training... : 100%|██████████| 2000/2000 [01:51<00:00, 17.91it/s]\n",
      "Training... :   0%|          | 0/2000 [00:00<?, ?it/s]/Users/mikeyjoyce/Documents/Grad School/NeuralNets/Project1/NetworkArchitectures.py:37: UserWarning: To copy construct from a tensor, it is recommended to use sourceTensor.clone().detach() or sourceTensor.clone().detach().requires_grad_(True), rather than torch.tensor(sourceTensor).\n",
      "  return torch.exp(-torch.pow(torch.tensor(x, dtype=torch.float64).unsqueeze(1) - self.centers, 2).sum(dim=2) / (2 * self.covar**2))\n",
      "Training... : 100%|██████████| 2000/2000 [01:51<00:00, 17.98it/s]\n",
      "Training... :   0%|          | 0/2000 [00:00<?, ?it/s]/Users/mikeyjoyce/Documents/Grad School/NeuralNets/Project1/NetworkArchitectures.py:37: UserWarning: To copy construct from a tensor, it is recommended to use sourceTensor.clone().detach() or sourceTensor.clone().detach().requires_grad_(True), rather than torch.tensor(sourceTensor).\n",
      "  return torch.exp(-torch.pow(torch.tensor(x, dtype=torch.float64).unsqueeze(1) - self.centers, 2).sum(dim=2) / (2 * self.covar**2))\n",
      "Training... : 100%|██████████| 2000/2000 [01:51<00:00, 17.93it/s]\n",
      "Training... :   0%|          | 0/2000 [00:00<?, ?it/s]/Users/mikeyjoyce/Documents/Grad School/NeuralNets/Project1/NetworkArchitectures.py:37: UserWarning: To copy construct from a tensor, it is recommended to use sourceTensor.clone().detach() or sourceTensor.clone().detach().requires_grad_(True), rather than torch.tensor(sourceTensor).\n",
      "  return torch.exp(-torch.pow(torch.tensor(x, dtype=torch.float64).unsqueeze(1) - self.centers, 2).sum(dim=2) / (2 * self.covar**2))\n",
      "Training... : 100%|██████████| 2000/2000 [01:51<00:00, 17.89it/s]\n",
      "Training... :   0%|          | 0/2000 [00:00<?, ?it/s]/Users/mikeyjoyce/Documents/Grad School/NeuralNets/Project1/NetworkArchitectures.py:37: UserWarning: To copy construct from a tensor, it is recommended to use sourceTensor.clone().detach() or sourceTensor.clone().detach().requires_grad_(True), rather than torch.tensor(sourceTensor).\n",
      "  return torch.exp(-torch.pow(torch.tensor(x, dtype=torch.float64).unsqueeze(1) - self.centers, 2).sum(dim=2) / (2 * self.covar**2))\n",
      "Training... : 100%|██████████| 2000/2000 [01:52<00:00, 17.82it/s]\n",
      "Training... :   0%|          | 0/2000 [00:00<?, ?it/s]/Users/mikeyjoyce/Documents/Grad School/NeuralNets/Project1/NetworkArchitectures.py:37: UserWarning: To copy construct from a tensor, it is recommended to use sourceTensor.clone().detach() or sourceTensor.clone().detach().requires_grad_(True), rather than torch.tensor(sourceTensor).\n",
      "  return torch.exp(-torch.pow(torch.tensor(x, dtype=torch.float64).unsqueeze(1) - self.centers, 2).sum(dim=2) / (2 * self.covar**2))\n",
      "Training... : 100%|██████████| 2000/2000 [01:51<00:00, 17.91it/s]\n",
      "Training... :   0%|          | 0/2000 [00:00<?, ?it/s]/Users/mikeyjoyce/Documents/Grad School/NeuralNets/Project1/NetworkArchitectures.py:37: UserWarning: To copy construct from a tensor, it is recommended to use sourceTensor.clone().detach() or sourceTensor.clone().detach().requires_grad_(True), rather than torch.tensor(sourceTensor).\n",
      "  return torch.exp(-torch.pow(torch.tensor(x, dtype=torch.float64).unsqueeze(1) - self.centers, 2).sum(dim=2) / (2 * self.covar**2))\n",
      "Training... : 100%|██████████| 2000/2000 [01:52<00:00, 17.81it/s]\n",
      "Training... :   0%|          | 0/2000 [00:00<?, ?it/s]/Users/mikeyjoyce/Documents/Grad School/NeuralNets/Project1/NetworkArchitectures.py:37: UserWarning: To copy construct from a tensor, it is recommended to use sourceTensor.clone().detach() or sourceTensor.clone().detach().requires_grad_(True), rather than torch.tensor(sourceTensor).\n",
      "  return torch.exp(-torch.pow(torch.tensor(x, dtype=torch.float64).unsqueeze(1) - self.centers, 2).sum(dim=2) / (2 * self.covar**2))\n",
      "Training... : 100%|██████████| 2000/2000 [01:53<00:00, 17.56it/s]\n",
      "Training... :   0%|          | 0/2000 [00:00<?, ?it/s]/Users/mikeyjoyce/Documents/Grad School/NeuralNets/Project1/NetworkArchitectures.py:37: UserWarning: To copy construct from a tensor, it is recommended to use sourceTensor.clone().detach() or sourceTensor.clone().detach().requires_grad_(True), rather than torch.tensor(sourceTensor).\n",
      "  return torch.exp(-torch.pow(torch.tensor(x, dtype=torch.float64).unsqueeze(1) - self.centers, 2).sum(dim=2) / (2 * self.covar**2))\n",
      "Training... : 100%|██████████| 2000/2000 [01:53<00:00, 17.57it/s]\n",
      "Training... :   0%|          | 0/2000 [00:00<?, ?it/s]/Users/mikeyjoyce/Documents/Grad School/NeuralNets/Project1/NetworkArchitectures.py:37: UserWarning: To copy construct from a tensor, it is recommended to use sourceTensor.clone().detach() or sourceTensor.clone().detach().requires_grad_(True), rather than torch.tensor(sourceTensor).\n",
      "  return torch.exp(-torch.pow(torch.tensor(x, dtype=torch.float64).unsqueeze(1) - self.centers, 2).sum(dim=2) / (2 * self.covar**2))\n",
      "Training... : 100%|██████████| 2000/2000 [01:55<00:00, 17.38it/s]\n",
      "Training... :   0%|          | 0/2000 [00:00<?, ?it/s]/Users/mikeyjoyce/Documents/Grad School/NeuralNets/Project1/NetworkArchitectures.py:37: UserWarning: To copy construct from a tensor, it is recommended to use sourceTensor.clone().detach() or sourceTensor.clone().detach().requires_grad_(True), rather than torch.tensor(sourceTensor).\n",
      "  return torch.exp(-torch.pow(torch.tensor(x, dtype=torch.float64).unsqueeze(1) - self.centers, 2).sum(dim=2) / (2 * self.covar**2))\n",
      "Training... : 100%|██████████| 2000/2000 [01:54<00:00, 17.51it/s]\n",
      "Training... :   0%|          | 0/2000 [00:00<?, ?it/s]/Users/mikeyjoyce/Documents/Grad School/NeuralNets/Project1/NetworkArchitectures.py:37: UserWarning: To copy construct from a tensor, it is recommended to use sourceTensor.clone().detach() or sourceTensor.clone().detach().requires_grad_(True), rather than torch.tensor(sourceTensor).\n",
      "  return torch.exp(-torch.pow(torch.tensor(x, dtype=torch.float64).unsqueeze(1) - self.centers, 2).sum(dim=2) / (2 * self.covar**2))\n",
      "Training... : 100%|██████████| 2000/2000 [01:53<00:00, 17.56it/s]\n",
      "Training... :   0%|          | 0/2000 [00:00<?, ?it/s]/Users/mikeyjoyce/Documents/Grad School/NeuralNets/Project1/NetworkArchitectures.py:37: UserWarning: To copy construct from a tensor, it is recommended to use sourceTensor.clone().detach() or sourceTensor.clone().detach().requires_grad_(True), rather than torch.tensor(sourceTensor).\n",
      "  return torch.exp(-torch.pow(torch.tensor(x, dtype=torch.float64).unsqueeze(1) - self.centers, 2).sum(dim=2) / (2 * self.covar**2))\n",
      "Training... : 100%|██████████| 2000/2000 [01:57<00:00, 16.98it/s]\n",
      "Training... :   0%|          | 0/2000 [00:00<?, ?it/s]/Users/mikeyjoyce/Documents/Grad School/NeuralNets/Project1/NetworkArchitectures.py:37: UserWarning: To copy construct from a tensor, it is recommended to use sourceTensor.clone().detach() or sourceTensor.clone().detach().requires_grad_(True), rather than torch.tensor(sourceTensor).\n",
      "  return torch.exp(-torch.pow(torch.tensor(x, dtype=torch.float64).unsqueeze(1) - self.centers, 2).sum(dim=2) / (2 * self.covar**2))\n",
      "Training... : 100%|██████████| 2000/2000 [01:55<00:00, 17.36it/s]\n",
      "Training... :   0%|          | 0/2000 [00:00<?, ?it/s]/Users/mikeyjoyce/Documents/Grad School/NeuralNets/Project1/NetworkArchitectures.py:37: UserWarning: To copy construct from a tensor, it is recommended to use sourceTensor.clone().detach() or sourceTensor.clone().detach().requires_grad_(True), rather than torch.tensor(sourceTensor).\n",
      "  return torch.exp(-torch.pow(torch.tensor(x, dtype=torch.float64).unsqueeze(1) - self.centers, 2).sum(dim=2) / (2 * self.covar**2))\n",
      "Training... : 100%|██████████| 2000/2000 [01:56<00:00, 17.19it/s]\n",
      "Training... :   0%|          | 0/2000 [00:00<?, ?it/s]/Users/mikeyjoyce/Documents/Grad School/NeuralNets/Project1/NetworkArchitectures.py:37: UserWarning: To copy construct from a tensor, it is recommended to use sourceTensor.clone().detach() or sourceTensor.clone().detach().requires_grad_(True), rather than torch.tensor(sourceTensor).\n",
      "  return torch.exp(-torch.pow(torch.tensor(x, dtype=torch.float64).unsqueeze(1) - self.centers, 2).sum(dim=2) / (2 * self.covar**2))\n",
      "Training... : 100%|██████████| 2000/2000 [01:56<00:00, 17.16it/s]\n",
      "Training... :   0%|          | 0/2000 [00:00<?, ?it/s]/Users/mikeyjoyce/Documents/Grad School/NeuralNets/Project1/NetworkArchitectures.py:37: UserWarning: To copy construct from a tensor, it is recommended to use sourceTensor.clone().detach() or sourceTensor.clone().detach().requires_grad_(True), rather than torch.tensor(sourceTensor).\n",
      "  return torch.exp(-torch.pow(torch.tensor(x, dtype=torch.float64).unsqueeze(1) - self.centers, 2).sum(dim=2) / (2 * self.covar**2))\n",
      "Training... : 100%|██████████| 2000/2000 [01:53<00:00, 17.66it/s]\n",
      "Training... :   0%|          | 0/2000 [00:00<?, ?it/s]/Users/mikeyjoyce/Documents/Grad School/NeuralNets/Project1/NetworkArchitectures.py:37: UserWarning: To copy construct from a tensor, it is recommended to use sourceTensor.clone().detach() or sourceTensor.clone().detach().requires_grad_(True), rather than torch.tensor(sourceTensor).\n",
      "  return torch.exp(-torch.pow(torch.tensor(x, dtype=torch.float64).unsqueeze(1) - self.centers, 2).sum(dim=2) / (2 * self.covar**2))\n",
      "Training... : 100%|██████████| 2000/2000 [01:53<00:00, 17.58it/s]\n",
      "Training... :   0%|          | 0/2000 [00:00<?, ?it/s]/Users/mikeyjoyce/Documents/Grad School/NeuralNets/Project1/NetworkArchitectures.py:37: UserWarning: To copy construct from a tensor, it is recommended to use sourceTensor.clone().detach() or sourceTensor.clone().detach().requires_grad_(True), rather than torch.tensor(sourceTensor).\n",
      "  return torch.exp(-torch.pow(torch.tensor(x, dtype=torch.float64).unsqueeze(1) - self.centers, 2).sum(dim=2) / (2 * self.covar**2))\n",
      "Training... : 100%|██████████| 2000/2000 [01:53<00:00, 17.63it/s]\n"
     ]
    },
    {
     "name": "stdout",
     "output_type": "stream",
     "text": [
      "K =  18\n"
     ]
    },
    {
     "data": {
      "text/plain": "<Figure size 640x480 with 1 Axes>",
      "image/png": "[encoded data removed]"
     },
     "metadata": {},
     "output_type": "display_data"
    }
   ],
   "source": [
    "final, last, final_loss, k= None, -1, None, 0\n",
    "for z in range(1, 30):\n",
    "    train = Format_Dataset(dataset, choice='Train')\n",
    "    train = torch.utils.data.DataLoader(shuffle=False, dataset=train, batch_size=6)\n",
    "\n",
    "    params = {\n",
    "        'k': z,\n",
    "        'data': first_visit,\n",
    "        'sigma': 0.75,\n",
    "        'mode': 1,\n",
    "        'n_perceptrons': 1\n",
    "    }\n",
    "\n",
    "    rbf = nets.RBF(**params)\n",
    "    loss_fn = nn.BCELoss()\n",
    "    sgd = optim.Adam(rbf.parameters(), lr=0.001)\n",
    "\n",
    "    epochs = 2000\n",
    "\n",
    "    loss_vals = []\n",
    "    for epoch in tqdm(range(epochs), 'Training... '):\n",
    "        temp_loss = []\n",
    "        for samples, labels in train:\n",
    "            output = rbf(samples)\n",
    "            loss = loss_fn(output, labels)\n",
    "\n",
    "            sgd.zero_grad()\n",
    "            loss.backward()\n",
    "            sgd.step()\n",
    "\n",
    "            temp_loss.append(loss.item())\n",
    "\n",
    "        loss_vals.append(sum(temp_loss[-len(train):]) / len(train))\n",
    "\n",
    "    rbf.eval()\n",
    "    with torch.no_grad():\n",
    "        out = rbf(torch.tensor(test_X)).detach().numpy()\n",
    "\n",
    "    preds = []\n",
    "    for i in range(len(out)):\n",
    "        preds.append(np.round(out[i]))\n",
    "\n",
    "    truth = list(test_y)\n",
    "    f1 = f1_score(truth, preds)\n",
    "\n",
    "    if last == -1:\n",
    "        final = rbf\n",
    "        last = f1\n",
    "        final_loss = loss_vals\n",
    "        k = z\n",
    "    elif f1 > last:\n",
    "        final = rbf\n",
    "        last = f1\n",
    "        final_loss = loss_vals\n",
    "        k = z\n",
    "\n",
    "print('K = ', k)\n",
    "plt.plot(final_loss, label='Training Loss')\n",
    "plt.xlabel('Epoch')\n",
    "plt.ylabel('Loss')\n",
    "plt.title('RBF Training Loss Over Time; IGPS')\n",
    "plt.legend()\n",
    "plt.savefig(results_dir + 'RBFloss_k=' +str(k)+ '.png', dpi=900)\n",
    "plt.show()"
   ],
   "metadata": {
    "collapsed": false
   }
  },
  {
   "cell_type": "code",
   "execution_count": 12,
   "outputs": [
    {
     "name": "stdout",
     "output_type": "stream",
     "text": [
      "[Parameter containing:\n",
      "tensor([0.3600, 0.1742, 0.2899, 0.0397, 0.6443, 0.1517, 0.1292, 0.4140, 0.5878,\n",
      "        1.0505, 0.6570, 1.5778, 0.2168, 0.2225, 0.2157, 0.2914, 0.2568, 0.2260,\n",
      "        0.5135, 0.6618, 0.1193, 0.1428, 0.3812, 0.3260, 0.1133, 0.1794, 0.0257,\n",
      "        0.6038, 0.2447], dtype=torch.float64, requires_grad=True), Parameter containing:\n",
      "tensor([[0.5265, 0.3871, 0.4128, 0.8523, 0.7107, 0.3640, 0.4216, 0.4048, 0.5026],\n",
      "        [0.3002, 0.2778, 0.3761, 0.4739, 0.8002, 0.5100, 0.5136, 0.5032, 0.4017],\n",
      "        [0.3287, 0.4479, 0.5212, 0.4461, 0.5541, 0.1346, 0.4922, 0.4803, 0.4392],\n",
      "        [0.4970, 0.5786, 0.6057, 0.7129, 0.6056, 0.0316, 0.6260, 0.6624, 0.3801],\n",
      "        [0.5271, 0.4368, 0.4589, 0.8281, 0.5125, 0.0335, 0.6925, 0.7726, 0.3786],\n",
      "        [0.4656, 0.7510, 0.7656, 0.5515, 0.8146, 0.2906, 0.6838, 0.7371, 0.2941],\n",
      "        [0.4678, 0.6418, 0.6678, 0.6100, 0.4901, 0.2257, 0.7558, 0.7430, 0.6082],\n",
      "        [0.5831, 0.2202, 0.1806, 0.8918, 0.6410, 0.3829, 0.6629, 0.8326, 0.3494],\n",
      "        [0.4699, 0.1502, 0.2363, 0.9240, 0.6571, 0.2475, 0.7571, 0.7732, 0.3351],\n",
      "        [0.2977, 0.4236, 0.5044, 0.4040, 0.5762, 0.1866, 0.8506, 0.8552, 0.2194],\n",
      "        [0.4696, 0.4525, 0.5017, 0.7304, 0.5662, 0.2064, 0.6756, 0.6296, 0.1645],\n",
      "        [0.2716, 0.3511, 0.4440, 0.3920, 0.7676, 0.1926, 0.5071, 0.5315, 0.5508],\n",
      "        [0.4676, 0.5428, 0.5808, 0.6695, 0.4764, 0.3227, 0.6542, 0.6184, 0.2958],\n",
      "        [0.4729, 0.2394, 0.3127, 0.8680, 0.7119, 0.3426, 0.5501, 0.6647, 0.4853],\n",
      "        [0.3550, 0.2665, 0.3591, 0.5869, 0.8401, 0.4020, 0.8603, 0.8909, 0.4504],\n",
      "        [0.3534, 0.3099, 0.3964, 0.5589, 0.7369, 0.2856, 0.6838, 0.7024, 0.3795],\n",
      "        [0.4755, 0.4107, 0.4612, 0.7625, 0.7029, 0.3769, 0.9337, 0.9602, 0.3331],\n",
      "        [0.3543, 0.2343, 0.3317, 0.6036, 0.1261, 0.1641, 0.7830, 0.8200, 0.2444],\n",
      "        [0.3552, 0.3189, 0.4049, 0.5612, 0.7239, 0.4200, 0.8556, 0.7786, 0.4789],\n",
      "        [0.2972, 0.5417, 0.6094, 0.3550, 0.7826, 0.4054, 0.8841, 0.9102, 0.2056],\n",
      "        [0.4136, 0.3626, 0.4338, 0.6617, 0.8159, 0.3803, 0.8128, 0.8847, 0.3064],\n",
      "        [0.4683, 0.6358, 0.6637, 0.6237, 0.7083, 0.1695, 0.6784, 0.6844, 0.1923],\n",
      "        [0.7278, 0.6082, 0.2741, 0.4735, 0.6487, 0.3455, 0.4952, 0.5556, 0.4977],\n",
      "        [0.4123, 0.3517, 0.4233, 0.6578, 0.5896, 0.3007, 0.5107, 0.5550, 0.3823],\n",
      "        [0.9960, 0.5825, 0.0033, 0.5770, 0.3980, 0.1232, 0.5862, 0.8217, 0.4685],\n",
      "        [0.1233, 0.4577, 0.5555, 0.1492, 0.8931, 0.3858, 0.8450, 0.9170, 0.4087],\n",
      "        [0.4710, 0.2933, 0.3611, 0.8318, 0.6923, 0.4512, 0.7837, 0.8385, 0.2910],\n",
      "        [0.3827, 0.5998, 0.6465, 0.4679, 0.8075, 0.4639, 0.8819, 0.8804, 0.1916],\n",
      "        [0.3845, 0.3539, 0.4306, 0.5999, 0.5599, 0.0312, 0.5207, 0.5041, 0.6111]],\n",
      "       dtype=torch.float64), Parameter containing:\n",
      "tensor([[ -1.5306,  -6.8606,  -1.6492,  12.9118,   0.5198, -11.4385,  -8.4921,\n",
      "           1.0533,   0.3823,   0.2242,   1.1240,  -0.3698,   0.6148,  -1.3058,\n",
      "          -2.5716,   2.3907,  -1.9672,   8.9926,  -1.2613,   0.0866,   9.6812,\n",
      "          -3.4560,   0.4338,  -0.4362,  -1.0447,  -3.6921,   9.9845,   0.6426,\n",
      "          -4.3605]], dtype=torch.float64, requires_grad=True), Parameter containing:\n",
      "tensor([0.0744], dtype=torch.float64, requires_grad=True)]\n"
     ]
    },
    {
     "name": "stderr",
     "output_type": "stream",
     "text": [
      "/Users/mikeyjoyce/Documents/Grad School/NeuralNets/Project1/NetworkArchitectures.py:37: UserWarning: To copy construct from a tensor, it is recommended to use sourceTensor.clone().detach() or sourceTensor.clone().detach().requires_grad_(True), rather than torch.tensor(sourceTensor).\n",
      "  return torch.exp(-torch.pow(torch.tensor(x, dtype=torch.float64).unsqueeze(1) - self.centers, 2).sum(dim=2) / (2 * self.covar**2))\n"
     ]
    },
    {
     "data": {
      "text/plain": "[1,\n 1,\n 1,\n 0,\n 1,\n 1,\n 1,\n 0,\n 0,\n 0,\n 0,\n 1,\n 1,\n 1,\n 0,\n 1,\n 1,\n 1,\n 1,\n 1,\n 1,\n 1,\n 0,\n 0,\n 0,\n 1,\n 1,\n 1,\n 1,\n 1,\n 0,\n 1,\n 1,\n 0,\n 0,\n 1,\n 1,\n 1,\n 1,\n 1,\n 1,\n 1,\n 0,\n 1,\n 0,\n 1,\n 1,\n 0,\n 0,\n 0,\n 0,\n 1,\n 1,\n 1,\n 1,\n 0,\n 1,\n 1,\n 1,\n 0,\n 0,\n 1,\n 1,\n 1,\n 1,\n 1,\n 1,\n 0,\n 1,\n 1,\n 0,\n 1,\n 1,\n 1,\n 0,\n 1,\n 1,\n 0,\n 1,\n 0,\n 1,\n 1,\n 1,\n 0,\n 0,\n 1,\n 1,\n 1,\n 1,\n 1,\n 1,\n 1,\n 0,\n 0,\n 0,\n 1,\n 0,\n 1,\n 1,\n 0,\n 1,\n 1,\n 0,\n 1,\n 1,\n 1,\n 1,\n 0,\n 0,\n 1,\n 1,\n 1,\n 1,\n 0,\n 1,\n 1,\n 1,\n 0,\n 0,\n 0,\n 1,\n 1,\n 0,\n 1,\n 0]"
     },
     "execution_count": 12,
     "metadata": {},
     "output_type": "execute_result"
    }
   ],
   "source": [
    "rbf.eval()\n",
    "with torch.no_grad():\n",
    "    out = rbf(torch.tensor(test_X)).detach().numpy()\n",
    "\n",
    "#print(\"RBF neural network output: \", out)\n",
    "print(list(rbf.parameters()))\n",
    "\n",
    "preds = []\n",
    "for i in range(len(out)):\n",
    "    if out[i] >= 0.5:\n",
    "        preds.append(1)\n",
    "    else:\n",
    "        preds.append(0)\n",
    "\n",
    "preds"
   ],
   "metadata": {
    "collapsed": false
   }
  },
  {
   "cell_type": "code",
   "execution_count": 13,
   "outputs": [
    {
     "name": "stdout",
     "output_type": "stream",
     "text": [
      "Accuracy Score: 0.616\n",
      "Precision Score: 0.6024096385542169\n",
      "Recall Score: 0.7692307692307693\n",
      "F1 Score:  0.6756756756756757\n"
     ]
    },
    {
     "data": {
      "text/plain": "<Figure size 640x480 with 1 Axes>",
      "image/png": "[encoded data removed]"
     },
     "metadata": {},
     "output_type": "display_data"
    }
   ],
   "source": [
    "truth = list(test_y)\n",
    "\n",
    "cm = confusion_matrix(truth, preds)\n",
    "\n",
    "accuracy = accuracy_score(truth, preds)\n",
    "print(\"Accuracy Score:\", accuracy)\n",
    "\n",
    "precision = precision_score(truth, preds)\n",
    "print(\"Precision Score:\", precision)\n",
    "\n",
    "recall = recall_score(truth, preds)\n",
    "print(\"Recall Score:\", recall)\n",
    "\n",
    "f1 = f1_score(truth, preds)\n",
    "print(\"F1 Score: \", f1)\n",
    "\n",
    "sns.heatmap(cm, annot=True, cmap='Blues', fmt='g', cbar=False)\n",
    "plt.xlabel('Predicted labels')\n",
    "plt.ylabel('True labels')\n",
    "plt.title('Confusion Matrix')\n",
    "plt.savefig(results_dir + 'confusion_k=' +str(k)+ '.png', dpi=900)\n",
    "plt.show()"
   ],
   "metadata": {
    "collapsed": false
   }
  },
  {
   "cell_type": "code",
   "execution_count": 7,
   "outputs": [],
   "source": [],
   "metadata": {
    "collapsed": false
   }
  }
 ],
 "metadata": {
  "kernelspec": {
   "display_name": "Python 3",
   "language": "python",
   "name": "python3"
  },
  "language_info": {
   "codemirror_mode": {
    "name": "ipython",
    "version": 2
   },
   "file_extension": ".py",
   "mimetype": "text/x-python",
   "name": "python",
   "nbconvert_exporter": "python",
   "pygments_lexer": "ipython2",
   "version": "2.7.6"
  }
 },
 "nbformat": 4,
 "nbformat_minor": 0
}
