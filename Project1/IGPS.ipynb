{
 "cells": [
  {
   "cell_type": "code",
   "execution_count": 662,
   "metadata": {
    "collapsed": true
   },
   "outputs": [],
   "source": [
    "import NetworkArchitectures as nets\n",
    "import torch\n",
    "import torch.nn as nn\n",
    "import torch.optim as optim\n",
    "import pandas as pd\n",
    "import os\n",
    "import numpy as np\n",
    "import matplotlib.pyplot as plt\n",
    "import seaborn as sns\n",
    "from sklearn.preprocessing import LabelEncoder\n",
    "from sklearn.preprocessing import MinMaxScaler\n",
    "from sklearn.impute import KNNImputer\n",
    "from sklearn.metrics import confusion_matrix\n",
    "from sklearn.metrics import accuracy_score, precision_score, recall_score, f1_score\n",
    "from dataset_utils import Format_Dataset\n",
    "from tqdm import tqdm"
   ]
  },
  {
   "cell_type": "code",
   "execution_count": 663,
   "outputs": [
    {
     "name": "stdout",
     "output_type": "stream",
     "text": [
      "IOP\n",
      "P1\n",
      "P5\n",
      "R4\n",
      "Age\n",
      "acuity\n",
      "cup_disk_vert_ratio\n",
      "cup_disk_horiz_ratio\n",
      "mean_RNFL_thickness\n",
      "next_ProgressionStructure1\n"
     ]
    },
    {
     "data": {
      "text/plain": "     IOP         P1         P5           R4        Age  acuity  \\\n0   20.0  47.489951  19.316454  5689.152456  68.172485    0.14   \n1   18.0  41.983253  18.571021  5763.809295  68.501027    0.12   \n2   12.0  43.567630  19.048322  4121.464174  58.231348   -0.04   \n3   13.0  50.544863  20.265924  3952.890670  75.148528    0.08   \n4   20.0  53.856285  20.514162  5312.669706  71.887748    0.10   \n..   ...        ...        ...          ...        ...     ...   \n64  17.0  39.823806  18.243175  5652.671323  72.490075   -0.06   \n65  14.0  41.748648  18.673210  4689.228002  38.661191    0.02   \n66   4.0  46.703749  19.787909  2674.666564  82.762491    0.32   \n67  21.0  41.925701  17.987417  5940.162774  72.361396    0.38   \n68  16.0  47.218775  19.575238  4830.059502  77.661875    0.30   \n\n    cup_disk_vert_ratio  cup_disk_horiz_ratio  mean_RNFL_thickness  \\\n0                 0.490                 0.464                 0.28   \n1                 0.598                 0.707                 0.27   \n2                 0.794                 0.681                 0.21   \n3                 0.637                 0.694                 0.25   \n4                 0.705                 0.821                 0.27   \n..                  ...                   ...                  ...   \n64                0.770                 0.652                 0.15   \n65                0.751                 0.790                 0.04   \n66                0.751                 0.734                 0.17   \n67                0.890                 0.948                 0.18   \n68                0.497                 0.433                 0.20   \n\n    next_ProgressionStructure1  \n0                          0.0  \n1                          1.0  \n2                          1.0  \n3                          1.0  \n4                          1.0  \n..                         ...  \n64                         1.0  \n65                         1.0  \n66                         1.0  \n67                         1.0  \n68                         1.0  \n\n[621 rows x 10 columns]",
      "text/html": "<div>\n<style scoped>\n    .dataframe tbody tr th:only-of-type {\n        vertical-align: middle;\n    }\n\n    .dataframe tbody tr th {\n        vertical-align: top;\n    }\n\n    .dataframe thead th {\n        text-align: right;\n    }\n</style>\n<table border=\"1\" class=\"dataframe\">\n  <thead>\n    <tr style=\"text-align: right;\">\n      <th></th>\n      <th>IOP</th>\n      <th>P1</th>\n      <th>P5</th>\n      <th>R4</th>\n      <th>Age</th>\n      <th>acuity</th>\n      <th>cup_disk_vert_ratio</th>\n      <th>cup_disk_horiz_ratio</th>\n      <th>mean_RNFL_thickness</th>\n      <th>next_ProgressionStructure1</th>\n    </tr>\n  </thead>\n  <tbody>\n    <tr>\n      <th>0</th>\n      <td>20.0</td>\n      <td>47.489951</td>\n      <td>19.316454</td>\n      <td>5689.152456</td>\n      <td>68.172485</td>\n      <td>0.14</td>\n      <td>0.490</td>\n      <td>0.464</td>\n      <td>0.28</td>\n      <td>0.0</td>\n    </tr>\n    <tr>\n      <th>1</th>\n      <td>18.0</td>\n      <td>41.983253</td>\n      <td>18.571021</td>\n      <td>5763.809295</td>\n      <td>68.501027</td>\n      <td>0.12</td>\n      <td>0.598</td>\n      <td>0.707</td>\n      <td>0.27</td>\n      <td>1.0</td>\n    </tr>\n    <tr>\n      <th>2</th>\n      <td>12.0</td>\n      <td>43.567630</td>\n      <td>19.048322</td>\n      <td>4121.464174</td>\n      <td>58.231348</td>\n      <td>-0.04</td>\n      <td>0.794</td>\n      <td>0.681</td>\n      <td>0.21</td>\n      <td>1.0</td>\n    </tr>\n    <tr>\n      <th>3</th>\n      <td>13.0</td>\n      <td>50.544863</td>\n      <td>20.265924</td>\n      <td>3952.890670</td>\n      <td>75.148528</td>\n      <td>0.08</td>\n      <td>0.637</td>\n      <td>0.694</td>\n      <td>0.25</td>\n      <td>1.0</td>\n    </tr>\n    <tr>\n      <th>4</th>\n      <td>20.0</td>\n      <td>53.856285</td>\n      <td>20.514162</td>\n      <td>5312.669706</td>\n      <td>71.887748</td>\n      <td>0.10</td>\n      <td>0.705</td>\n      <td>0.821</td>\n      <td>0.27</td>\n      <td>1.0</td>\n    </tr>\n    <tr>\n      <th>...</th>\n      <td>...</td>\n      <td>...</td>\n      <td>...</td>\n      <td>...</td>\n      <td>...</td>\n      <td>...</td>\n      <td>...</td>\n      <td>...</td>\n      <td>...</td>\n      <td>...</td>\n    </tr>\n    <tr>\n      <th>64</th>\n      <td>17.0</td>\n      <td>39.823806</td>\n      <td>18.243175</td>\n      <td>5652.671323</td>\n      <td>72.490075</td>\n      <td>-0.06</td>\n      <td>0.770</td>\n      <td>0.652</td>\n      <td>0.15</td>\n      <td>1.0</td>\n    </tr>\n    <tr>\n      <th>65</th>\n      <td>14.0</td>\n      <td>41.748648</td>\n      <td>18.673210</td>\n      <td>4689.228002</td>\n      <td>38.661191</td>\n      <td>0.02</td>\n      <td>0.751</td>\n      <td>0.790</td>\n      <td>0.04</td>\n      <td>1.0</td>\n    </tr>\n    <tr>\n      <th>66</th>\n      <td>4.0</td>\n      <td>46.703749</td>\n      <td>19.787909</td>\n      <td>2674.666564</td>\n      <td>82.762491</td>\n      <td>0.32</td>\n      <td>0.751</td>\n      <td>0.734</td>\n      <td>0.17</td>\n      <td>1.0</td>\n    </tr>\n    <tr>\n      <th>67</th>\n      <td>21.0</td>\n      <td>41.925701</td>\n      <td>17.987417</td>\n      <td>5940.162774</td>\n      <td>72.361396</td>\n      <td>0.38</td>\n      <td>0.890</td>\n      <td>0.948</td>\n      <td>0.18</td>\n      <td>1.0</td>\n    </tr>\n    <tr>\n      <th>68</th>\n      <td>16.0</td>\n      <td>47.218775</td>\n      <td>19.575238</td>\n      <td>4830.059502</td>\n      <td>77.661875</td>\n      <td>0.30</td>\n      <td>0.497</td>\n      <td>0.433</td>\n      <td>0.20</td>\n      <td>1.0</td>\n    </tr>\n  </tbody>\n</table>\n<p>621 rows × 10 columns</p>\n</div>"
     },
     "execution_count": 663,
     "metadata": {},
     "output_type": "execute_result"
    }
   ],
   "source": [
    "# Load in the Indianapolis Glaucoma Progression Study\n",
    "data_dir = 'data/IGPS/'\n",
    "results_dir = 'results/IGPS/'\n",
    "\n",
    "features = [\n",
    "    'IOP', 'MAP', 'SBP', 'DBP', 'HR', 'Qmean', 'P1', 'P2', 'P4', 'P5', 'R4', 'R5', 'trusoptBase', 'timololBase', 'Gen_Vision', 'macular_volume', 'mean_RNFL_thickness', 'Age', 'soft_green', 'soft_red', 'soft_blue', 'ProgressionStructure1', 'next_ProgressionStructure1'\n",
    "]\n",
    "\n",
    "features = [\n",
    "    'IOP', 'MAP', 'SBP', 'DBP', 'HR', 'Qmean', 'P1', 'P2', 'P4', 'P5', 'R4', 'R5', 'next_ProgressionStructure1'\n",
    "]\n",
    "\n",
    "features = [\n",
    "    'IOP', 'P1', 'P5', 'R4', 'Age', 'acuity', 'cup_disk_vert_ratio', 'cup_disk_horiz_ratio', 'mean_RNFL_thickness', 'next_ProgressionStructure1'\n",
    "]\n",
    "\n",
    "first, igps = True, None\n",
    "for fn in sorted(os.listdir(data_dir)):\n",
    "    if fn.endswith('.csv'):\n",
    "        path = os.path.join(data_dir, fn)\n",
    "\n",
    "        if first:\n",
    "            igps = pd.read_csv(path)[features]  # grab only the features needed\n",
    "            first = False\n",
    "            continue\n",
    "\n",
    "        df = pd.read_csv(path)[features]\n",
    "        igps = pd.concat([igps, df])\n",
    "\n",
    "# Possibly some missing data; lets fix it\n",
    "def impute_col_KNN(df, col_name):\n",
    "    col = df[[col_name]]\n",
    "    imputer = KNNImputer(n_neighbors=5)\n",
    "    col = imputer.fit_transform(col)\n",
    "    df[col_name] = col\n",
    "\n",
    "for f in features:\n",
    "    print(f)\n",
    "    if f != 'Hypertension':\n",
    "        impute_col_KNN(igps, f)\n",
    "\n",
    "first_visit = pd.read_csv(data_dir + 'year0_0.csv')[features]\n",
    "\n",
    "for f in features:\n",
    "    impute_col_KNN(first_visit, f)\n",
    "\n",
    "first_visit = first_visit.drop(columns='next_ProgressionStructure1')\n",
    "\n",
    "igps"
   ],
   "metadata": {
    "collapsed": false
   }
  },
  {
   "cell_type": "code",
   "execution_count": 664,
   "outputs": [
    {
     "name": "stdout",
     "output_type": "stream",
     "text": [
      "(496, 9)\n"
     ]
    }
   ],
   "source": [
    "# Preprocess this mess\n",
    "split = int(0.8 * len(igps))\n",
    "train = igps.iloc[:split]\n",
    "test = igps.iloc[split:]\n",
    "\n",
    "feat_count = len(features) - 1\n",
    "\n",
    "train_X, train_y = train[features[:feat_count]], train[features[feat_count:]]\n",
    "test_X, test_y = test[features[:feat_count]], test[features[feat_count:]]\n",
    "\n",
    "train_X, train_y = train_X.to_numpy(), train_y.to_numpy()\n",
    "test_X, test_y = test_X.to_numpy(), test_y.to_numpy()\n",
    "\n",
    "first_visit = first_visit.to_numpy()    # the purpose of this line is to obtain the same verified clusters as we only use data from\n",
    "                                        # the first visit to verify the clusters\n",
    "print(train_X.shape)\n",
    "\n",
    "# normalize the data\n",
    "s = MinMaxScaler()\n",
    "train_X = s.fit_transform(train_X)\n",
    "test_X = s.transform(test_X)\n",
    "\n",
    "first_visit = s.transform(first_visit)\n",
    "\n",
    "dataset = {\n",
    "    'samples': train_X,\n",
    "    'labels': train_y\n",
    "}\n",
    "\n",
    "# Input layer basically\n",
    "train = Format_Dataset(dataset, choice='Train')\n",
    "train = torch.utils.data.DataLoader(shuffle=False, dataset=train, batch_size=6)"
   ],
   "metadata": {
    "collapsed": false
   }
  },
  {
   "cell_type": "code",
   "execution_count": 665,
   "outputs": [
    {
     "data": {
      "text/plain": "[Parameter containing:\n tensor([0.7500, 0.7500, 0.7500], dtype=torch.float64, requires_grad=True),\n Parameter containing:\n tensor([[0.3985, 0.5066, 0.5460, 0.5287, 0.6885, 0.2925, 0.6663, 0.6983, 0.3803],\n         [0.4492, 0.3697, 0.4064, 0.6831, 0.6827, 0.2929, 0.7119, 0.7433, 0.3655],\n         [0.4439, 0.3856, 0.4217, 0.6625, 0.6397, 0.2736, 0.5670, 0.5935, 0.4054]],\n        dtype=torch.float64, requires_grad=True),\n Parameter containing:\n tensor([[-0.1856, -0.3166, -0.3302]], dtype=torch.float64, requires_grad=True),\n Parameter containing:\n tensor([-0.1098], dtype=torch.float64, requires_grad=True)]"
     },
     "execution_count": 665,
     "metadata": {},
     "output_type": "execute_result"
    }
   ],
   "source": [
    "params = {\n",
    "    'k': 3,\n",
    "    'data': first_visit,\n",
    "    'sigma': 0.75,\n",
    "    'mode': 1,\n",
    "    'n_perceptrons': 1\n",
    "}\n",
    "\n",
    "rbf = nets.RBF(**params)\n",
    "loss_fn = nn.BCELoss()\n",
    "sgd = optim.Adam(rbf.parameters(), lr=0.001)\n",
    "\n",
    "list(rbf.parameters())"
   ],
   "metadata": {
    "collapsed": false
   }
  },
  {
   "cell_type": "code",
   "execution_count": 666,
   "outputs": [
    {
     "name": "stderr",
     "output_type": "stream",
     "text": [
      "Training... :   0%|          | 0/2000 [00:00<?, ?it/s]/Users/mikeyjoyce/Documents/Grad School/NeuralNets/Project1/NetworkArchitectures.py:37: UserWarning: To copy construct from a tensor, it is recommended to use sourceTensor.clone().detach() or sourceTensor.clone().detach().requires_grad_(True), rather than torch.tensor(sourceTensor).\n",
      "  return torch.exp(-torch.pow(torch.tensor(x, dtype=torch.float64).unsqueeze(1) - self.centers, 2).sum(dim=2) / (2 * self.covar**2))\n",
      "Training... : 100%|██████████| 2000/2000 [02:22<00:00, 14.03it/s]\n"
     ]
    },
    {
     "data": {
      "text/plain": "<Figure size 640x480 with 1 Axes>",
      "image/png": "[encoded data removed]"
     },
     "metadata": {},
     "output_type": "display_data"
    }
   ],
   "source": [
    "epochs = 2000\n",
    "\n",
    "loss_vals = []\n",
    "for epoch in tqdm(range(epochs), 'Training... '):\n",
    "    temp_loss = []\n",
    "    for samples, labels in train:\n",
    "        output = rbf(samples)\n",
    "\n",
    "        #print(output)\n",
    "        #print(labels)\n",
    "        loss = loss_fn(output, labels)\n",
    "\n",
    "        sgd.zero_grad()\n",
    "        loss.backward()\n",
    "        sgd.step()\n",
    "\n",
    "        temp_loss.append(loss.item())\n",
    "\n",
    "    val = sum(temp_loss[-len(train):]) / len(train)\n",
    "    if val <= 0.1:\n",
    "        break\n",
    "    loss_vals.append(val)\n",
    "\n",
    "plt.plot(loss_vals, label='Training Loss')\n",
    "plt.xlabel('Epoch')\n",
    "plt.ylabel('Loss')\n",
    "plt.title('RBF Training Loss Over Time; IGPS')\n",
    "plt.legend()\n",
    "plt.savefig(results_dir + 'loss.png', dpi=900)\n",
    "plt.show()"
   ],
   "metadata": {
    "collapsed": false
   }
  },
  {
   "cell_type": "code",
   "execution_count": 667,
   "outputs": [
    {
     "name": "stdout",
     "output_type": "stream",
     "text": [
      "[Parameter containing:\n",
      "tensor([0.4770, 0.3147, 0.2902], dtype=torch.float64, requires_grad=True), Parameter containing:\n",
      "tensor([[0.1894, 0.7925, 0.8287, 0.2603, 0.9660, 0.2557, 1.1573, 0.7050, 0.7485],\n",
      "        [0.5200, 0.4866, 0.4143, 0.5858, 0.5048, 0.0991, 0.4476, 0.1995, 0.6869],\n",
      "        [0.2556, 0.0614, 0.1998, 0.5967, 0.8846, 0.8320, 0.3998, 0.5688, 0.3884]],\n",
      "       dtype=torch.float64, requires_grad=True), Parameter containing:\n",
      "tensor([[ -5.5264,  -9.1295, -12.2741]], dtype=torch.float64,\n",
      "       requires_grad=True), Parameter containing:\n",
      "tensor([1.6804], dtype=torch.float64, requires_grad=True)]\n"
     ]
    },
    {
     "data": {
      "text/plain": "[1,\n 1,\n 1,\n 0,\n 1,\n 1,\n 1,\n 0,\n 0,\n 1,\n 0,\n 1,\n 1,\n 1,\n 0,\n 1,\n 1,\n 1,\n 1,\n 1,\n 1,\n 1,\n 1,\n 0,\n 0,\n 1,\n 1,\n 0,\n 1,\n 1,\n 0,\n 1,\n 1,\n 1,\n 0,\n 1,\n 1,\n 1,\n 1,\n 0,\n 0,\n 1,\n 0,\n 1,\n 0,\n 1,\n 1,\n 0,\n 0,\n 0,\n 0,\n 1,\n 1,\n 1,\n 1,\n 0,\n 1,\n 1,\n 1,\n 0,\n 0,\n 0,\n 1,\n 1,\n 1,\n 0,\n 1,\n 0,\n 1,\n 1,\n 1,\n 1,\n 1,\n 1,\n 0,\n 1,\n 0,\n 0,\n 1,\n 0,\n 1,\n 1,\n 1,\n 0,\n 1,\n 1,\n 1,\n 1,\n 1,\n 1,\n 1,\n 1,\n 0,\n 0,\n 1,\n 1,\n 0,\n 1,\n 1,\n 0,\n 1,\n 1,\n 0,\n 0,\n 1,\n 1,\n 1,\n 0,\n 0,\n 0,\n 1,\n 1,\n 1,\n 0,\n 1,\n 0,\n 1,\n 0,\n 0,\n 0,\n 1,\n 1,\n 1,\n 1,\n 0]"
     },
     "execution_count": 667,
     "metadata": {},
     "output_type": "execute_result"
    }
   ],
   "source": [
    "rbf.eval()\n",
    "with torch.no_grad():\n",
    "    out = rbf(torch.tensor(test_X)).detach().numpy()\n",
    "\n",
    "#print(\"RBF neural network output: \", out)\n",
    "print(list(rbf.parameters()))\n",
    "\n",
    "preds = []\n",
    "for i in range(len(out)):\n",
    "    if out[i] >= 0.5:\n",
    "        preds.append(1)\n",
    "    else:\n",
    "        preds.append(0)\n",
    "\n",
    "preds"
   ],
   "metadata": {
    "collapsed": false
   }
  },
  {
   "cell_type": "code",
   "execution_count": 668,
   "outputs": [
    {
     "name": "stdout",
     "output_type": "stream",
     "text": [
      "Accuracy Score: 0.6\n",
      "Precision Score: 0.5925925925925926\n",
      "Recall Score: 0.7384615384615385\n",
      "F1 Score:  0.6575342465753424\n"
     ]
    },
    {
     "data": {
      "text/plain": "<Figure size 640x480 with 1 Axes>",
      "image/png": "[encoded data removed]"
     },
     "metadata": {},
     "output_type": "display_data"
    }
   ],
   "source": [
    "truth = list(test_y)\n",
    "\n",
    "cm = confusion_matrix(truth, preds)\n",
    "\n",
    "accuracy = accuracy_score(truth, preds)\n",
    "print(\"Accuracy Score:\", accuracy)\n",
    "\n",
    "precision = precision_score(truth, preds)\n",
    "print(\"Precision Score:\", precision)\n",
    "\n",
    "recall = recall_score(truth, preds)\n",
    "print(\"Recall Score:\", recall)\n",
    "\n",
    "f1 = f1_score(truth, preds)\n",
    "print(\"F1 Score: \", f1)\n",
    "\n",
    "sns.heatmap(cm, annot=True, cmap='Blues', fmt='g', cbar=False)\n",
    "plt.xlabel('Predicted labels')\n",
    "plt.ylabel('True labels')\n",
    "plt.title('Confusion Matrix')\n",
    "plt.savefig(results_dir + 'confusion.png', dpi=900)\n",
    "plt.show()"
   ],
   "metadata": {
    "collapsed": false
   }
  },
  {
   "cell_type": "code",
   "execution_count": 668,
   "outputs": [],
   "source": [],
   "metadata": {
    "collapsed": false
   }
  }
 ],
 "metadata": {
  "kernelspec": {
   "display_name": "Python 3",
   "language": "python",
   "name": "python3"
  },
  "language_info": {
   "codemirror_mode": {
    "name": "ipython",
    "version": 2
   },
   "file_extension": ".py",
   "mimetype": "text/x-python",
   "name": "python",
   "nbconvert_exporter": "python",
   "pygments_lexer": "ipython2",
   "version": "2.7.6"
  }
 },
 "nbformat": 4,
 "nbformat_minor": 0
}
